{
 "cells": [
  {
   "cell_type": "markdown",
   "metadata": {},
   "source": [
    "# Packages"
   ]
  },
  {
   "cell_type": "code",
   "execution_count": 1,
   "metadata": {},
   "outputs": [],
   "source": [
    "import os\n",
    "import itertools\n",
    "import numpy as np\n",
    "import math as math\n",
    "import pandas as pd \n",
    "import random as random\n",
    "import matplotlib.pyplot as plt\n",
    "from scipy.stats import wilcoxon\n",
    "\n",
    "import sys\n",
    "sys.path.append('..')\n",
    "from utils.Auxiliary import *"
   ]
  },
  {
   "cell_type": "markdown",
   "metadata": {},
   "source": [
    "# Input\n"
   ]
  },
  {
   "cell_type": "code",
   "execution_count": 2,
   "metadata": {},
   "outputs": [
    {
     "name": "stdout",
     "output_type": "stream",
     "text": [
      "File not found: /Users/simondn/Documents/RashomonActiveLearning/Results/Iris/RandomForestClassification/ProcessedResults/ErrorVec/PLA0_ErrorMatrix.csv\n",
      "File not found: /Users/simondn/Documents/RashomonActiveLearning/Results/Iris/RandomForestClassification/ProcessedResults/ElapsedTime/PLA0_TimeMatrix.csv\n",
      "File not found: /Users/simondn/Documents/RashomonActiveLearning/Results/Iris/RandomForestClassification/ProcessedResults/SelectionHistory/PLA0_SelectionHistory.csv\n",
      "File not found: /Users/simondn/Documents/RashomonActiveLearning/Results/Iris/RandomForestClassification/ProcessedResults/ErrorVec/RFA0_ErrorMatrix.csv\n",
      "File not found: /Users/simondn/Documents/RashomonActiveLearning/Results/Iris/RandomForestClassification/ProcessedResults/ElapsedTime/RFA0_TimeMatrix.csv\n",
      "File not found: /Users/simondn/Documents/RashomonActiveLearning/Results/Iris/RandomForestClassification/ProcessedResults/SelectionHistory/RFA0_SelectionHistory.csv\n",
      "File not found: /Users/simondn/Documents/RashomonActiveLearning/Results/Iris/TreeFarms/ProcessedResults/ErrorVec/UA0.025_ErrorMatrix.csv\n",
      "File not found: /Users/simondn/Documents/RashomonActiveLearning/Results/Iris/TreeFarms/ProcessedResults/ErrorVec/DA0.025_ErrorMatrix.csv\n",
      "File not found: /Users/simondn/Documents/RashomonActiveLearning/Results/Iris/TreeFarms/ProcessedResults/ElapsedTime/UA0.025_TimeMatrix.csv\n",
      "File not found: /Users/simondn/Documents/RashomonActiveLearning/Results/Iris/TreeFarms/ProcessedResults/ElapsedTime/DA0.025_TimeMatrix.csv\n",
      "File not found: /Users/simondn/Documents/RashomonActiveLearning/Results/Iris/TreeFarms/ProcessedResults/SelectionHistory/UA0.025_SelectionHistory.csv\n",
      "File not found: /Users/simondn/Documents/RashomonActiveLearning/Results/Iris/TreeFarms/ProcessedResults/SelectionHistory/DA0.025_SelectionHistory.csv\n",
      "File not found: /Users/simondn/Documents/RashomonActiveLearning/Results/Iris/TreeFarms/ProcessedResults/TreeCount/UA0.025_UniqueTreeCount.csv\n",
      "File not found: /Users/simondn/Documents/RashomonActiveLearning/Results/Iris/TreeFarms/ProcessedResults/TreeCount/DA0.025_UniqueTreeCount.csv\n",
      "File not found: /Users/simondn/Documents/RashomonActiveLearning/Results/Iris/TreeFarms/ProcessedResults/TreeCount/UA0.025_AllTreeCount.csv\n",
      "File not found: /Users/simondn/Documents/RashomonActiveLearning/Results/Iris/TreeFarms/ProcessedResults/TreeCount/DA0.025_AllTreeCount.csv\n"
     ]
    }
   ],
   "source": [
    "DataType = \"Iris\"\n",
    "BaseDirectory = \"/Users/simondn/Documents/RashomonActiveLearning/Results/\"\n",
    "PassiveLearningRF = LoadAnalyzedData(DataType, BaseDirectory, \"RandomForestClassification\", \"PLA0\")\n",
    "RandomForestResults = LoadAnalyzedData(DataType, BaseDirectory, \"RandomForestClassification\", \"RFA0\")\n",
    "AnalyzedDataUNREALDUREAL = LoadAnalyzedData(DataType, BaseDirectory, \"TreeFarms\", 0.025)"
   ]
  },
  {
   "cell_type": "markdown",
   "metadata": {},
   "source": [
    "# Shape"
   ]
  },
  {
   "cell_type": "code",
   "execution_count": null,
   "metadata": {},
   "outputs": [],
   "source": [
    "ShapeTable = {\"DUREAL\":[AnalyzedDataUNREALDUREAL[\"Error_DUREAL\"].shape[0]],\n",
    "              \"UNREAL\": [AnalyzedDataUNREALDUREAL[\"Error_UNREAL\"].shape[0]]}\n",
    "ShapeTable = pd.DataFrame(ShapeTable)\n",
    "ShapeTable"
   ]
  },
  {
   "cell_type": "markdown",
   "metadata": {},
   "source": [
    "# Run Time"
   ]
  },
  {
   "cell_type": "code",
   "execution_count": null,
   "metadata": {},
   "outputs": [],
   "source": [
    "TimeTable = {\"DUREAL Mean\":[str(round(np.mean(AnalyzedDataUNREALDUREAL[\"Time_DUREAL\"])/60,2))],\n",
    "              \"UNREAL Mean\": [str(round(np.mean(AnalyzedDataUNREALDUREAL[\"Time_UNREAL\"])/60,2))],\n",
    "                \"DUREAL max\":[str(round(np.max(AnalyzedDataUNREALDUREAL[\"Time_DUREAL\"])/60,2))],\n",
    "              \"UNREAL max\": [str(round(np.max(AnalyzedDataUNREALDUREAL[\"Time_UNREAL\"])/60,2))]\n",
    "                         }\n",
    "TimeTable = pd.DataFrame(TimeTable)\n",
    "# TimeTable.index = range(10,30,5)\n",
    "TimeTable"
   ]
  },
  {
   "cell_type": "markdown",
   "metadata": {},
   "source": [
    "# Error Vec"
   ]
  },
  {
   "cell_type": "code",
   "execution_count": null,
   "metadata": {},
   "outputs": [],
   "source": [
    "### Set Up ###\n",
    "PlotSubtitle = f\"Dataset: {DataType}\"\n",
    "colors = {\n",
    "    \"PassiveLearning\": \"black\",\n",
    "    \"RandomForest\": \"green\",\n",
    "    \"DUREAL\": \"orange\",\n",
    "    \"UNREAL\": \"blue\"\n",
    "}\n",
    "\n",
    "linestyles = {\n",
    "    \"PassiveLearning\": \"solid\",\n",
    "    \"RandomForest\": \"solid\",\n",
    "    \"DUREAL\": \"solid\",\n",
    "    \"UNREAL\": \"solid\"\n",
    "}\n",
    "\n",
    "LegendMapping = {\n",
    "    \"DUREAL\": \"DUREAL (ε = 0.xxx)\",\n",
    "    \"UNREAL\": \"UNREAL (ε = 0.xxx)\",\n",
    "}\n",
    "\n",
    "# markerstyles = {\n",
    "#     \"PassiveLearning\": \"^\",\n",
    "#     \"RandomForest\": \"^\",\n",
    "#     \"DUREAL\": \"^\",\n",
    "#     \"UNREAL\": \"^\"\n",
    "# }\n",
    "\n",
    "### Figure ##\n",
    "MeanPlot = MeanVariancePlot(RelativeError = None,\n",
    "                 PassiveLearning = PassiveLearningRF[\"Error\"],\n",
    "                 RandomForest = RandomForestResults[\"Error\"],\n",
    "                 DUREAL = AnalyzedDataUNREALDUREAL[\"Error_DUREAL\"],\n",
    "                 UNREAL = AnalyzedDataUNREALDUREAL[\"Error_UNREAL\"],\n",
    "                 Colors = colors,\n",
    "                LegendMapping=LegendMapping,\n",
    "                 Linestyles=linestyles,\n",
    "                #  Markerstyles = markerstyles,\n",
    "                # xlim = [20,40],\n",
    "                Y_Label = \"F1 Score\",\n",
    "                 Subtitle = PlotSubtitle,\n",
    "                 TransparencyVal = 0.05,\n",
    "                 VarInput = True,\n",
    "                #  FigSize = (10,5),\n",
    "                 CriticalValue = 1.96)"
   ]
  },
  {
   "cell_type": "markdown",
   "metadata": {},
   "source": [
    "# Number of All Trees"
   ]
  },
  {
   "cell_type": "code",
   "execution_count": null,
   "metadata": {},
   "outputs": [],
   "source": [
    "### Line Styles ###\n",
    "# linestyles = {\"DUREAL005\" : \"solid\",\n",
    "# \"DUREAL010\" : \"solid\",\n",
    "# \"DUREAL015\" : \"solid\",\n",
    "# \"DUREAL020\" : \"solid\",\n",
    "# \"DUREAL025\" : \"solid\"\n",
    "# }\n",
    "\n",
    "### Figure ##\n",
    "MeanPlot = MeanVariancePlot(RelativeError = None,\n",
    "                 DUREAL = np.log(AnalyzedDataUNREALDUREAL[\"TreeCounts_ALL_UNREAL\"]),\n",
    "                 UNREAL = np.log(AnalyzedDataUNREALDUREAL[\"TreeCounts_UNIQUE_UNREAL\"]),\n",
    "                Colors = colors,\n",
    "                 LegendMapping=LegendMapping,\n",
    "                 Linestyles=linestyles,\n",
    "                # xlim = [20,50],\n",
    "                Y_Label = \"log(Number of Trees in the Rashomon Set)\",\n",
    "                 Subtitle = PlotSubtitle,\n",
    "                 TransparencyVal = 0.05,\n",
    "                 VarInput = False,\n",
    "                #  FigSize = (10,5),\n",
    "                 CriticalValue = 1.96)"
   ]
  },
  {
   "cell_type": "markdown",
   "metadata": {},
   "source": [
    "# Wilcoxon Ranked Signed Test"
   ]
  },
  {
   "cell_type": "code",
   "execution_count": null,
   "metadata": {},
   "outputs": [],
   "source": [
    "WRSTResults = WilcoxonRankSignedTest({\n",
    "    \"PassiveLearning\" :PassiveLearningRF[\"Error\"],\n",
    "    \"RandomForest\" : RandomForestResults[\"Error\"],\n",
    "    \"UNREAL\" : AnalyzedDataUNREALDUREAL[\"Error_UNREAL\"],\n",
    "    \"DUREAL\" : AnalyzedDataUNREALDUREAL[\"Error_DUREAL\"]},\n",
    "    5)\n",
    "\n",
    "WRSTResults_LatexTable = WRSTResults.to_latex()\n",
    "print(WRSTResults_LatexTable)"
   ]
  },
  {
   "cell_type": "markdown",
   "metadata": {},
   "source": [
    "# Selection History"
   ]
  },
  {
   "cell_type": "code",
   "execution_count": null,
   "metadata": {},
   "outputs": [],
   "source": [
    "# SelectionHistoryRank_RF = SelectionHistoryRankFunction(RandomForestResults[\"SelectionHistory_RF\"], DataType = DataType)\n",
    "# SelectionHistoryRank_UNREAL = SelectionHistoryRankFunction(AnalyzedDataUNREALDUREAL[\"SelectionHistory_UNREAL\"], DataType = DataType)\n",
    "# SelectionHistoryRank_DUREAL = SelectionHistoryRankFunction(AnalyzedDataUNREALDUREAL[\"SelectionHistory_DUREAL\"], DataType = DataType)\n",
    "# SelectionHistoryRank_RF.sort_values(by = \"AverageRank\").head()\n",
    "# SelectionHistoryRank_UNREAL.sort_values(by = \"AverageRank\").head()\n",
    "# SelectionHistoryRank_DUREAL.sort_values(by = \"AverageRank\").head()"
   ]
  }
 ],
 "metadata": {
  "kernelspec": {
   "display_name": "rashomon-3.9",
   "language": "python",
   "name": "python3"
  },
  "language_info": {
   "codemirror_mode": {
    "name": "ipython",
    "version": 3
   },
   "file_extension": ".py",
   "mimetype": "text/x-python",
   "name": "python",
   "nbconvert_exporter": "python",
   "pygments_lexer": "ipython3",
   "version": "3.9.20"
  }
 },
 "nbformat": 4,
 "nbformat_minor": 2
}

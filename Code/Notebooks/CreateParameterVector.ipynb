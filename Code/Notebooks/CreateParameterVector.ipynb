{
 "cells": [
  {
   "cell_type": "markdown",
   "metadata": {},
   "source": [
    "# Packages"
   ]
  },
  {
   "cell_type": "code",
   "execution_count": 1,
   "metadata": {},
   "outputs": [],
   "source": [
    "### Import packages ###\n",
    "import itertools\n",
    "import numpy as np\n",
    "import pandas as pd\n",
    "import sys\n",
    "sys.path.append('..')\n",
    "from utils.Auxiliary import CreateParameterVectorFunction\n",
    "from utils.Auxiliary import FilterJobNames"
   ]
  },
  {
   "cell_type": "markdown",
   "metadata": {},
   "source": [
    "---"
   ]
  },
  {
   "cell_type": "markdown",
   "metadata": {},
   "source": [
    "# Create Parameter Vector"
   ]
  },
  {
   "cell_type": "code",
   "execution_count": 2,
   "metadata": {},
   "outputs": [],
   "source": [
    "# Data: Iris  MONK1  MONK3  Bar7 (10)  COMPAS (50) | BankNote (10)  BreastCancer (5)  CarEvaluation (10)  FICO (50)  Haberman\n",
    "Data = \"BankNote\"\n",
    "ParameterVector = CreateParameterVectorFunction(Data = Data,\n",
    "                                  Seed = range(0,3),                     # range(0,50)\n",
    "                                  RashomonThreshold = 0.025,        # For TreeFarms\n",
    "                                  DiversityWeight = 0.333,          # For BatchQBC\n",
    "                                  DensityWeight = 0.333,            # For BatchQBC\n",
    "                                  BatchSize = 10,                           # 1 5 or 10\n",
    "                                  Partition = \"short\",                                # [short, medium, long, largemem, compute, cpu-g2-mem2x]\n",
    "                                  Time = \"00:59:00\",                                     # [00:59:00, 11:59:00, 6-23:59:00]\n",
    "                                  Memory = \"30000M\",                                   # [100M, 30000M, 100000M]\n",
    "                                  IncludePL_RF=True,       # Passive Learning with RandomForestClassifierPredictor\n",
    "                                  IncludePL_GPC=True,      # Passive Learning with GaussianProcessClassifierPredictor\n",
    "                                  IncludePL_BNN=True,      # Passive Learning with BayesianNeuralNetworkPredictor\n",
    "                                  IncludeBALD_BNN=True,    # BALD with BayesianNeuralNetworkPredictor\n",
    "                                  IncludeBALD_GPC=True,    # BALD with GaussianProcessClassifierPredictor\n",
    "                                  IncludeQBC_TreeFarms_Unique=True, # BatchQBC with TreeFarmsPredictor (UniqueErrorsInput=1)\n",
    "                                  IncludeQBC_TreeFarms_Duplicate=True, # BatchQBC with TreeFarmsPredictor (UniqueErrorsInput=0)\n",
    "                                  IncludeQBC_RF=True,      # BatchQBC with RandomForestClassifierPredictor\n",
    "                                  IncludeLFR_TreeFarms=False, # NEW: For TreefarmsLFRPredictor (requires RefitFrequency)\n",
    "                                  RefitFrequency=1          # Default refit frequency for LFR (1 = every iter)\n",
    "                                  )"
   ]
  },
  {
   "cell_type": "markdown",
   "metadata": {},
   "source": [
    "# Evaluate"
   ]
  },
  {
   "cell_type": "code",
   "execution_count": 3,
   "metadata": {},
   "outputs": [
    {
     "data": {
      "application/vnd.microsoft.datawrangler.viewer.v0+json": {
       "columns": [
        {
         "name": "index",
         "rawType": "int64",
         "type": "integer"
        },
        {
         "name": "Output",
         "rawType": "object",
         "type": "string"
        }
       ],
       "ref": "e35a5f6b-2266-4b47-971b-c833e5094101",
       "rows": [
        [
         "0",
         "BankNote/RandomForestClassifierPredictor/Raw/0BN_PL_B10_HS0_DR0_E0_LR0_BST0_K0_KT_KLS0_KNU0.pkl"
        ],
        [
         "1",
         "BankNote/TreeFarmsPredictor/Raw/0BN_MTTreeFarmsPredictor_STBatchQBCSelector_UEI0A025_DW333_DEW333_B10_HS0_DR0_E0_LR0_BST0_K0_KT_KLS0_KNU0.pkl"
        ],
        [
         "2",
         "BankNote/RandomForestClassifierPredictor/Raw/0BN_MTRandomForestClassifierPredictor_STBatchQBCSelector_UEI0A0_DW333_DEW333_B10_HS0_DR0_E0_LR0_BST0_K0_KT_KLS0_KNU0.pkl"
        ],
        [
         "3",
         "BankNote/GaussianProcessClassifierPredictor/Raw/0BN_PL_GPC_B10_HS0_DR0_E0_LR0_BST0_K0_KTRBF_KLS1_KNU1.5.pkl"
        ],
        [
         "4",
         "BankNote/GaussianProcessClassifierPredictor/Raw/0BN_BALD_GPC_B10_HS0_DR0_E0_LR0_BST0_K20_KTRBF_KLS1_KNU1.5.pkl"
        ],
        [
         "5",
         "BankNote/BayesianNeuralNetworkPredictor/Raw/0BN_PL_BNN_B10_HS50_DR2_E100_LR001_BST32_K20_KT_KLS0_KNU0.pkl"
        ],
        [
         "6",
         "BankNote/TreeFarmsPredictor/Raw/0BN_MTTreeFarmsPredictor_STBatchQBCSelector_UEI1A025_DW333_DEW333_B10_HS0_DR0_E0_LR0_BST0_K0_KT_KLS0_KNU0.pkl"
        ],
        [
         "7",
         "BankNote/BayesianNeuralNetworkPredictor/Raw/0BN_BALD_B10_HS50_DR2_E100_LR001_BST32_K20_KT_KLS0_KNU0.pkl"
        ],
        [
         "8",
         "BankNote/GaussianProcessClassifierPredictor/Raw/1BN_BALD_GPC_B10_HS0_DR0_E0_LR0_BST0_K20_KTRBF_KLS1_KNU1.5.pkl"
        ],
        [
         "9",
         "BankNote/RandomForestClassifierPredictor/Raw/1BN_MTRandomForestClassifierPredictor_STBatchQBCSelector_UEI0A0_DW333_DEW333_B10_HS0_DR0_E0_LR0_BST0_K0_KT_KLS0_KNU0.pkl"
        ],
        [
         "10",
         "BankNote/TreeFarmsPredictor/Raw/1BN_MTTreeFarmsPredictor_STBatchQBCSelector_UEI0A025_DW333_DEW333_B10_HS0_DR0_E0_LR0_BST0_K0_KT_KLS0_KNU0.pkl"
        ],
        [
         "11",
         "BankNote/BayesianNeuralNetworkPredictor/Raw/1BN_PL_BNN_B10_HS50_DR2_E100_LR001_BST32_K20_KT_KLS0_KNU0.pkl"
        ],
        [
         "12",
         "BankNote/GaussianProcessClassifierPredictor/Raw/1BN_PL_GPC_B10_HS0_DR0_E0_LR0_BST0_K0_KTRBF_KLS1_KNU1.5.pkl"
        ],
        [
         "13",
         "BankNote/RandomForestClassifierPredictor/Raw/1BN_PL_B10_HS0_DR0_E0_LR0_BST0_K0_KT_KLS0_KNU0.pkl"
        ],
        [
         "14",
         "BankNote/BayesianNeuralNetworkPredictor/Raw/1BN_BALD_B10_HS50_DR2_E100_LR001_BST32_K20_KT_KLS0_KNU0.pkl"
        ],
        [
         "15",
         "BankNote/TreeFarmsPredictor/Raw/1BN_MTTreeFarmsPredictor_STBatchQBCSelector_UEI1A025_DW333_DEW333_B10_HS0_DR0_E0_LR0_BST0_K0_KT_KLS0_KNU0.pkl"
        ],
        [
         "16",
         "BankNote/TreeFarmsPredictor/Raw/2BN_MTTreeFarmsPredictor_STBatchQBCSelector_UEI0A025_DW333_DEW333_B10_HS0_DR0_E0_LR0_BST0_K0_KT_KLS0_KNU0.pkl"
        ],
        [
         "17",
         "BankNote/BayesianNeuralNetworkPredictor/Raw/2BN_BALD_B10_HS50_DR2_E100_LR001_BST32_K20_KT_KLS0_KNU0.pkl"
        ],
        [
         "18",
         "BankNote/GaussianProcessClassifierPredictor/Raw/2BN_BALD_GPC_B10_HS0_DR0_E0_LR0_BST0_K20_KTRBF_KLS1_KNU1.5.pkl"
        ],
        [
         "19",
         "BankNote/BayesianNeuralNetworkPredictor/Raw/2BN_PL_BNN_B10_HS50_DR2_E100_LR001_BST32_K20_KT_KLS0_KNU0.pkl"
        ],
        [
         "20",
         "BankNote/GaussianProcessClassifierPredictor/Raw/2BN_PL_GPC_B10_HS0_DR0_E0_LR0_BST0_K0_KTRBF_KLS1_KNU1.5.pkl"
        ],
        [
         "21",
         "BankNote/RandomForestClassifierPredictor/Raw/2BN_PL_B10_HS0_DR0_E0_LR0_BST0_K0_KT_KLS0_KNU0.pkl"
        ],
        [
         "22",
         "BankNote/TreeFarmsPredictor/Raw/2BN_MTTreeFarmsPredictor_STBatchQBCSelector_UEI1A025_DW333_DEW333_B10_HS0_DR0_E0_LR0_BST0_K0_KT_KLS0_KNU0.pkl"
        ],
        [
         "23",
         "BankNote/RandomForestClassifierPredictor/Raw/2BN_MTRandomForestClassifierPredictor_STBatchQBCSelector_UEI0A0_DW333_DEW333_B10_HS0_DR0_E0_LR0_BST0_K0_KT_KLS0_KNU0.pkl"
        ]
       ],
       "shape": {
        "columns": 1,
        "rows": 24
       }
      },
      "text/plain": [
       "0     BankNote/RandomForestClassifierPredictor/Raw/0...\n",
       "1     BankNote/TreeFarmsPredictor/Raw/0BN_MTTreeFarm...\n",
       "2     BankNote/RandomForestClassifierPredictor/Raw/0...\n",
       "3     BankNote/GaussianProcessClassifierPredictor/Ra...\n",
       "4     BankNote/GaussianProcessClassifierPredictor/Ra...\n",
       "5     BankNote/BayesianNeuralNetworkPredictor/Raw/0B...\n",
       "6     BankNote/TreeFarmsPredictor/Raw/0BN_MTTreeFarm...\n",
       "7     BankNote/BayesianNeuralNetworkPredictor/Raw/0B...\n",
       "8     BankNote/GaussianProcessClassifierPredictor/Ra...\n",
       "9     BankNote/RandomForestClassifierPredictor/Raw/1...\n",
       "10    BankNote/TreeFarmsPredictor/Raw/1BN_MTTreeFarm...\n",
       "11    BankNote/BayesianNeuralNetworkPredictor/Raw/1B...\n",
       "12    BankNote/GaussianProcessClassifierPredictor/Ra...\n",
       "13    BankNote/RandomForestClassifierPredictor/Raw/1...\n",
       "14    BankNote/BayesianNeuralNetworkPredictor/Raw/1B...\n",
       "15    BankNote/TreeFarmsPredictor/Raw/1BN_MTTreeFarm...\n",
       "16    BankNote/TreeFarmsPredictor/Raw/2BN_MTTreeFarm...\n",
       "17    BankNote/BayesianNeuralNetworkPredictor/Raw/2B...\n",
       "18    BankNote/GaussianProcessClassifierPredictor/Ra...\n",
       "19    BankNote/BayesianNeuralNetworkPredictor/Raw/2B...\n",
       "20    BankNote/GaussianProcessClassifierPredictor/Ra...\n",
       "21    BankNote/RandomForestClassifierPredictor/Raw/2...\n",
       "22    BankNote/TreeFarmsPredictor/Raw/2BN_MTTreeFarm...\n",
       "23    BankNote/RandomForestClassifierPredictor/Raw/2...\n",
       "Name: Output, dtype: object"
      ]
     },
     "execution_count": 3,
     "metadata": {},
     "output_type": "execute_result"
    }
   ],
   "source": [
    "ParameterVector[\"Output\"]"
   ]
  },
  {
   "cell_type": "markdown",
   "metadata": {},
   "source": [
    "# Only run these ones"
   ]
  },
  {
   "cell_type": "code",
   "execution_count": 4,
   "metadata": {},
   "outputs": [],
   "source": [
    "# # ### Simulations that failed ###\n",
    "# FilterText = ['26B7_UA02']\n",
    "# ParameterVector = FilterJobNames(ParameterVector,FilterText)\n",
    "# ParameterVector.index = range(0,len(ParameterVector))\n",
    "# ParameterVector"
   ]
  },
  {
   "cell_type": "markdown",
   "metadata": {},
   "source": [
    "---"
   ]
  },
  {
   "cell_type": "markdown",
   "metadata": {},
   "source": [
    "# Save Parameter Vector"
   ]
  },
  {
   "cell_type": "code",
   "execution_count": 5,
   "metadata": {},
   "outputs": [],
   "source": [
    "### Resave ###\n",
    "output_path = \"/Users/simondn/Documents/RashomonActiveLearning/Data/ParameterVectors/ParameterVector\" + str(Data) + \".csv\"\n",
    "ParameterVector.to_csv(output_path, index=False)"
   ]
  }
 ],
 "metadata": {
  "kernelspec": {
   "display_name": "Python 3",
   "language": "python",
   "name": "python3"
  },
  "language_info": {
   "codemirror_mode": {
    "name": "ipython",
    "version": 3
   },
   "file_extension": ".py",
   "mimetype": "text/x-python",
   "name": "python",
   "nbconvert_exporter": "python",
   "pygments_lexer": "ipython3",
   "version": "3.9.6"
  }
 },
 "nbformat": 4,
 "nbformat_minor": 2
}

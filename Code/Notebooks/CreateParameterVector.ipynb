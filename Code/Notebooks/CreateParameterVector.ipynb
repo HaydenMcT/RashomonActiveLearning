{
 "cells": [
  {
   "cell_type": "markdown",
   "metadata": {},
   "source": [
    "# Packages"
   ]
  },
  {
   "cell_type": "code",
   "execution_count": 1,
   "metadata": {},
   "outputs": [],
   "source": [
    "### Import packages ###\n",
    "import itertools\n",
    "import numpy as np\n",
    "import pandas as pd\n",
    "import sys\n",
    "sys.path.append('..')\n",
    "from utils.Auxiliary import CreateParameterVectorFunction\n",
    "from utils.Auxiliary import FilterJobNames"
   ]
  },
  {
   "cell_type": "markdown",
   "metadata": {},
   "source": [
    "---"
   ]
  },
  {
   "cell_type": "markdown",
   "metadata": {},
   "source": [
    "# Create Parameter Vector"
   ]
  },
  {
   "cell_type": "code",
   "execution_count": 2,
   "metadata": {},
   "outputs": [],
   "source": [
    "# Done: Iris, MONK1, MONK3, Haberman\n",
    "# Running: Bar7 (need one more)\n",
    "# Running: FICO, COMPAS "
   ]
  },
  {
   "cell_type": "code",
   "execution_count": 3,
   "metadata": {},
   "outputs": [],
   "source": [
    "# Data: Iris  MONK1  MONK3  Bar7 (10)  COMPAS (50) | BankNote (10)  BreastCancer (5)  CarEvaluation (10)  FICO (50)  Haberman\n",
    "Data = \"FICO\"\n",
    "ParameterVector = CreateParameterVectorFunction(Data = Data,\n",
    "                                  Seed = range(0,50),                     # range(0,50)\n",
    "                                  RashomonThreshold = 0.5,        # For TreeFarms\n",
    "                                  DiversityWeight = 0,          # For BatchQBC\n",
    "                                  DensityWeight = 0,            # For BatchQBC\n",
    "                                  BatchSize = 1,                           # 1 5 or 10\n",
    "                                  Partition = \"short\",                                # [short, medium, long, largemem, compute, cpu-g2-mem2x]\n",
    "                                  Time = \"11:59:00\",                                     # [00:59:00, 11:59:00, 6-23:59:00]\n",
    "                                  Memory = \"30000M\",                                   # [100M, 30000M, 100000M]\n",
    "                                  IncludePL_RF=True,       # Passive Learning with RandomForestClassifierPredictor\n",
    "                                  IncludePL_GPC=True,      # Passive Learning with GaussianProcessClassifierPredictor\n",
    "                                  IncludePL_BNN=True,      # Passive Learning with BayesianNeuralNetworkPredictor\n",
    "                                  IncludeBALD_BNN=True,    # BALD with BayesianNeuralNetworkPredictor\n",
    "                                  IncludeBALD_GPC=True,    # BALD with GaussianProcessClassifierPredictor\n",
    "                                  IncludeQBC_TreeFarms_Unique=False, # BatchQBC with TreeFarmsPredictor (UniqueErrorsInput=1)\n",
    "                                  IncludeQBC_TreeFarms_Duplicate=False, # BatchQBC with TreeFarmsPredictor (UniqueErrorsInput=0)\n",
    "                                  IncludeQBC_RF=True,      # BatchQBC with RandomForestClassifierPredictor\n",
    "                                  IncludeLFR_TreeFarms_Unique=True, #BatchQBC with LFRPredictor (UniqueErrorsInput=1)\n",
    "                                  IncludeLFR_TreeFarms_Duplicate=True #BatchQBC with LFRPredictor (UniqueErrorsInput=0)\n",
    "                                  )"
   ]
  },
  {
   "cell_type": "markdown",
   "metadata": {},
   "source": [
    "# Evaluate"
   ]
  },
  {
   "cell_type": "code",
   "execution_count": 4,
   "metadata": {},
   "outputs": [
    {
     "data": {
      "application/vnd.microsoft.datawrangler.viewer.v0+json": {
       "columns": [
        {
         "name": "index",
         "rawType": "int64",
         "type": "integer"
        },
        {
         "name": "JobName",
         "rawType": "object",
         "type": "string"
        }
       ],
       "ref": "c4020b7c-7160-447d-967f-cb0e354ce64c",
       "rows": [
        [
         "0",
         "0FI_RF_PL_B1"
        ],
        [
         "1",
         "0FI_GPC_PL_B1_KTRBF_KLS1_KNU1.5"
        ],
        [
         "2",
         "0FI_Dlfr_A5_DW0_DEW0_B1"
        ],
        [
         "3",
         "0FI_RF_QBC_DW0_DEW0_B1"
        ],
        [
         "4",
         "0FI_GPC_BALD_B1_KTRBF_KLS1_KNU1.5_K20"
        ],
        [
         "5",
         "0FI_Ulfr_A5_DW0_DEW0_B1"
        ],
        [
         "6",
         "0FI_BNN_BALD_B1_HS50_DR2_E100_LR001_BST32_K20"
        ],
        [
         "7",
         "0FI_BNN_PL_B1_HS50_DR2_E100_LR001_BST32"
        ],
        [
         "8",
         "1FI_GPC_PL_B1_KTRBF_KLS1_KNU1.5"
        ],
        [
         "9",
         "1FI_Dlfr_A5_DW0_DEW0_B1"
        ],
        [
         "10",
         "1FI_RF_QBC_DW0_DEW0_B1"
        ],
        [
         "11",
         "1FI_GPC_BALD_B1_KTRBF_KLS1_KNU1.5_K20"
        ],
        [
         "12",
         "1FI_BNN_BALD_B1_HS50_DR2_E100_LR001_BST32_K20"
        ],
        [
         "13",
         "1FI_Ulfr_A5_DW0_DEW0_B1"
        ],
        [
         "14",
         "1FI_BNN_PL_B1_HS50_DR2_E100_LR001_BST32"
        ],
        [
         "15",
         "1FI_RF_PL_B1"
        ],
        [
         "16",
         "2FI_BNN_PL_B1_HS50_DR2_E100_LR001_BST32"
        ],
        [
         "17",
         "2FI_RF_QBC_DW0_DEW0_B1"
        ],
        [
         "18",
         "2FI_BNN_BALD_B1_HS50_DR2_E100_LR001_BST32_K20"
        ],
        [
         "19",
         "2FI_GPC_BALD_B1_KTRBF_KLS1_KNU1.5_K20"
        ],
        [
         "20",
         "2FI_GPC_PL_B1_KTRBF_KLS1_KNU1.5"
        ],
        [
         "21",
         "2FI_RF_PL_B1"
        ],
        [
         "22",
         "2FI_Dlfr_A5_DW0_DEW0_B1"
        ],
        [
         "23",
         "2FI_Ulfr_A5_DW0_DEW0_B1"
        ],
        [
         "24",
         "3FI_GPC_BALD_B1_KTRBF_KLS1_KNU1.5_K20"
        ],
        [
         "25",
         "3FI_RF_PL_B1"
        ],
        [
         "26",
         "3FI_Dlfr_A5_DW0_DEW0_B1"
        ],
        [
         "27",
         "3FI_RF_QBC_DW0_DEW0_B1"
        ],
        [
         "28",
         "3FI_Ulfr_A5_DW0_DEW0_B1"
        ],
        [
         "29",
         "3FI_GPC_PL_B1_KTRBF_KLS1_KNU1.5"
        ],
        [
         "30",
         "3FI_BNN_BALD_B1_HS50_DR2_E100_LR001_BST32_K20"
        ],
        [
         "31",
         "3FI_BNN_PL_B1_HS50_DR2_E100_LR001_BST32"
        ],
        [
         "32",
         "4FI_GPC_BALD_B1_KTRBF_KLS1_KNU1.5_K20"
        ],
        [
         "33",
         "4FI_Dlfr_A5_DW0_DEW0_B1"
        ],
        [
         "34",
         "4FI_Ulfr_A5_DW0_DEW0_B1"
        ],
        [
         "35",
         "4FI_RF_PL_B1"
        ],
        [
         "36",
         "4FI_BNN_BALD_B1_HS50_DR2_E100_LR001_BST32_K20"
        ],
        [
         "37",
         "4FI_BNN_PL_B1_HS50_DR2_E100_LR001_BST32"
        ],
        [
         "38",
         "4FI_RF_QBC_DW0_DEW0_B1"
        ],
        [
         "39",
         "4FI_GPC_PL_B1_KTRBF_KLS1_KNU1.5"
        ],
        [
         "40",
         "5FI_RF_PL_B1"
        ],
        [
         "41",
         "5FI_GPC_BALD_B1_KTRBF_KLS1_KNU1.5_K20"
        ],
        [
         "42",
         "5FI_Dlfr_A5_DW0_DEW0_B1"
        ],
        [
         "43",
         "5FI_BNN_PL_B1_HS50_DR2_E100_LR001_BST32"
        ],
        [
         "44",
         "5FI_Ulfr_A5_DW0_DEW0_B1"
        ],
        [
         "45",
         "5FI_BNN_BALD_B1_HS50_DR2_E100_LR001_BST32_K20"
        ],
        [
         "46",
         "5FI_RF_QBC_DW0_DEW0_B1"
        ],
        [
         "47",
         "5FI_GPC_PL_B1_KTRBF_KLS1_KNU1.5"
        ],
        [
         "48",
         "6FI_RF_PL_B1"
        ],
        [
         "49",
         "6FI_RF_QBC_DW0_DEW0_B1"
        ]
       ],
       "shape": {
        "columns": 1,
        "rows": 400
       }
      },
      "text/plain": [
       "0                                  0FI_RF_PL_B1\n",
       "1               0FI_GPC_PL_B1_KTRBF_KLS1_KNU1.5\n",
       "2                       0FI_Dlfr_A5_DW0_DEW0_B1\n",
       "3                        0FI_RF_QBC_DW0_DEW0_B1\n",
       "4         0FI_GPC_BALD_B1_KTRBF_KLS1_KNU1.5_K20\n",
       "                         ...                   \n",
       "395    49FI_BNN_PL_B1_HS50_DR2_E100_LR001_BST32\n",
       "396            49FI_GPC_PL_B1_KTRBF_KLS1_KNU1.5\n",
       "397                               49FI_RF_PL_B1\n",
       "398                    49FI_Ulfr_A5_DW0_DEW0_B1\n",
       "399                    49FI_Dlfr_A5_DW0_DEW0_B1\n",
       "Name: JobName, Length: 400, dtype: object"
      ]
     },
     "execution_count": 4,
     "metadata": {},
     "output_type": "execute_result"
    }
   ],
   "source": [
    "ParameterVector[\"JobName\"]"
   ]
  },
  {
   "cell_type": "code",
   "execution_count": 5,
   "metadata": {},
   "outputs": [
    {
     "data": {
      "application/vnd.microsoft.datawrangler.viewer.v0+json": {
       "columns": [
        {
         "name": "index",
         "rawType": "int64",
         "type": "integer"
        },
        {
         "name": "Output",
         "rawType": "object",
         "type": "string"
        }
       ],
       "ref": "c031bc0a-2ec0-4dd3-b310-f456f90816fe",
       "rows": [
        [
         "0",
         "FICO/RandomForestClassifierPredictor/Raw/0FI_RF_PL_B1.pkl"
        ],
        [
         "1",
         "FICO/GaussianProcessClassifierPredictor/Raw/0FI_GPC_PL_B1_KTRBF_KLS1_KNU1.5.pkl"
        ],
        [
         "2",
         "FICO/LFRPredictor/Raw/0FI_Dlfr_A5_DW0_DEW0_B1.pkl"
        ],
        [
         "3",
         "FICO/RandomForestClassifierPredictor/Raw/0FI_RF_QBC_DW0_DEW0_B1.pkl"
        ],
        [
         "4",
         "FICO/GaussianProcessClassifierPredictor/Raw/0FI_GPC_BALD_B1_KTRBF_KLS1_KNU1.5_K20.pkl"
        ],
        [
         "5",
         "FICO/LFRPredictor/Raw/0FI_Ulfr_A5_DW0_DEW0_B1.pkl"
        ],
        [
         "6",
         "FICO/BayesianNeuralNetworkPredictor/Raw/0FI_BNN_BALD_B1_HS50_DR2_E100_LR001_BST32_K20.pkl"
        ],
        [
         "7",
         "FICO/BayesianNeuralNetworkPredictor/Raw/0FI_BNN_PL_B1_HS50_DR2_E100_LR001_BST32.pkl"
        ],
        [
         "8",
         "FICO/GaussianProcessClassifierPredictor/Raw/1FI_GPC_PL_B1_KTRBF_KLS1_KNU1.5.pkl"
        ],
        [
         "9",
         "FICO/LFRPredictor/Raw/1FI_Dlfr_A5_DW0_DEW0_B1.pkl"
        ],
        [
         "10",
         "FICO/RandomForestClassifierPredictor/Raw/1FI_RF_QBC_DW0_DEW0_B1.pkl"
        ],
        [
         "11",
         "FICO/GaussianProcessClassifierPredictor/Raw/1FI_GPC_BALD_B1_KTRBF_KLS1_KNU1.5_K20.pkl"
        ],
        [
         "12",
         "FICO/BayesianNeuralNetworkPredictor/Raw/1FI_BNN_BALD_B1_HS50_DR2_E100_LR001_BST32_K20.pkl"
        ],
        [
         "13",
         "FICO/LFRPredictor/Raw/1FI_Ulfr_A5_DW0_DEW0_B1.pkl"
        ],
        [
         "14",
         "FICO/BayesianNeuralNetworkPredictor/Raw/1FI_BNN_PL_B1_HS50_DR2_E100_LR001_BST32.pkl"
        ],
        [
         "15",
         "FICO/RandomForestClassifierPredictor/Raw/1FI_RF_PL_B1.pkl"
        ],
        [
         "16",
         "FICO/BayesianNeuralNetworkPredictor/Raw/2FI_BNN_PL_B1_HS50_DR2_E100_LR001_BST32.pkl"
        ],
        [
         "17",
         "FICO/RandomForestClassifierPredictor/Raw/2FI_RF_QBC_DW0_DEW0_B1.pkl"
        ],
        [
         "18",
         "FICO/BayesianNeuralNetworkPredictor/Raw/2FI_BNN_BALD_B1_HS50_DR2_E100_LR001_BST32_K20.pkl"
        ],
        [
         "19",
         "FICO/GaussianProcessClassifierPredictor/Raw/2FI_GPC_BALD_B1_KTRBF_KLS1_KNU1.5_K20.pkl"
        ],
        [
         "20",
         "FICO/GaussianProcessClassifierPredictor/Raw/2FI_GPC_PL_B1_KTRBF_KLS1_KNU1.5.pkl"
        ],
        [
         "21",
         "FICO/RandomForestClassifierPredictor/Raw/2FI_RF_PL_B1.pkl"
        ],
        [
         "22",
         "FICO/LFRPredictor/Raw/2FI_Dlfr_A5_DW0_DEW0_B1.pkl"
        ],
        [
         "23",
         "FICO/LFRPredictor/Raw/2FI_Ulfr_A5_DW0_DEW0_B1.pkl"
        ],
        [
         "24",
         "FICO/GaussianProcessClassifierPredictor/Raw/3FI_GPC_BALD_B1_KTRBF_KLS1_KNU1.5_K20.pkl"
        ],
        [
         "25",
         "FICO/RandomForestClassifierPredictor/Raw/3FI_RF_PL_B1.pkl"
        ],
        [
         "26",
         "FICO/LFRPredictor/Raw/3FI_Dlfr_A5_DW0_DEW0_B1.pkl"
        ],
        [
         "27",
         "FICO/RandomForestClassifierPredictor/Raw/3FI_RF_QBC_DW0_DEW0_B1.pkl"
        ],
        [
         "28",
         "FICO/LFRPredictor/Raw/3FI_Ulfr_A5_DW0_DEW0_B1.pkl"
        ],
        [
         "29",
         "FICO/GaussianProcessClassifierPredictor/Raw/3FI_GPC_PL_B1_KTRBF_KLS1_KNU1.5.pkl"
        ],
        [
         "30",
         "FICO/BayesianNeuralNetworkPredictor/Raw/3FI_BNN_BALD_B1_HS50_DR2_E100_LR001_BST32_K20.pkl"
        ],
        [
         "31",
         "FICO/BayesianNeuralNetworkPredictor/Raw/3FI_BNN_PL_B1_HS50_DR2_E100_LR001_BST32.pkl"
        ],
        [
         "32",
         "FICO/GaussianProcessClassifierPredictor/Raw/4FI_GPC_BALD_B1_KTRBF_KLS1_KNU1.5_K20.pkl"
        ],
        [
         "33",
         "FICO/LFRPredictor/Raw/4FI_Dlfr_A5_DW0_DEW0_B1.pkl"
        ],
        [
         "34",
         "FICO/LFRPredictor/Raw/4FI_Ulfr_A5_DW0_DEW0_B1.pkl"
        ],
        [
         "35",
         "FICO/RandomForestClassifierPredictor/Raw/4FI_RF_PL_B1.pkl"
        ],
        [
         "36",
         "FICO/BayesianNeuralNetworkPredictor/Raw/4FI_BNN_BALD_B1_HS50_DR2_E100_LR001_BST32_K20.pkl"
        ],
        [
         "37",
         "FICO/BayesianNeuralNetworkPredictor/Raw/4FI_BNN_PL_B1_HS50_DR2_E100_LR001_BST32.pkl"
        ],
        [
         "38",
         "FICO/RandomForestClassifierPredictor/Raw/4FI_RF_QBC_DW0_DEW0_B1.pkl"
        ],
        [
         "39",
         "FICO/GaussianProcessClassifierPredictor/Raw/4FI_GPC_PL_B1_KTRBF_KLS1_KNU1.5.pkl"
        ],
        [
         "40",
         "FICO/RandomForestClassifierPredictor/Raw/5FI_RF_PL_B1.pkl"
        ],
        [
         "41",
         "FICO/GaussianProcessClassifierPredictor/Raw/5FI_GPC_BALD_B1_KTRBF_KLS1_KNU1.5_K20.pkl"
        ],
        [
         "42",
         "FICO/LFRPredictor/Raw/5FI_Dlfr_A5_DW0_DEW0_B1.pkl"
        ],
        [
         "43",
         "FICO/BayesianNeuralNetworkPredictor/Raw/5FI_BNN_PL_B1_HS50_DR2_E100_LR001_BST32.pkl"
        ],
        [
         "44",
         "FICO/LFRPredictor/Raw/5FI_Ulfr_A5_DW0_DEW0_B1.pkl"
        ],
        [
         "45",
         "FICO/BayesianNeuralNetworkPredictor/Raw/5FI_BNN_BALD_B1_HS50_DR2_E100_LR001_BST32_K20.pkl"
        ],
        [
         "46",
         "FICO/RandomForestClassifierPredictor/Raw/5FI_RF_QBC_DW0_DEW0_B1.pkl"
        ],
        [
         "47",
         "FICO/GaussianProcessClassifierPredictor/Raw/5FI_GPC_PL_B1_KTRBF_KLS1_KNU1.5.pkl"
        ],
        [
         "48",
         "FICO/RandomForestClassifierPredictor/Raw/6FI_RF_PL_B1.pkl"
        ],
        [
         "49",
         "FICO/RandomForestClassifierPredictor/Raw/6FI_RF_QBC_DW0_DEW0_B1.pkl"
        ]
       ],
       "shape": {
        "columns": 1,
        "rows": 400
       }
      },
      "text/plain": [
       "0      FICO/RandomForestClassifierPredictor/Raw/0FI_R...\n",
       "1      FICO/GaussianProcessClassifierPredictor/Raw/0F...\n",
       "2      FICO/LFRPredictor/Raw/0FI_Dlfr_A5_DW0_DEW0_B1.pkl\n",
       "3      FICO/RandomForestClassifierPredictor/Raw/0FI_R...\n",
       "4      FICO/GaussianProcessClassifierPredictor/Raw/0F...\n",
       "                             ...                        \n",
       "395    FICO/BayesianNeuralNetworkPredictor/Raw/49FI_B...\n",
       "396    FICO/GaussianProcessClassifierPredictor/Raw/49...\n",
       "397    FICO/RandomForestClassifierPredictor/Raw/49FI_...\n",
       "398    FICO/LFRPredictor/Raw/49FI_Ulfr_A5_DW0_DEW0_B1...\n",
       "399    FICO/LFRPredictor/Raw/49FI_Dlfr_A5_DW0_DEW0_B1...\n",
       "Name: Output, Length: 400, dtype: object"
      ]
     },
     "execution_count": 5,
     "metadata": {},
     "output_type": "execute_result"
    }
   ],
   "source": [
    "ParameterVector[\"Output\"]"
   ]
  },
  {
   "cell_type": "markdown",
   "metadata": {},
   "source": [
    "# Only run these ones"
   ]
  },
  {
   "cell_type": "code",
   "execution_count": 6,
   "metadata": {},
   "outputs": [],
   "source": [
    "# # ### Simulations that failed ###\n",
    "# FilterText = ['26B7_UA02']\n",
    "# ParameterVector = FilterJobNames(ParameterVector,FilterText)\n",
    "# ParameterVector.index = range(0,len(ParameterVector))\n",
    "# ParameterVector"
   ]
  },
  {
   "cell_type": "markdown",
   "metadata": {},
   "source": [
    "---"
   ]
  },
  {
   "cell_type": "markdown",
   "metadata": {},
   "source": [
    "# Save Parameter Vector"
   ]
  },
  {
   "cell_type": "code",
   "execution_count": 7,
   "metadata": {},
   "outputs": [],
   "source": [
    "### Resave ###\n",
    "output_path = \"/Users/simondn/Documents/RashomonActiveLearning/Data/ParameterVectors/ParameterVector\" + str(Data) + \".csv\"\n",
    "ParameterVector.to_csv(output_path, index=False)"
   ]
  }
 ],
 "metadata": {
  "kernelspec": {
   "display_name": "Python 3",
   "language": "python",
   "name": "python3"
  },
  "language_info": {
   "codemirror_mode": {
    "name": "ipython",
    "version": 3
   },
   "file_extension": ".py",
   "mimetype": "text/x-python",
   "name": "python",
   "nbconvert_exporter": "python",
   "pygments_lexer": "ipython3",
   "version": "3.9.6"
  }
 },
 "nbformat": 4,
 "nbformat_minor": 2
}

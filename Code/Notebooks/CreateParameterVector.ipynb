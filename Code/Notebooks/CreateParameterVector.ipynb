{
 "cells": [
  {
   "cell_type": "markdown",
   "metadata": {},
   "source": [
    "# Packages"
   ]
  },
  {
   "cell_type": "code",
   "execution_count": 66,
   "metadata": {},
   "outputs": [],
   "source": [
    "### Import packages ###\n",
    "import itertools\n",
    "import numpy as np\n",
    "import pandas as pd\n",
    "import sys\n",
    "sys.path.append('..')\n",
    "from utils.Auxiliary import CreateParameterVectorFunction\n",
    "from utils.Auxiliary import FilterJobNames"
   ]
  },
  {
   "cell_type": "markdown",
   "metadata": {},
   "source": [
    "---"
   ]
  },
  {
   "cell_type": "markdown",
   "metadata": {},
   "source": [
    "# Create Parameter Vector"
   ]
  },
  {
   "cell_type": "code",
   "execution_count": 67,
   "metadata": {},
   "outputs": [],
   "source": [
    "# Data: Iris  MONK1  MONK3  Bar7 (10)  COMPAS (50) | BankNote (10)  BreastCancer (5)  CarEvaluation (10)  FICO (50)  Haberman\n",
    "Data = \"Haberman\"\n",
    "ParameterVector = CreateParameterVectorFunction(Data = Data,\n",
    "                                  Seed = range(0,3),                     # range(0,50)\n",
    "                                  RashomonThreshold = 0.025,        # For TreeFarms\n",
    "                                  DiversityWeight = 0.333,          # For BatchQBC\n",
    "                                  DensityWeight = 0.333,            # For BatchQBC\n",
    "                                  BatchSize = 1,                           # 1 5 or 10\n",
    "                                  Partition = \"short\",                                # [short, medium, long, largemem, compute, cpu-g2-mem2x]\n",
    "                                  Time = \"11:59:00\",                                     # [00:59:00, 11:59:00, 6-23:59:00]\n",
    "                                  Memory = \"30000M\",                                   # [100M, 30000M, 100000M]\n",
    "                                  IncludePL_RF=True,       # Passive Learning with RandomForestClassifierPredictor\n",
    "                                  IncludePL_GPC=True,      # Passive Learning with GaussianProcessClassifierPredictor\n",
    "                                  IncludePL_BNN=True,      # Passive Learning with BayesianNeuralNetworkPredictor\n",
    "                                  IncludeBALD_BNN=True,    # BALD with BayesianNeuralNetworkPredictor\n",
    "                                  IncludeBALD_GPC=True,    # BALD with GaussianProcessClassifierPredictor\n",
    "                                  IncludeQBC_TreeFarms_Unique=True, # BatchQBC with TreeFarmsPredictor (UniqueErrorsInput=1)\n",
    "                                  IncludeQBC_TreeFarms_Duplicate=True, # BatchQBC with TreeFarmsPredictor (UniqueErrorsInput=0)\n",
    "                                  IncludeQBC_RF=True,      # BatchQBC with RandomForestClassifierPredictor\n",
    "                                  IncludeLFR_TreeFarms=True, # NEW: For TreefarmsLFRPredictor (requires RefitFrequency)\n",
    "                                  RefitFrequency=1          # Default refit frequency for LFR (1 = every iter)\n",
    "                                  )"
   ]
  },
  {
   "cell_type": "markdown",
   "metadata": {},
   "source": [
    "# Evaluate"
   ]
  },
  {
   "cell_type": "code",
   "execution_count": 68,
   "metadata": {},
   "outputs": [
    {
     "data": {
      "application/vnd.microsoft.datawrangler.viewer.v0+json": {
       "columns": [
        {
         "name": "index",
         "rawType": "int64",
         "type": "integer"
        },
        {
         "name": "JobName",
         "rawType": "object",
         "type": "string"
        }
       ],
       "ref": "e71ec64f-6e63-4a40-ab7b-66371123b073",
       "rows": [
        [
         "0",
         "0HM_PL_RF_UEI0A0_DW0_DEW0_B1"
        ],
        [
         "1",
         "0HM_MTTreefarmsLFRPredictor_STBatchQBCDiversitySelector_UEI0A025_DW333_DEW333_B1"
        ],
        [
         "2",
         "0HM_PL_GPC_UEI0A0_DW0_DEW0_B1"
        ],
        [
         "3",
         "0HM_QBC_RF_UEI0A0_DW333_DEW333_B1"
        ],
        [
         "4",
         "0HM_PL_BNN_UEI0A0_DW0_DEW0_B1"
        ],
        [
         "5",
         "0HM_DUREAL_UEI0A025_DW333_DEW333_B1"
        ],
        [
         "6",
         "0HM_BALD_BNN_UEI0A0_DW0_DEW0_B1"
        ],
        [
         "7",
         "0HM_UNREAL_UEI1A025_DW333_DEW333_B1"
        ],
        [
         "8",
         "0HM_BALD_GPC_UEI0A0_DW0_DEW0_B1"
        ],
        [
         "9",
         "1HM_QBC_RF_UEI0A0_DW333_DEW333_B1"
        ],
        [
         "10",
         "1HM_DUREAL_UEI0A025_DW333_DEW333_B1"
        ],
        [
         "11",
         "1HM_UNREAL_UEI1A025_DW333_DEW333_B1"
        ],
        [
         "12",
         "1HM_MTTreefarmsLFRPredictor_STBatchQBCDiversitySelector_UEI0A025_DW333_DEW333_B1"
        ],
        [
         "13",
         "1HM_BALD_GPC_UEI0A0_DW0_DEW0_B1"
        ],
        [
         "14",
         "1HM_BALD_BNN_UEI0A0_DW0_DEW0_B1"
        ],
        [
         "15",
         "1HM_PL_BNN_UEI0A0_DW0_DEW0_B1"
        ],
        [
         "16",
         "1HM_PL_GPC_UEI0A0_DW0_DEW0_B1"
        ],
        [
         "17",
         "1HM_PL_RF_UEI0A0_DW0_DEW0_B1"
        ],
        [
         "18",
         "2HM_BALD_GPC_UEI0A0_DW0_DEW0_B1"
        ],
        [
         "19",
         "2HM_PL_BNN_UEI0A0_DW0_DEW0_B1"
        ],
        [
         "20",
         "2HM_UNREAL_UEI1A025_DW333_DEW333_B1"
        ],
        [
         "21",
         "2HM_PL_GPC_UEI0A0_DW0_DEW0_B1"
        ],
        [
         "22",
         "2HM_DUREAL_UEI0A025_DW333_DEW333_B1"
        ],
        [
         "23",
         "2HM_PL_RF_UEI0A0_DW0_DEW0_B1"
        ],
        [
         "24",
         "2HM_QBC_RF_UEI0A0_DW333_DEW333_B1"
        ],
        [
         "25",
         "2HM_BALD_BNN_UEI0A0_DW0_DEW0_B1"
        ],
        [
         "26",
         "2HM_MTTreefarmsLFRPredictor_STBatchQBCDiversitySelector_UEI0A025_DW333_DEW333_B1"
        ]
       ],
       "shape": {
        "columns": 1,
        "rows": 27
       }
      },
      "text/plain": [
       "0                          0HM_PL_RF_UEI0A0_DW0_DEW0_B1\n",
       "1     0HM_MTTreefarmsLFRPredictor_STBatchQBCDiversit...\n",
       "2                         0HM_PL_GPC_UEI0A0_DW0_DEW0_B1\n",
       "3                     0HM_QBC_RF_UEI0A0_DW333_DEW333_B1\n",
       "4                         0HM_PL_BNN_UEI0A0_DW0_DEW0_B1\n",
       "5                   0HM_DUREAL_UEI0A025_DW333_DEW333_B1\n",
       "6                       0HM_BALD_BNN_UEI0A0_DW0_DEW0_B1\n",
       "7                   0HM_UNREAL_UEI1A025_DW333_DEW333_B1\n",
       "8                       0HM_BALD_GPC_UEI0A0_DW0_DEW0_B1\n",
       "9                     1HM_QBC_RF_UEI0A0_DW333_DEW333_B1\n",
       "10                  1HM_DUREAL_UEI0A025_DW333_DEW333_B1\n",
       "11                  1HM_UNREAL_UEI1A025_DW333_DEW333_B1\n",
       "12    1HM_MTTreefarmsLFRPredictor_STBatchQBCDiversit...\n",
       "13                      1HM_BALD_GPC_UEI0A0_DW0_DEW0_B1\n",
       "14                      1HM_BALD_BNN_UEI0A0_DW0_DEW0_B1\n",
       "15                        1HM_PL_BNN_UEI0A0_DW0_DEW0_B1\n",
       "16                        1HM_PL_GPC_UEI0A0_DW0_DEW0_B1\n",
       "17                         1HM_PL_RF_UEI0A0_DW0_DEW0_B1\n",
       "18                      2HM_BALD_GPC_UEI0A0_DW0_DEW0_B1\n",
       "19                        2HM_PL_BNN_UEI0A0_DW0_DEW0_B1\n",
       "20                  2HM_UNREAL_UEI1A025_DW333_DEW333_B1\n",
       "21                        2HM_PL_GPC_UEI0A0_DW0_DEW0_B1\n",
       "22                  2HM_DUREAL_UEI0A025_DW333_DEW333_B1\n",
       "23                         2HM_PL_RF_UEI0A0_DW0_DEW0_B1\n",
       "24                    2HM_QBC_RF_UEI0A0_DW333_DEW333_B1\n",
       "25                      2HM_BALD_BNN_UEI0A0_DW0_DEW0_B1\n",
       "26    2HM_MTTreefarmsLFRPredictor_STBatchQBCDiversit...\n",
       "Name: JobName, dtype: object"
      ]
     },
     "execution_count": 68,
     "metadata": {},
     "output_type": "execute_result"
    }
   ],
   "source": [
    "ParameterVector[\"JobName\"]"
   ]
  },
  {
   "cell_type": "markdown",
   "metadata": {},
   "source": [
    "# Only run these ones"
   ]
  },
  {
   "cell_type": "code",
   "execution_count": 69,
   "metadata": {},
   "outputs": [],
   "source": [
    "# # ### Simulations that failed ###\n",
    "# FilterText = ['26B7_UA02']\n",
    "# ParameterVector = FilterJobNames(ParameterVector,FilterText)\n",
    "# ParameterVector.index = range(0,len(ParameterVector))\n",
    "# ParameterVector"
   ]
  },
  {
   "cell_type": "markdown",
   "metadata": {},
   "source": [
    "---"
   ]
  },
  {
   "cell_type": "markdown",
   "metadata": {},
   "source": [
    "# Save Parameter Vector"
   ]
  },
  {
   "cell_type": "code",
   "execution_count": 70,
   "metadata": {},
   "outputs": [],
   "source": [
    "# ### Resave ###\n",
    "# output_path = \"/Users/simondn/Documents/RashomonActiveLearning/Data/ParameterVectors/ParameterVector\" + str(Data) + \".csv\"\n",
    "# ParameterVector.to_csv(output_path, index=False)"
   ]
  }
 ],
 "metadata": {
  "kernelspec": {
   "display_name": "Python 3",
   "language": "python",
   "name": "python3"
  },
  "language_info": {
   "codemirror_mode": {
    "name": "ipython",
    "version": 3
   },
   "file_extension": ".py",
   "mimetype": "text/x-python",
   "name": "python",
   "nbconvert_exporter": "python",
   "pygments_lexer": "ipython3",
   "version": "3.9.6"
  }
 },
 "nbformat": 4,
 "nbformat_minor": 2
}

{
 "cells": [
  {
   "cell_type": "code",
   "execution_count": 1,
   "metadata": {},
   "outputs": [],
   "source": [
    "### Import packages ###\n",
    "import itertools\n",
    "import pandas as pd"
   ]
  },
  {
   "cell_type": "markdown",
   "metadata": {},
   "source": [
    "# Input"
   ]
  },
  {
   "cell_type": "code",
   "execution_count": 2,
   "metadata": {},
   "outputs": [],
   "source": [
    "AbbreviationDictionary = {\"BankNote\": \"BN\",\n",
    "                          \"Bar7\": \"B7\",\n",
    "                          \"BreastCancer\": \"BC\",\n",
    "                          \"CarEvaluation\": \"CE\",\n",
    "                          \"COMPAS\": \"CP\",\n",
    "                          \"FICO\": \"FI\",\n",
    "                          \"Haberman\": \"HM\",\n",
    "                          \"Iris\": \"IS\",\n",
    "                          \"MONK1\": \"M1\",\n",
    "                          \"MONK3\":\"M3\"}"
   ]
  },
  {
   "cell_type": "code",
   "execution_count": 3,
   "metadata": {},
   "outputs": [],
   "source": [
    "BatchSize = 10\n",
    "DiversityWeight = 0.4"
   ]
  },
  {
   "cell_type": "code",
   "execution_count": 4,
   "metadata": {},
   "outputs": [],
   "source": [
    "# Input Data Set #\n",
    "Data = \"CarEvaluation\" # Iris  MONK1  MONK3  Bar7  COMPAS | BankNote  BreastCancer  CarEvaluation  FICO  Haberman \n",
    "JobNameAbbrev = AbbreviationDictionary[Data]\n",
    "\n",
    "# Input directory #\n",
    "dir_path = \"/Users/simondn/Documents/RashomonActiveLearning/Code/raw\"\n",
    "\n",
    "# Input Parameters #\n",
    "ParameterDictionary = {\"Data\":[Data],\n",
    "                       \"Seed\":list(range(0,50)),\n",
    "                      #  \"Seed\":list([]),                       \n",
    "                       \"TestProportion\":[0.2],\n",
    "                       \"CandidateProportion\":[0.8],\n",
    "                       \"SelectorType\":[\"BatchQBCDiversityFunction\"],\n",
    "                       \"ModelType\":[\"TreeFarmsFunction\"],\n",
    "                       \"UniqueErrorsInput\": [0,1],\n",
    "                       \"n_estimators\": [100], \n",
    "                       \"regularization\": [0.01],\n",
    "                       \"RashomonThresholdType\": [\"Adder\"],                                         # [\"Adder\", \"Multiplier\"]\n",
    "                       \"RashomonThreshold\": [0.005],\n",
    "                       \"Type\": [\"Classification\"],\n",
    "                       \"DiversityWeight\": [DiversityWeight],\n",
    "                       \"BatchSize\": [BatchSize],\n",
    "                       \"Partition\": [\"short\"],                                                        # [short, medium, long, largemem, compute, cpu-g2-mem2x]\n",
    "                       \"Time\": [\"11:59:00\"],                                                            # [00:59:00, 11:59:00, 6-23:59:00]\n",
    "                       \"Memory\": [\"30000M\"]}                                                                # [100M, 30000M, 100000M]\n",
    "\n",
    "# Create Parameter Vector #\n",
    "ParameterVector = pd.DataFrame.from_records(itertools.product(*ParameterDictionary.values()), columns=ParameterDictionary.keys())"
   ]
  },
  {
   "cell_type": "markdown",
   "metadata": {},
   "source": [
    "# Include/exclude Passive Learning"
   ]
  },
  {
   "cell_type": "code",
   "execution_count": 5,
   "metadata": {},
   "outputs": [],
   "source": [
    "### Include Random Forest ###\n",
    "RandomForestParameterDictionary = {\"Data\":[Data],\n",
    "                       \"Seed\":list(range(0,50)),\n",
    "                       \"TestProportion\":[0.2],\n",
    "                       \"CandidateProportion\":[0.8],\n",
    "                       \"SelectorType\":[\"PassiveLearning\"],\n",
    "                       \"ModelType\":[\"RandomForestClassificationFunction\"],\n",
    "                       \"UniqueErrorsInput\": [1],\n",
    "                       \"n_estimators\": [100], \n",
    "                       \"regularization\": [0.01],\n",
    "                       \"RashomonThresholdType\": [\"Adder\"],                                                    # [\"Adder\", \"Multiplier\"]\n",
    "                       \"RashomonThreshold\": [0],\n",
    "                       \"Type\": [\"Classification\"],\n",
    "                       \"DiversityWeight\": [0],\n",
    "                       \"BatchSize\": [BatchSize],\n",
    "                       \"Partition\": [\"short\"],                                                        # [short, medium, long, largemem, or compute]\n",
    "                       \"Time\": [\"00:59:00\"],                                                            # [00:59:00, 11:59:00, 6-23:59:00]\n",
    "                       \"Memory\": [1000]}                                                                # [1000, 30000, 100000]\n",
    "\n",
    "RandomForestParameterVector = pd.DataFrame.from_records(itertools.product(*RandomForestParameterDictionary.values()), columns=RandomForestParameterDictionary.keys())\n",
    "\n",
    "# NOTE: Comment out chunk to not include random forest simulations. ###\n",
    "ParameterVector = pd.concat([ParameterVector, RandomForestParameterVector]) # NOTE: Comment out to not include random forest baseline\n",
    "ParameterVector = ParameterVector.sort_values(\"Seed\")\n",
    "ParameterVector.index = range(0, ParameterVector.shape[0])"
   ]
  },
  {
   "cell_type": "markdown",
   "metadata": {},
   "source": [
    "# Include/exclude Random Forest QBC Simulations"
   ]
  },
  {
   "cell_type": "code",
   "execution_count": 6,
   "metadata": {},
   "outputs": [],
   "source": [
    "### Include Random Forest ###\n",
    "RandomForestParameterDictionary = {\"Data\":[Data],\n",
    "                       \"Seed\":list(range(0,50)),\n",
    "                       \"TestProportion\":[0.2],\n",
    "                       \"CandidateProportion\":[0.8],\n",
    "                       \"SelectorType\":[\"BatchQBCDiversityFunction\"],\n",
    "                       \"ModelType\":[\"RandomForestClassificationFunction\"],\n",
    "                       \"UniqueErrorsInput\": [0],\n",
    "                       \"n_estimators\": [100], \n",
    "                       \"regularization\": [0.01],\n",
    "                       \"RashomonThresholdType\": [\"Adder\"],                                                    # [\"Adder\", \"Multiplier\"]\n",
    "                       \"RashomonThreshold\": [0],\n",
    "                       \"Type\": [\"Classification\"],\n",
    "                       \"DiversityWeight\": [DiversityWeight],\n",
    "                       \"BatchSize\": [BatchSize],\n",
    "                       \"Partition\": [\"short\"],                                                        # [short, medium, long, largemem, or compute]\n",
    "                       \"Time\": [\"00:59:00\"],                                                            # [00:59:00, 11:59:00, 6-23:59:00]\n",
    "                       \"Memory\": [1000]}                                                                # [1000, 30000, 100000]\n",
    "\n",
    "RandomForestParameterVector = pd.DataFrame.from_records(itertools.product(*RandomForestParameterDictionary.values()), columns=RandomForestParameterDictionary.keys())\n",
    "\n",
    "# NOTE: Comment out chunk to not include random forest simulations. ###\n",
    "ParameterVector = pd.concat([ParameterVector, RandomForestParameterVector]) # NOTE: Comment out to not include random forest baseline\n",
    "ParameterVector = ParameterVector.sort_values(\"Seed\")\n",
    "ParameterVector.index = range(0, ParameterVector.shape[0])"
   ]
  },
  {
   "cell_type": "markdown",
   "metadata": {},
   "source": [
    "# Job and Output Name"
   ]
  },
  {
   "cell_type": "code",
   "execution_count": 7,
   "metadata": {},
   "outputs": [],
   "source": [
    "### Remove Dictionary ###\n",
    "del ParameterDictionary\n",
    "\n",
    "# Generate JobName #\n",
    "ParameterVector[\"JobName\"] = (\n",
    "    ParameterVector[\"Seed\"].astype(str) +\n",
    "    JobNameAbbrev + \n",
    "    \"_MT\" + ParameterVector[\"ModelType\"].astype(str) +\n",
    "    \"_UEI\" + ParameterVector[\"UniqueErrorsInput\"].astype(str) +\n",
    "    \"_\" + ParameterVector[\"RashomonThresholdType\"].astype(str) + \n",
    "    ParameterVector[\"RashomonThreshold\"].astype(str)+\n",
    "    \"_D\" + ParameterVector[\"DiversityWeight\"].astype(str) + \n",
    "    \"B\" + ParameterVector[\"BatchSize\"].astype(str))\n",
    "\n",
    "# Replace Job Name #\n",
    "ParameterVector[\"JobName\"] = (\n",
    "    ParameterVector[\"JobName\"]\n",
    "    .str.replace(r\"_MTTreeFarmsFunction_UEI0_\", \"_D\", regex=True)\n",
    "    .str.replace(r\"_MTTreeFarmsFunction_UEI1_\", \"_U\", regex=True)\n",
    "    .str.replace(r\"Adder\", \"A\", regex=True)\n",
    "    .str.replace(r\"Multiplier\", \"M\", regex=True)\n",
    "    .str.replace(r\"_MTRandomForestClassificationFunction_UEI0_\", \"_RF\", regex=True)\n",
    "    .str.replace(r\"_MTRandomForestClassificationFunction_UEI1_\", \"_PL\", regex=True)\n",
    "    .str.replace(r\"0.\", \"\", regex=False)\n",
    "    )\n",
    "\n",
    "# Output Name #\n",
    "ParameterVector[\"Output\"] = ParameterVector[\"Data\"].astype(str) + \"/\" + ParameterVector[\"ModelType\"].astype(str) + \"/Raw/\" + ParameterVector[\"JobName\"] + \".pkl\"\n",
    "ParameterVector[\"Output\"] = ParameterVector[\"Output\"].str.replace(\"Function\", \"\", regex=False)"
   ]
  },
  {
   "cell_type": "markdown",
   "metadata": {},
   "source": [
    "---"
   ]
  },
  {
   "cell_type": "markdown",
   "metadata": {},
   "source": [
    "# Only run these ones"
   ]
  },
  {
   "cell_type": "code",
   "execution_count": 8,
   "metadata": {},
   "outputs": [],
   "source": [
    "# # ### Simulations that failed ###\n",
    "# FilterText = ['12CP_DA025_D4B5', '17CP_DA025_D4B5', '19CP_DA025_D4B5', '22CP_DA025_D4B5', '8CP_UA025_D4B5', '9CP_UA025_D4B5', '12CP_UA025_D4B5', '15CP_UA025_D4B5', '19CP_UA025_D4B5', '22CP_UA025_D4B5']\n",
    "# ### Rerun these simulations ###\n",
    "# ParameterVector = ParameterVector[ParameterVector[\"JobName\"].isin(FilterText)]\n",
    "# ParameterVector.index = range(0,len(ParameterVector))\n",
    "# ParameterVector"
   ]
  },
  {
   "cell_type": "markdown",
   "metadata": {},
   "source": [
    "---"
   ]
  },
  {
   "cell_type": "markdown",
   "metadata": {},
   "source": [
    "# Save Parameter Vector"
   ]
  },
  {
   "cell_type": "code",
   "execution_count": 9,
   "metadata": {},
   "outputs": [],
   "source": [
    "### Resave ###\n",
    "output_path = \"/Users/simondn/Documents/RashomonActiveLearning/Data/ParameterVectors/ParameterVector\" + str(Data) + \".csv\"\n",
    "ParameterVector.to_csv(output_path, index=False)"
   ]
  }
 ],
 "metadata": {
  "kernelspec": {
   "display_name": "Python 3",
   "language": "python",
   "name": "python3"
  },
  "language_info": {
   "codemirror_mode": {
    "name": "ipython",
    "version": 3
   },
   "file_extension": ".py",
   "mimetype": "text/x-python",
   "name": "python",
   "nbconvert_exporter": "python",
   "pygments_lexer": "ipython3",
   "version": "3.9.6"
  }
 },
 "nbformat": 4,
 "nbformat_minor": 2
}

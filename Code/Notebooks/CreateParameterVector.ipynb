{
 "cells": [
  {
   "cell_type": "markdown",
   "metadata": {},
   "source": [
    "# Packages"
   ]
  },
  {
   "cell_type": "code",
   "execution_count": 1,
   "metadata": {},
   "outputs": [],
   "source": [
    "### Import packages ###\n",
    "import itertools\n",
    "import numpy as np\n",
    "import pandas as pd\n",
    "import sys\n",
    "sys.path.append('..')\n",
    "from utils.Auxiliary import CreateParameterVectorFunction\n",
    "from utils.Auxiliary import FilterJobNames"
   ]
  },
  {
   "cell_type": "markdown",
   "metadata": {},
   "source": [
    "---"
   ]
  },
  {
   "cell_type": "markdown",
   "metadata": {},
   "source": [
    "# Create Parameter Vector"
   ]
  },
  {
   "cell_type": "code",
   "execution_count": 2,
   "metadata": {},
   "outputs": [],
   "source": [
    "# Data: Iris  MONK1  MONK3  Bar7 (10)  COMPAS (50) | BankNote (10)  BreastCancer (5)  CarEvaluation (10)  FICO (50)  Haberman\n",
    "Data = \"Iris\"\n",
    "ParameterVector = CreateParameterVectorFunction(Data = Data,\n",
    "                                  Seed = range(0,3),                     # range(0,50)\n",
    "                                  RashomonThreshold = 0.5,        # For TreeFarms\n",
    "                                  DiversityWeight = 0,          # For BatchQBC\n",
    "                                  DensityWeight = 0,            # For BatchQBC\n",
    "                                  BatchSize = 1,                           # 1 5 or 10\n",
    "                                  Partition = \"short\",                                # [short, medium, long, largemem, compute, cpu-g2-mem2x]\n",
    "                                  Time = \"11:59:00\",                                     # [00:59:00, 11:59:00, 6-23:59:00]\n",
    "                                  Memory = \"30000M\",                                   # [100M, 30000M, 100000M]\n",
    "                                  IncludePL_RF=True,       # Passive Learning with RandomForestClassifierPredictor\n",
    "                                  IncludePL_GPC=True,      # Passive Learning with GaussianProcessClassifierPredictor\n",
    "                                  IncludePL_BNN=True,      # Passive Learning with BayesianNeuralNetworkPredictor\n",
    "                                  IncludeBALD_BNN=True,    # BALD with BayesianNeuralNetworkPredictor\n",
    "                                  IncludeBALD_GPC=True,    # BALD with GaussianProcessClassifierPredictor\n",
    "                                  IncludeQBC_TreeFarms_Unique=False, # BatchQBC with TreeFarmsPredictor (UniqueErrorsInput=1)\n",
    "                                  IncludeQBC_TreeFarms_Duplicate=False, # BatchQBC with TreeFarmsPredictor (UniqueErrorsInput=0)\n",
    "                                  IncludeQBC_RF=True,      # BatchQBC with RandomForestClassifierPredictor\n",
    "                                  IncludeLFR_TreeFarms_Unique=True, #BatchQBC with LFRPredictor (UniqueErrorsInput=1)\n",
    "                                  IncludeLFR_TreeFarms_Duplicate=True #BatchQBC with LFRPredictor (UniqueErrorsInput=0)\n",
    "                                  )"
   ]
  },
  {
   "cell_type": "markdown",
   "metadata": {},
   "source": [
    "# Evaluate"
   ]
  },
  {
   "cell_type": "code",
   "execution_count": 3,
   "metadata": {},
   "outputs": [
    {
     "data": {
      "application/vnd.microsoft.datawrangler.viewer.v0+json": {
       "columns": [
        {
         "name": "index",
         "rawType": "int64",
         "type": "integer"
        },
        {
         "name": "JobName",
         "rawType": "object",
         "type": "string"
        }
       ],
       "ref": "8bd8dbd6-d888-492c-bba5-64e9462a435d",
       "rows": [
        [
         "0",
         "0IS_RF_PL_B1"
        ],
        [
         "1",
         "0IS_Ulfr_A5_DW0_DEW0_B1"
        ],
        [
         "2",
         "0IS_Dlfr_A5_DW0_DEW0_B1"
        ],
        [
         "3",
         "0IS_GPC_PL_B1_KTRBF_KLS1_KNU1.5"
        ],
        [
         "4",
         "0IS_GPC_BALD_B1_KTRBF_KLS1_KNU1.5_K20"
        ],
        [
         "5",
         "0IS_BNN_PL_B1_HS50_DR2_E100_LR001_BST32"
        ],
        [
         "6",
         "0IS_RF_QBC_DW0_DEW0_B1"
        ],
        [
         "7",
         "0IS_BNN_BALD_B1_HS50_DR2_E100_LR001_BST32_K20"
        ],
        [
         "8",
         "1IS_GPC_BALD_B1_KTRBF_KLS1_KNU1.5_K20"
        ],
        [
         "9",
         "1IS_Dlfr_A5_DW0_DEW0_B1"
        ],
        [
         "10",
         "1IS_Ulfr_A5_DW0_DEW0_B1"
        ],
        [
         "11",
         "1IS_BNN_PL_B1_HS50_DR2_E100_LR001_BST32"
        ],
        [
         "12",
         "1IS_GPC_PL_B1_KTRBF_KLS1_KNU1.5"
        ],
        [
         "13",
         "1IS_RF_PL_B1"
        ],
        [
         "14",
         "1IS_BNN_BALD_B1_HS50_DR2_E100_LR001_BST32_K20"
        ],
        [
         "15",
         "1IS_RF_QBC_DW0_DEW0_B1"
        ],
        [
         "16",
         "2IS_Ulfr_A5_DW0_DEW0_B1"
        ],
        [
         "17",
         "2IS_BNN_BALD_B1_HS50_DR2_E100_LR001_BST32_K20"
        ],
        [
         "18",
         "2IS_GPC_BALD_B1_KTRBF_KLS1_KNU1.5_K20"
        ],
        [
         "19",
         "2IS_BNN_PL_B1_HS50_DR2_E100_LR001_BST32"
        ],
        [
         "20",
         "2IS_GPC_PL_B1_KTRBF_KLS1_KNU1.5"
        ],
        [
         "21",
         "2IS_RF_PL_B1"
        ],
        [
         "22",
         "2IS_RF_QBC_DW0_DEW0_B1"
        ],
        [
         "23",
         "2IS_Dlfr_A5_DW0_DEW0_B1"
        ]
       ],
       "shape": {
        "columns": 1,
        "rows": 24
       }
      },
      "text/plain": [
       "0                                      0IS_RF_PL_B1\n",
       "1                           0IS_Ulfr_A5_DW0_DEW0_B1\n",
       "2                           0IS_Dlfr_A5_DW0_DEW0_B1\n",
       "3                   0IS_GPC_PL_B1_KTRBF_KLS1_KNU1.5\n",
       "4             0IS_GPC_BALD_B1_KTRBF_KLS1_KNU1.5_K20\n",
       "5           0IS_BNN_PL_B1_HS50_DR2_E100_LR001_BST32\n",
       "6                            0IS_RF_QBC_DW0_DEW0_B1\n",
       "7     0IS_BNN_BALD_B1_HS50_DR2_E100_LR001_BST32_K20\n",
       "8             1IS_GPC_BALD_B1_KTRBF_KLS1_KNU1.5_K20\n",
       "9                           1IS_Dlfr_A5_DW0_DEW0_B1\n",
       "10                          1IS_Ulfr_A5_DW0_DEW0_B1\n",
       "11          1IS_BNN_PL_B1_HS50_DR2_E100_LR001_BST32\n",
       "12                  1IS_GPC_PL_B1_KTRBF_KLS1_KNU1.5\n",
       "13                                     1IS_RF_PL_B1\n",
       "14    1IS_BNN_BALD_B1_HS50_DR2_E100_LR001_BST32_K20\n",
       "15                           1IS_RF_QBC_DW0_DEW0_B1\n",
       "16                          2IS_Ulfr_A5_DW0_DEW0_B1\n",
       "17    2IS_BNN_BALD_B1_HS50_DR2_E100_LR001_BST32_K20\n",
       "18            2IS_GPC_BALD_B1_KTRBF_KLS1_KNU1.5_K20\n",
       "19          2IS_BNN_PL_B1_HS50_DR2_E100_LR001_BST32\n",
       "20                  2IS_GPC_PL_B1_KTRBF_KLS1_KNU1.5\n",
       "21                                     2IS_RF_PL_B1\n",
       "22                           2IS_RF_QBC_DW0_DEW0_B1\n",
       "23                          2IS_Dlfr_A5_DW0_DEW0_B1\n",
       "Name: JobName, dtype: object"
      ]
     },
     "execution_count": 3,
     "metadata": {},
     "output_type": "execute_result"
    }
   ],
   "source": [
    "ParameterVector[\"JobName\"]"
   ]
  },
  {
   "cell_type": "code",
   "execution_count": 4,
   "metadata": {},
   "outputs": [
    {
     "data": {
      "application/vnd.microsoft.datawrangler.viewer.v0+json": {
       "columns": [
        {
         "name": "index",
         "rawType": "int64",
         "type": "integer"
        },
        {
         "name": "Output",
         "rawType": "object",
         "type": "string"
        }
       ],
       "ref": "b8f0d9b9-d204-4ddd-8a36-b9f89cc6ba03",
       "rows": [
        [
         "0",
         "Iris/RandomForestClassifierPredictor/Raw/0IS_RF_PL_B1.pkl"
        ],
        [
         "1",
         "Iris/LFRPredictor/Raw/0IS_Ulfr_A5_DW0_DEW0_B1.pkl"
        ],
        [
         "2",
         "Iris/LFRPredictor/Raw/0IS_Dlfr_A5_DW0_DEW0_B1.pkl"
        ],
        [
         "3",
         "Iris/GaussianProcessClassifierPredictor/Raw/0IS_GPC_PL_B1_KTRBF_KLS1_KNU1.5.pkl"
        ],
        [
         "4",
         "Iris/GaussianProcessClassifierPredictor/Raw/0IS_GPC_BALD_B1_KTRBF_KLS1_KNU1.5_K20.pkl"
        ],
        [
         "5",
         "Iris/BayesianNeuralNetworkPredictor/Raw/0IS_BNN_PL_B1_HS50_DR2_E100_LR001_BST32.pkl"
        ],
        [
         "6",
         "Iris/RandomForestClassifierPredictor/Raw/0IS_RF_QBC_DW0_DEW0_B1.pkl"
        ],
        [
         "7",
         "Iris/BayesianNeuralNetworkPredictor/Raw/0IS_BNN_BALD_B1_HS50_DR2_E100_LR001_BST32_K20.pkl"
        ],
        [
         "8",
         "Iris/GaussianProcessClassifierPredictor/Raw/1IS_GPC_BALD_B1_KTRBF_KLS1_KNU1.5_K20.pkl"
        ],
        [
         "9",
         "Iris/LFRPredictor/Raw/1IS_Dlfr_A5_DW0_DEW0_B1.pkl"
        ],
        [
         "10",
         "Iris/LFRPredictor/Raw/1IS_Ulfr_A5_DW0_DEW0_B1.pkl"
        ],
        [
         "11",
         "Iris/BayesianNeuralNetworkPredictor/Raw/1IS_BNN_PL_B1_HS50_DR2_E100_LR001_BST32.pkl"
        ],
        [
         "12",
         "Iris/GaussianProcessClassifierPredictor/Raw/1IS_GPC_PL_B1_KTRBF_KLS1_KNU1.5.pkl"
        ],
        [
         "13",
         "Iris/RandomForestClassifierPredictor/Raw/1IS_RF_PL_B1.pkl"
        ],
        [
         "14",
         "Iris/BayesianNeuralNetworkPredictor/Raw/1IS_BNN_BALD_B1_HS50_DR2_E100_LR001_BST32_K20.pkl"
        ],
        [
         "15",
         "Iris/RandomForestClassifierPredictor/Raw/1IS_RF_QBC_DW0_DEW0_B1.pkl"
        ],
        [
         "16",
         "Iris/LFRPredictor/Raw/2IS_Ulfr_A5_DW0_DEW0_B1.pkl"
        ],
        [
         "17",
         "Iris/BayesianNeuralNetworkPredictor/Raw/2IS_BNN_BALD_B1_HS50_DR2_E100_LR001_BST32_K20.pkl"
        ],
        [
         "18",
         "Iris/GaussianProcessClassifierPredictor/Raw/2IS_GPC_BALD_B1_KTRBF_KLS1_KNU1.5_K20.pkl"
        ],
        [
         "19",
         "Iris/BayesianNeuralNetworkPredictor/Raw/2IS_BNN_PL_B1_HS50_DR2_E100_LR001_BST32.pkl"
        ],
        [
         "20",
         "Iris/GaussianProcessClassifierPredictor/Raw/2IS_GPC_PL_B1_KTRBF_KLS1_KNU1.5.pkl"
        ],
        [
         "21",
         "Iris/RandomForestClassifierPredictor/Raw/2IS_RF_PL_B1.pkl"
        ],
        [
         "22",
         "Iris/RandomForestClassifierPredictor/Raw/2IS_RF_QBC_DW0_DEW0_B1.pkl"
        ],
        [
         "23",
         "Iris/LFRPredictor/Raw/2IS_Dlfr_A5_DW0_DEW0_B1.pkl"
        ]
       ],
       "shape": {
        "columns": 1,
        "rows": 24
       }
      },
      "text/plain": [
       "0     Iris/RandomForestClassifierPredictor/Raw/0IS_R...\n",
       "1     Iris/LFRPredictor/Raw/0IS_Ulfr_A5_DW0_DEW0_B1.pkl\n",
       "2     Iris/LFRPredictor/Raw/0IS_Dlfr_A5_DW0_DEW0_B1.pkl\n",
       "3     Iris/GaussianProcessClassifierPredictor/Raw/0I...\n",
       "4     Iris/GaussianProcessClassifierPredictor/Raw/0I...\n",
       "5     Iris/BayesianNeuralNetworkPredictor/Raw/0IS_BN...\n",
       "6     Iris/RandomForestClassifierPredictor/Raw/0IS_R...\n",
       "7     Iris/BayesianNeuralNetworkPredictor/Raw/0IS_BN...\n",
       "8     Iris/GaussianProcessClassifierPredictor/Raw/1I...\n",
       "9     Iris/LFRPredictor/Raw/1IS_Dlfr_A5_DW0_DEW0_B1.pkl\n",
       "10    Iris/LFRPredictor/Raw/1IS_Ulfr_A5_DW0_DEW0_B1.pkl\n",
       "11    Iris/BayesianNeuralNetworkPredictor/Raw/1IS_BN...\n",
       "12    Iris/GaussianProcessClassifierPredictor/Raw/1I...\n",
       "13    Iris/RandomForestClassifierPredictor/Raw/1IS_R...\n",
       "14    Iris/BayesianNeuralNetworkPredictor/Raw/1IS_BN...\n",
       "15    Iris/RandomForestClassifierPredictor/Raw/1IS_R...\n",
       "16    Iris/LFRPredictor/Raw/2IS_Ulfr_A5_DW0_DEW0_B1.pkl\n",
       "17    Iris/BayesianNeuralNetworkPredictor/Raw/2IS_BN...\n",
       "18    Iris/GaussianProcessClassifierPredictor/Raw/2I...\n",
       "19    Iris/BayesianNeuralNetworkPredictor/Raw/2IS_BN...\n",
       "20    Iris/GaussianProcessClassifierPredictor/Raw/2I...\n",
       "21    Iris/RandomForestClassifierPredictor/Raw/2IS_R...\n",
       "22    Iris/RandomForestClassifierPredictor/Raw/2IS_R...\n",
       "23    Iris/LFRPredictor/Raw/2IS_Dlfr_A5_DW0_DEW0_B1.pkl\n",
       "Name: Output, dtype: object"
      ]
     },
     "execution_count": 4,
     "metadata": {},
     "output_type": "execute_result"
    }
   ],
   "source": [
    "ParameterVector[\"Output\"]"
   ]
  },
  {
   "cell_type": "markdown",
   "metadata": {},
   "source": [
    "# Only run these ones"
   ]
  },
  {
   "cell_type": "code",
   "execution_count": 5,
   "metadata": {},
   "outputs": [],
   "source": [
    "# # ### Simulations that failed ###\n",
    "# FilterText = ['26B7_UA02']\n",
    "# ParameterVector = FilterJobNames(ParameterVector,FilterText)\n",
    "# ParameterVector.index = range(0,len(ParameterVector))\n",
    "# ParameterVector"
   ]
  },
  {
   "cell_type": "markdown",
   "metadata": {},
   "source": [
    "---"
   ]
  },
  {
   "cell_type": "markdown",
   "metadata": {},
   "source": [
    "# Save Parameter Vector"
   ]
  },
  {
   "cell_type": "code",
   "execution_count": 6,
   "metadata": {},
   "outputs": [],
   "source": [
    "### Resave ###\n",
    "output_path = \"/Users/simondn/Documents/RashomonActiveLearning/Data/ParameterVectors/ParameterVector\" + str(Data) + \".csv\"\n",
    "ParameterVector.to_csv(output_path, index=False)"
   ]
  }
 ],
 "metadata": {
  "kernelspec": {
   "display_name": "Python 3",
   "language": "python",
   "name": "python3"
  },
  "language_info": {
   "codemirror_mode": {
    "name": "ipython",
    "version": 3
   },
   "file_extension": ".py",
   "mimetype": "text/x-python",
   "name": "python",
   "nbconvert_exporter": "python",
   "pygments_lexer": "ipython3",
   "version": "3.9.6"
  }
 },
 "nbformat": 4,
 "nbformat_minor": 2
}

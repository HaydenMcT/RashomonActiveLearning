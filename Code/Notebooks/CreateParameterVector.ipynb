{
 "cells": [
  {
   "cell_type": "markdown",
   "metadata": {},
   "source": [
    "# Packages"
   ]
  },
  {
   "cell_type": "code",
   "execution_count": 1,
   "metadata": {},
   "outputs": [],
   "source": [
    "### Import packages ###\n",
    "import itertools\n",
    "import numpy as np\n",
    "import pandas as pd\n",
    "import sys\n",
    "sys.path.append('..')\n",
    "from utils.Auxiliary import CreateParameterVectorFunction\n",
    "from utils.Auxiliary import FilterJobNames"
   ]
  },
  {
   "cell_type": "markdown",
   "metadata": {},
   "source": [
    "---"
   ]
  },
  {
   "cell_type": "markdown",
   "metadata": {},
   "source": [
    "# Create Parameter Vector"
   ]
  },
  {
   "cell_type": "code",
   "execution_count": 2,
   "metadata": {},
   "outputs": [],
   "source": [
    "# Data: Iris  MONK1  MONK3  Bar7 (10)  COMPAS (50) | BankNote (10)  BreastCancer (5)  CarEvaluation (10)  FICO (50)  Haberman\n",
    "Data = \"Iris\"\n",
    "ParameterVector = CreateParameterVectorFunction(Data = Data,\n",
    "                                  Seed = range(0,1),                     # range(0,50)\n",
    "                                  RashomonThreshold = 0.5,        # For TreeFarms\n",
    "                                  DiversityWeight = 0,          # For BatchQBC\n",
    "                                  DensityWeight = 0,            # For BatchQBC\n",
    "                                  BatchSize = 1,                           # 1 5 or 10\n",
    "                                  Partition = \"short\",                                # [short, medium, long, largemem, compute, cpu-g2-mem2x]\n",
    "                                  Time = \"11:59:00\",                                     # [00:59:00, 11:59:00, 6-23:59:00]\n",
    "                                  Memory = \"30000M\",                                   # [100M, 30000M, 100000M]\n",
    "                                  IncludePL_RF=True,       # Passive Learning with RandomForestClassifierPredictor\n",
    "                                  IncludePL_GPC=True,      # Passive Learning with GaussianProcessClassifierPredictor\n",
    "                                  IncludePL_BNN=True,      # Passive Learning with BayesianNeuralNetworkPredictor\n",
    "                                  IncludeBALD_BNN=True,    # BALD with BayesianNeuralNetworkPredictor\n",
    "                                  IncludeBALD_GPC=True,    # BALD with GaussianProcessClassifierPredictor\n",
    "                                  IncludeQBC_TreeFarms_Unique=False, # BatchQBC with TreeFarmsPredictor (UniqueErrorsInput=1)\n",
    "                                  IncludeQBC_TreeFarms_Duplicate=False, # BatchQBC with TreeFarmsPredictor (UniqueErrorsInput=0)\n",
    "                                  IncludeQBC_RF=True,      # BatchQBC with RandomForestClassifierPredictor\n",
    "                                  IncludeLFR_TreeFarms_Unique=False, #BatchQBC with LFRPredictor (UniqueErrorsInput=1)\n",
    "                                  IncludeLFR_TreeFarms_Duplicate=False #BatchQBC with LFRPredictor (UniqueErrorsInput=0)\n",
    "                                  )"
   ]
  },
  {
   "cell_type": "markdown",
   "metadata": {},
   "source": [
    "# Evaluate"
   ]
  },
  {
   "cell_type": "code",
   "execution_count": 3,
   "metadata": {},
   "outputs": [
    {
     "data": {
      "application/vnd.microsoft.datawrangler.viewer.v0+json": {
       "columns": [
        {
         "name": "index",
         "rawType": "int64",
         "type": "integer"
        },
        {
         "name": "JobName",
         "rawType": "object",
         "type": "string"
        }
       ],
       "ref": "2373eb2b-6a86-410b-a84e-200a3ba9aa05",
       "rows": [
        [
         "0",
         "0IS_MTRandomForestClassifierPredictor_STPassiveLearningSelector_UEI0A0_DW0_DEW0_B1"
        ],
        [
         "1",
         "0IS_MTGaussianProcessClassifierPredictor_STPassiveLearningSelector_UEI0A0_DW0_DEW0_B1_KTRBF_KLS1.0_KNU1.5_K0.0"
        ],
        [
         "2",
         "0IS_MTBayesianNeuralNetworkPredictor_STPassiveLearningSelector_UEI0A0_DW0_DEW0_B1_HS50.0_DR0.2_E100.0_LR0.001_BST32.0_K20.0"
        ],
        [
         "3",
         "0IS_MTBayesianNeuralNetworkPredictor_STBALDSelector_UEI0A0_DW0_DEW0_B1_HS50.0_DR0.2_E100.0_LR0.001_BST32.0_K20.0"
        ],
        [
         "4",
         "0IS_MTGaussianProcessClassifierPredictor_STBALDSelector_UEI0A0_DW0_DEW0_B1_KTRBF_KLS1.0_KNU1.5_K20.0"
        ],
        [
         "5",
         "0IS_MTRandomForestClassifierPredictor_STBatchQBCSelector_UEI0A0_DW0_DEW0_B1"
        ]
       ],
       "shape": {
        "columns": 1,
        "rows": 6
       }
      },
      "text/plain": [
       "0    0IS_MTRandomForestClassifierPredictor_STPassiv...\n",
       "1    0IS_MTGaussianProcessClassifierPredictor_STPas...\n",
       "2    0IS_MTBayesianNeuralNetworkPredictor_STPassive...\n",
       "3    0IS_MTBayesianNeuralNetworkPredictor_STBALDSel...\n",
       "4    0IS_MTGaussianProcessClassifierPredictor_STBAL...\n",
       "5    0IS_MTRandomForestClassifierPredictor_STBatchQ...\n",
       "Name: JobName, dtype: object"
      ]
     },
     "execution_count": 3,
     "metadata": {},
     "output_type": "execute_result"
    }
   ],
   "source": [
    "ParameterVector[\"JobName\"]"
   ]
  },
  {
   "cell_type": "markdown",
   "metadata": {},
   "source": [
    "# Only run these ones"
   ]
  },
  {
   "cell_type": "code",
   "execution_count": 54,
   "metadata": {},
   "outputs": [],
   "source": [
    "# # ### Simulations that failed ###\n",
    "# FilterText = ['26B7_UA02']\n",
    "# ParameterVector = FilterJobNames(ParameterVector,FilterText)\n",
    "# ParameterVector.index = range(0,len(ParameterVector))\n",
    "# ParameterVector"
   ]
  },
  {
   "cell_type": "markdown",
   "metadata": {},
   "source": [
    "---"
   ]
  },
  {
   "cell_type": "markdown",
   "metadata": {},
   "source": [
    "# Save Parameter Vector"
   ]
  },
  {
   "cell_type": "code",
   "execution_count": 4,
   "metadata": {},
   "outputs": [],
   "source": [
    "### Resave ###\n",
    "output_path = \"/Users/simondn/Documents/RashomonActiveLearning/Data/ParameterVectors/ParameterVector\" + str(Data) + \".csv\"\n",
    "ParameterVector.to_csv(output_path, index=False)"
   ]
  }
 ],
 "metadata": {
  "kernelspec": {
   "display_name": "Python 3",
   "language": "python",
   "name": "python3"
  },
  "language_info": {
   "codemirror_mode": {
    "name": "ipython",
    "version": 3
   },
   "file_extension": ".py",
   "mimetype": "text/x-python",
   "name": "python",
   "nbconvert_exporter": "python",
   "pygments_lexer": "ipython3",
   "version": "3.9.6"
  }
 },
 "nbformat": 4,
 "nbformat_minor": 2
}

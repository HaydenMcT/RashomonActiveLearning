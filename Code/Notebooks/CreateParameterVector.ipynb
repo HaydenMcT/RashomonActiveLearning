{
 "cells": [
  {
   "cell_type": "markdown",
   "metadata": {},
   "source": [
    "# Packages"
   ]
  },
  {
   "cell_type": "code",
   "execution_count": 1,
   "metadata": {},
   "outputs": [],
   "source": [
    "### Import packages ###\n",
    "import itertools\n",
    "import numpy as np\n",
    "import pandas as pd\n",
    "import sys\n",
    "sys.path.append('..')\n",
    "from utils.Auxiliary import CreateParameterVectorFunction\n",
    "from utils.Auxiliary import FilterJobNames"
   ]
  },
  {
   "cell_type": "markdown",
   "metadata": {},
   "source": [
    "---"
   ]
  },
  {
   "cell_type": "markdown",
   "metadata": {},
   "source": [
    "# Create Parameter Vector"
   ]
  },
  {
   "cell_type": "code",
   "execution_count": null,
   "metadata": {},
   "outputs": [],
   "source": [
    "# Running: Iris, MONK1, MONK3, Bar7, Haberman"
   ]
  },
  {
   "cell_type": "code",
   "execution_count": 2,
   "metadata": {},
   "outputs": [],
   "source": [
    "# Data: Iris  MONK1  MONK3  Bar7 (10)  COMPAS (50) | BankNote (10)  BreastCancer (5)  CarEvaluation (10)  FICO (50)  Haberman\n",
    "Data = \"Haberman\"\n",
    "ParameterVector = CreateParameterVectorFunction(Data = Data,\n",
    "                                  Seed = range(0,50),                     # range(0,50)\n",
    "                                  RashomonThreshold = 0.5,        # For TreeFarms\n",
    "                                  DiversityWeight = 0,          # For BatchQBC\n",
    "                                  DensityWeight = 0,            # For BatchQBC\n",
    "                                  BatchSize = 1,                           # 1 5 or 10\n",
    "                                  Partition = \"short\",                                # [short, medium, long, largemem, compute, cpu-g2-mem2x]\n",
    "                                  Time = \"11:59:00\",                                     # [00:59:00, 11:59:00, 6-23:59:00]\n",
    "                                  Memory = \"30000M\",                                   # [100M, 30000M, 100000M]\n",
    "                                  IncludePL_RF=True,       # Passive Learning with RandomForestClassifierPredictor\n",
    "                                  IncludePL_GPC=True,      # Passive Learning with GaussianProcessClassifierPredictor\n",
    "                                  IncludePL_BNN=True,      # Passive Learning with BayesianNeuralNetworkPredictor\n",
    "                                  IncludeBALD_BNN=True,    # BALD with BayesianNeuralNetworkPredictor\n",
    "                                  IncludeBALD_GPC=True,    # BALD with GaussianProcessClassifierPredictor\n",
    "                                  IncludeQBC_TreeFarms_Unique=False, # BatchQBC with TreeFarmsPredictor (UniqueErrorsInput=1)\n",
    "                                  IncludeQBC_TreeFarms_Duplicate=False, # BatchQBC with TreeFarmsPredictor (UniqueErrorsInput=0)\n",
    "                                  IncludeQBC_RF=True,      # BatchQBC with RandomForestClassifierPredictor\n",
    "                                  IncludeLFR_TreeFarms_Unique=True, #BatchQBC with LFRPredictor (UniqueErrorsInput=1)\n",
    "                                  IncludeLFR_TreeFarms_Duplicate=True #BatchQBC with LFRPredictor (UniqueErrorsInput=0)\n",
    "                                  )"
   ]
  },
  {
   "cell_type": "markdown",
   "metadata": {},
   "source": [
    "# Evaluate"
   ]
  },
  {
   "cell_type": "code",
   "execution_count": 3,
   "metadata": {},
   "outputs": [
    {
     "data": {
      "application/vnd.microsoft.datawrangler.viewer.v0+json": {
       "columns": [
        {
         "name": "index",
         "rawType": "int64",
         "type": "integer"
        },
        {
         "name": "JobName",
         "rawType": "object",
         "type": "string"
        }
       ],
       "ref": "42a5657b-204f-4b22-a794-da5819a95936",
       "rows": [
        [
         "0",
         "0HM_RF_PL_B1"
        ],
        [
         "1",
         "0HM_GPC_PL_B1_KTRBF_KLS1_KNU1.5"
        ],
        [
         "2",
         "0HM_Dlfr_A5_DW0_DEW0_B1"
        ],
        [
         "3",
         "0HM_RF_QBC_DW0_DEW0_B1"
        ],
        [
         "4",
         "0HM_GPC_BALD_B1_KTRBF_KLS1_KNU1.5_K20"
        ],
        [
         "5",
         "0HM_Ulfr_A5_DW0_DEW0_B1"
        ],
        [
         "6",
         "0HM_BNN_BALD_B1_HS50_DR2_E100_LR001_BST32_K20"
        ],
        [
         "7",
         "0HM_BNN_PL_B1_HS50_DR2_E100_LR001_BST32"
        ],
        [
         "8",
         "1HM_GPC_PL_B1_KTRBF_KLS1_KNU1.5"
        ],
        [
         "9",
         "1HM_Dlfr_A5_DW0_DEW0_B1"
        ],
        [
         "10",
         "1HM_RF_QBC_DW0_DEW0_B1"
        ],
        [
         "11",
         "1HM_GPC_BALD_B1_KTRBF_KLS1_KNU1.5_K20"
        ],
        [
         "12",
         "1HM_BNN_BALD_B1_HS50_DR2_E100_LR001_BST32_K20"
        ],
        [
         "13",
         "1HM_Ulfr_A5_DW0_DEW0_B1"
        ],
        [
         "14",
         "1HM_BNN_PL_B1_HS50_DR2_E100_LR001_BST32"
        ],
        [
         "15",
         "1HM_RF_PL_B1"
        ],
        [
         "16",
         "2HM_BNN_PL_B1_HS50_DR2_E100_LR001_BST32"
        ],
        [
         "17",
         "2HM_RF_QBC_DW0_DEW0_B1"
        ],
        [
         "18",
         "2HM_BNN_BALD_B1_HS50_DR2_E100_LR001_BST32_K20"
        ],
        [
         "19",
         "2HM_GPC_BALD_B1_KTRBF_KLS1_KNU1.5_K20"
        ],
        [
         "20",
         "2HM_GPC_PL_B1_KTRBF_KLS1_KNU1.5"
        ],
        [
         "21",
         "2HM_RF_PL_B1"
        ],
        [
         "22",
         "2HM_Dlfr_A5_DW0_DEW0_B1"
        ],
        [
         "23",
         "2HM_Ulfr_A5_DW0_DEW0_B1"
        ],
        [
         "24",
         "3HM_GPC_BALD_B1_KTRBF_KLS1_KNU1.5_K20"
        ],
        [
         "25",
         "3HM_RF_PL_B1"
        ],
        [
         "26",
         "3HM_Dlfr_A5_DW0_DEW0_B1"
        ],
        [
         "27",
         "3HM_RF_QBC_DW0_DEW0_B1"
        ],
        [
         "28",
         "3HM_Ulfr_A5_DW0_DEW0_B1"
        ],
        [
         "29",
         "3HM_GPC_PL_B1_KTRBF_KLS1_KNU1.5"
        ],
        [
         "30",
         "3HM_BNN_BALD_B1_HS50_DR2_E100_LR001_BST32_K20"
        ],
        [
         "31",
         "3HM_BNN_PL_B1_HS50_DR2_E100_LR001_BST32"
        ],
        [
         "32",
         "4HM_GPC_BALD_B1_KTRBF_KLS1_KNU1.5_K20"
        ],
        [
         "33",
         "4HM_Dlfr_A5_DW0_DEW0_B1"
        ],
        [
         "34",
         "4HM_Ulfr_A5_DW0_DEW0_B1"
        ],
        [
         "35",
         "4HM_RF_PL_B1"
        ],
        [
         "36",
         "4HM_BNN_BALD_B1_HS50_DR2_E100_LR001_BST32_K20"
        ],
        [
         "37",
         "4HM_BNN_PL_B1_HS50_DR2_E100_LR001_BST32"
        ],
        [
         "38",
         "4HM_RF_QBC_DW0_DEW0_B1"
        ],
        [
         "39",
         "4HM_GPC_PL_B1_KTRBF_KLS1_KNU1.5"
        ],
        [
         "40",
         "5HM_RF_PL_B1"
        ],
        [
         "41",
         "5HM_GPC_BALD_B1_KTRBF_KLS1_KNU1.5_K20"
        ],
        [
         "42",
         "5HM_Dlfr_A5_DW0_DEW0_B1"
        ],
        [
         "43",
         "5HM_BNN_PL_B1_HS50_DR2_E100_LR001_BST32"
        ],
        [
         "44",
         "5HM_Ulfr_A5_DW0_DEW0_B1"
        ],
        [
         "45",
         "5HM_BNN_BALD_B1_HS50_DR2_E100_LR001_BST32_K20"
        ],
        [
         "46",
         "5HM_RF_QBC_DW0_DEW0_B1"
        ],
        [
         "47",
         "5HM_GPC_PL_B1_KTRBF_KLS1_KNU1.5"
        ],
        [
         "48",
         "6HM_RF_PL_B1"
        ],
        [
         "49",
         "6HM_RF_QBC_DW0_DEW0_B1"
        ]
       ],
       "shape": {
        "columns": 1,
        "rows": 400
       }
      },
      "text/plain": [
       "0                                  0HM_RF_PL_B1\n",
       "1               0HM_GPC_PL_B1_KTRBF_KLS1_KNU1.5\n",
       "2                       0HM_Dlfr_A5_DW0_DEW0_B1\n",
       "3                        0HM_RF_QBC_DW0_DEW0_B1\n",
       "4         0HM_GPC_BALD_B1_KTRBF_KLS1_KNU1.5_K20\n",
       "                         ...                   \n",
       "395    49HM_BNN_PL_B1_HS50_DR2_E100_LR001_BST32\n",
       "396            49HM_GPC_PL_B1_KTRBF_KLS1_KNU1.5\n",
       "397                               49HM_RF_PL_B1\n",
       "398                    49HM_Ulfr_A5_DW0_DEW0_B1\n",
       "399                    49HM_Dlfr_A5_DW0_DEW0_B1\n",
       "Name: JobName, Length: 400, dtype: object"
      ]
     },
     "execution_count": 3,
     "metadata": {},
     "output_type": "execute_result"
    }
   ],
   "source": [
    "ParameterVector[\"JobName\"]"
   ]
  },
  {
   "cell_type": "code",
   "execution_count": 4,
   "metadata": {},
   "outputs": [
    {
     "data": {
      "application/vnd.microsoft.datawrangler.viewer.v0+json": {
       "columns": [
        {
         "name": "index",
         "rawType": "int64",
         "type": "integer"
        },
        {
         "name": "Output",
         "rawType": "object",
         "type": "string"
        }
       ],
       "ref": "57c643e1-9d3a-433e-8e48-309bb2acee94",
       "rows": [
        [
         "0",
         "Haberman/RandomForestClassifierPredictor/Raw/0HM_RF_PL_B1.pkl"
        ],
        [
         "1",
         "Haberman/GaussianProcessClassifierPredictor/Raw/0HM_GPC_PL_B1_KTRBF_KLS1_KNU1.5.pkl"
        ],
        [
         "2",
         "Haberman/LFRPredictor/Raw/0HM_Dlfr_A5_DW0_DEW0_B1.pkl"
        ],
        [
         "3",
         "Haberman/RandomForestClassifierPredictor/Raw/0HM_RF_QBC_DW0_DEW0_B1.pkl"
        ],
        [
         "4",
         "Haberman/GaussianProcessClassifierPredictor/Raw/0HM_GPC_BALD_B1_KTRBF_KLS1_KNU1.5_K20.pkl"
        ],
        [
         "5",
         "Haberman/LFRPredictor/Raw/0HM_Ulfr_A5_DW0_DEW0_B1.pkl"
        ],
        [
         "6",
         "Haberman/BayesianNeuralNetworkPredictor/Raw/0HM_BNN_BALD_B1_HS50_DR2_E100_LR001_BST32_K20.pkl"
        ],
        [
         "7",
         "Haberman/BayesianNeuralNetworkPredictor/Raw/0HM_BNN_PL_B1_HS50_DR2_E100_LR001_BST32.pkl"
        ],
        [
         "8",
         "Haberman/GaussianProcessClassifierPredictor/Raw/1HM_GPC_PL_B1_KTRBF_KLS1_KNU1.5.pkl"
        ],
        [
         "9",
         "Haberman/LFRPredictor/Raw/1HM_Dlfr_A5_DW0_DEW0_B1.pkl"
        ],
        [
         "10",
         "Haberman/RandomForestClassifierPredictor/Raw/1HM_RF_QBC_DW0_DEW0_B1.pkl"
        ],
        [
         "11",
         "Haberman/GaussianProcessClassifierPredictor/Raw/1HM_GPC_BALD_B1_KTRBF_KLS1_KNU1.5_K20.pkl"
        ],
        [
         "12",
         "Haberman/BayesianNeuralNetworkPredictor/Raw/1HM_BNN_BALD_B1_HS50_DR2_E100_LR001_BST32_K20.pkl"
        ],
        [
         "13",
         "Haberman/LFRPredictor/Raw/1HM_Ulfr_A5_DW0_DEW0_B1.pkl"
        ],
        [
         "14",
         "Haberman/BayesianNeuralNetworkPredictor/Raw/1HM_BNN_PL_B1_HS50_DR2_E100_LR001_BST32.pkl"
        ],
        [
         "15",
         "Haberman/RandomForestClassifierPredictor/Raw/1HM_RF_PL_B1.pkl"
        ],
        [
         "16",
         "Haberman/BayesianNeuralNetworkPredictor/Raw/2HM_BNN_PL_B1_HS50_DR2_E100_LR001_BST32.pkl"
        ],
        [
         "17",
         "Haberman/RandomForestClassifierPredictor/Raw/2HM_RF_QBC_DW0_DEW0_B1.pkl"
        ],
        [
         "18",
         "Haberman/BayesianNeuralNetworkPredictor/Raw/2HM_BNN_BALD_B1_HS50_DR2_E100_LR001_BST32_K20.pkl"
        ],
        [
         "19",
         "Haberman/GaussianProcessClassifierPredictor/Raw/2HM_GPC_BALD_B1_KTRBF_KLS1_KNU1.5_K20.pkl"
        ],
        [
         "20",
         "Haberman/GaussianProcessClassifierPredictor/Raw/2HM_GPC_PL_B1_KTRBF_KLS1_KNU1.5.pkl"
        ],
        [
         "21",
         "Haberman/RandomForestClassifierPredictor/Raw/2HM_RF_PL_B1.pkl"
        ],
        [
         "22",
         "Haberman/LFRPredictor/Raw/2HM_Dlfr_A5_DW0_DEW0_B1.pkl"
        ],
        [
         "23",
         "Haberman/LFRPredictor/Raw/2HM_Ulfr_A5_DW0_DEW0_B1.pkl"
        ],
        [
         "24",
         "Haberman/GaussianProcessClassifierPredictor/Raw/3HM_GPC_BALD_B1_KTRBF_KLS1_KNU1.5_K20.pkl"
        ],
        [
         "25",
         "Haberman/RandomForestClassifierPredictor/Raw/3HM_RF_PL_B1.pkl"
        ],
        [
         "26",
         "Haberman/LFRPredictor/Raw/3HM_Dlfr_A5_DW0_DEW0_B1.pkl"
        ],
        [
         "27",
         "Haberman/RandomForestClassifierPredictor/Raw/3HM_RF_QBC_DW0_DEW0_B1.pkl"
        ],
        [
         "28",
         "Haberman/LFRPredictor/Raw/3HM_Ulfr_A5_DW0_DEW0_B1.pkl"
        ],
        [
         "29",
         "Haberman/GaussianProcessClassifierPredictor/Raw/3HM_GPC_PL_B1_KTRBF_KLS1_KNU1.5.pkl"
        ],
        [
         "30",
         "Haberman/BayesianNeuralNetworkPredictor/Raw/3HM_BNN_BALD_B1_HS50_DR2_E100_LR001_BST32_K20.pkl"
        ],
        [
         "31",
         "Haberman/BayesianNeuralNetworkPredictor/Raw/3HM_BNN_PL_B1_HS50_DR2_E100_LR001_BST32.pkl"
        ],
        [
         "32",
         "Haberman/GaussianProcessClassifierPredictor/Raw/4HM_GPC_BALD_B1_KTRBF_KLS1_KNU1.5_K20.pkl"
        ],
        [
         "33",
         "Haberman/LFRPredictor/Raw/4HM_Dlfr_A5_DW0_DEW0_B1.pkl"
        ],
        [
         "34",
         "Haberman/LFRPredictor/Raw/4HM_Ulfr_A5_DW0_DEW0_B1.pkl"
        ],
        [
         "35",
         "Haberman/RandomForestClassifierPredictor/Raw/4HM_RF_PL_B1.pkl"
        ],
        [
         "36",
         "Haberman/BayesianNeuralNetworkPredictor/Raw/4HM_BNN_BALD_B1_HS50_DR2_E100_LR001_BST32_K20.pkl"
        ],
        [
         "37",
         "Haberman/BayesianNeuralNetworkPredictor/Raw/4HM_BNN_PL_B1_HS50_DR2_E100_LR001_BST32.pkl"
        ],
        [
         "38",
         "Haberman/RandomForestClassifierPredictor/Raw/4HM_RF_QBC_DW0_DEW0_B1.pkl"
        ],
        [
         "39",
         "Haberman/GaussianProcessClassifierPredictor/Raw/4HM_GPC_PL_B1_KTRBF_KLS1_KNU1.5.pkl"
        ],
        [
         "40",
         "Haberman/RandomForestClassifierPredictor/Raw/5HM_RF_PL_B1.pkl"
        ],
        [
         "41",
         "Haberman/GaussianProcessClassifierPredictor/Raw/5HM_GPC_BALD_B1_KTRBF_KLS1_KNU1.5_K20.pkl"
        ],
        [
         "42",
         "Haberman/LFRPredictor/Raw/5HM_Dlfr_A5_DW0_DEW0_B1.pkl"
        ],
        [
         "43",
         "Haberman/BayesianNeuralNetworkPredictor/Raw/5HM_BNN_PL_B1_HS50_DR2_E100_LR001_BST32.pkl"
        ],
        [
         "44",
         "Haberman/LFRPredictor/Raw/5HM_Ulfr_A5_DW0_DEW0_B1.pkl"
        ],
        [
         "45",
         "Haberman/BayesianNeuralNetworkPredictor/Raw/5HM_BNN_BALD_B1_HS50_DR2_E100_LR001_BST32_K20.pkl"
        ],
        [
         "46",
         "Haberman/RandomForestClassifierPredictor/Raw/5HM_RF_QBC_DW0_DEW0_B1.pkl"
        ],
        [
         "47",
         "Haberman/GaussianProcessClassifierPredictor/Raw/5HM_GPC_PL_B1_KTRBF_KLS1_KNU1.5.pkl"
        ],
        [
         "48",
         "Haberman/RandomForestClassifierPredictor/Raw/6HM_RF_PL_B1.pkl"
        ],
        [
         "49",
         "Haberman/RandomForestClassifierPredictor/Raw/6HM_RF_QBC_DW0_DEW0_B1.pkl"
        ]
       ],
       "shape": {
        "columns": 1,
        "rows": 400
       }
      },
      "text/plain": [
       "0      Haberman/RandomForestClassifierPredictor/Raw/0...\n",
       "1      Haberman/GaussianProcessClassifierPredictor/Ra...\n",
       "2      Haberman/LFRPredictor/Raw/0HM_Dlfr_A5_DW0_DEW0...\n",
       "3      Haberman/RandomForestClassifierPredictor/Raw/0...\n",
       "4      Haberman/GaussianProcessClassifierPredictor/Ra...\n",
       "                             ...                        \n",
       "395    Haberman/BayesianNeuralNetworkPredictor/Raw/49...\n",
       "396    Haberman/GaussianProcessClassifierPredictor/Ra...\n",
       "397    Haberman/RandomForestClassifierPredictor/Raw/4...\n",
       "398    Haberman/LFRPredictor/Raw/49HM_Ulfr_A5_DW0_DEW...\n",
       "399    Haberman/LFRPredictor/Raw/49HM_Dlfr_A5_DW0_DEW...\n",
       "Name: Output, Length: 400, dtype: object"
      ]
     },
     "execution_count": 4,
     "metadata": {},
     "output_type": "execute_result"
    }
   ],
   "source": [
    "ParameterVector[\"Output\"]"
   ]
  },
  {
   "cell_type": "markdown",
   "metadata": {},
   "source": [
    "# Only run these ones"
   ]
  },
  {
   "cell_type": "code",
   "execution_count": 5,
   "metadata": {},
   "outputs": [],
   "source": [
    "# # ### Simulations that failed ###\n",
    "# FilterText = ['26B7_UA02']\n",
    "# ParameterVector = FilterJobNames(ParameterVector,FilterText)\n",
    "# ParameterVector.index = range(0,len(ParameterVector))\n",
    "# ParameterVector"
   ]
  },
  {
   "cell_type": "markdown",
   "metadata": {},
   "source": [
    "---"
   ]
  },
  {
   "cell_type": "markdown",
   "metadata": {},
   "source": [
    "# Save Parameter Vector"
   ]
  },
  {
   "cell_type": "code",
   "execution_count": 6,
   "metadata": {},
   "outputs": [],
   "source": [
    "### Resave ###\n",
    "output_path = \"/Users/simondn/Documents/RashomonActiveLearning/Data/ParameterVectors/ParameterVector\" + str(Data) + \".csv\"\n",
    "ParameterVector.to_csv(output_path, index=False)"
   ]
  }
 ],
 "metadata": {
  "kernelspec": {
   "display_name": "Python 3",
   "language": "python",
   "name": "python3"
  },
  "language_info": {
   "codemirror_mode": {
    "name": "ipython",
    "version": 3
   },
   "file_extension": ".py",
   "mimetype": "text/x-python",
   "name": "python",
   "nbconvert_exporter": "python",
   "pygments_lexer": "ipython3",
   "version": "3.9.6"
  }
 },
 "nbformat": 4,
 "nbformat_minor": 2
}

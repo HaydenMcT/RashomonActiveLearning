{
 "cells": [
  {
   "cell_type": "code",
   "execution_count": 1,
   "metadata": {},
   "outputs": [],
   "source": [
    "### Import packages ###\n",
    "import time\n",
    "import numpy as np\n",
    "import math as math\n",
    "import pandas as pd\n",
    "import random as random\n",
    "from sklearn.cluster import AgglomerativeClustering\n",
    "\n",
    "### Append Path ###\n",
    "import sys\n",
    "sys.path.append('..')\n",
    "\n",
    "### Import functions ###\n",
    "from utils.Main import *\n",
    "from utils.Selector import *\n",
    "from utils.Auxiliary import *\n",
    "from utils.Prediction import *"
   ]
  },
  {
   "cell_type": "markdown",
   "metadata": {},
   "source": [
    "# Inputs"
   ]
  },
  {
   "cell_type": "code",
   "execution_count": 2,
   "metadata": {},
   "outputs": [],
   "source": [
    "### Get Directory ###\n",
    "cwd = os.getcwd()\n",
    "ParentDirectory = os.path.abspath(os.path.join(cwd, \"..\",\"..\"))\n",
    "\n",
    "### DataType ###\n",
    "DataFileInput = \"mpg\"  # BankNote  Bar7  BreastCancer  CarEvaluation  COMPAS  FICO  Haberman  Iris  MONK1  MONK3"
   ]
  },
  {
   "cell_type": "code",
   "execution_count": 3,
   "metadata": {},
   "outputs": [],
   "source": [
    "### Parameter Vector ###\n",
    "# ParameterVector = pd.read_csv(os.path.join(ParentDirectory, \"Data\", \"ParameterVectors\", \"ParameterVector\" + DataFileInput + \".csv\"))\n",
    "\n",
    "# ### Parameter Vector ###\n",
    "# for SimV in range(0,len(ParameterVector)):\n",
    "#     SimulationConfigInput = {\"DataFileInput\": ParameterVector.iloc[SimV][\"Data\"],\n",
    "#                             \"Seed\": int(ParameterVector.iloc[SimV][\"Seed\"]),\n",
    "#                             \"TestProportion\": float(ParameterVector.iloc[SimV][\"TestProportion\"]),\n",
    "#                             \"CandidateProportion\": float(ParameterVector.iloc[SimV][\"CandidateProportion\"]),\n",
    "#                             \"SelectorType\": str(ParameterVector.iloc[SimV][\"SelectorType\"]), \n",
    "#                             \"ModelType\": str(ParameterVector.iloc[SimV][\"ModelType\"]), \n",
    "#                             \"UniqueErrorsInput\": int(ParameterVector.iloc[SimV][\"UniqueErrorsInput\"]),\n",
    "#                             \"n_estimators\":int(ParameterVector.iloc[SimV][\"n_estimators\"]),\n",
    "#                             \"regularization\":float(ParameterVector.iloc[SimV][\"regularization\"]),\n",
    "#                             \"RashomonThresholdType\":ParameterVector.iloc[SimV][\"RashomonThresholdType\"],\n",
    "#                             \"RashomonThreshold\":float(ParameterVector.iloc[SimV][\"RashomonThreshold\"]),\n",
    "#                             \"Type\":ParameterVector.iloc[SimV][\"Type\"]\n",
    "#                             }\n",
    "\n",
    "SimulationConfigInput = {'DataFileInput': DataFileInput,\n",
    "    'Seed': 1,\n",
    "    'TestProportion': 0.2,\n",
    "    'CandidateProportion': 0.8,\n",
    "    'SelectorType': 'iGSFunction', # BatchQBCDiversityFunction, PassiveLearning\n",
    "    'ModelType': 'RidgeRegressionFunction', # RandomForestClassificationFunction, TreeFarmsFunction\n",
    "    'UniqueErrorsInput': 0,\n",
    "    'n_estimators': 100,\n",
    "    'regularization': 0.01,\n",
    "    'RashomonThresholdType': \"Adder\",\n",
    "    'RashomonThreshold': 0.00,\n",
    "    'Type': 'Regression',\n",
    "    \"DiversityWeight\" : 0,\n",
    "    \"DensityWeight\" : 0,\n",
    "    \"BatchSize\" : 1}\n"
   ]
  },
  {
   "cell_type": "code",
   "execution_count": 4,
   "metadata": {},
   "outputs": [],
   "source": [
    "### Set Up ###\n",
    "StartTime = time.time()\n",
    "random.seed(SimulationConfigInput[\"Seed\"])\n",
    "np.random.seed(SimulationConfigInput[\"Seed\"])\n",
    "\n",
    "### Load Data ###\n",
    "df = LoadData(SimulationConfigInput[\"DataFileInput\"])\n",
    "\n",
    "### Train Test Candidate Split ###\n",
    "from utils.Main import TrainTestCandidateSplit                           ### NOTE: Why is this not imported from utils.Main import *\n",
    "df_Train, df_Test, df_Candidate = TrainTestCandidateSplit(df, SimulationConfigInput[\"TestProportion\"], SimulationConfigInput[\"CandidateProportion\"])\n",
    "\n",
    "### Add Batch Active Learning Diversity Metrics ###\n",
    "df_Candidate = DiversityMetricsFunction(df_Candidate, df_Train, k=10)\n",
    "\n",
    "### Update SimulationConfig Arguments ###\n",
    "SimulationConfigInput['df_Train'] = df_Train\n",
    "SimulationConfigInput[\"df_Test\"] = df_Test\n",
    "SimulationConfigInput[\"df_Candidate\"] = df_Candidate\n"
   ]
  },
  {
   "cell_type": "markdown",
   "metadata": {},
   "source": [
    "# Learning Procedure"
   ]
  },
  {
   "cell_type": "code",
   "execution_count": 5,
   "metadata": {},
   "outputs": [],
   "source": [
    "### Input ###\n",
    "SimulationConfigInputUpdated = SimulationConfigInput"
   ]
  },
  {
   "cell_type": "code",
   "execution_count": 6,
   "metadata": {},
   "outputs": [],
   "source": [
    "### Set Up ###\n",
    "ErrorVec = []\n",
    "SelectedObservationHistory = []\n",
    "TreeCount = {\"AllTreeCount\": [], \"UniqueTreeCount\": []}"
   ]
  },
  {
   "cell_type": "code",
   "execution_count": 7,
   "metadata": {},
   "outputs": [],
   "source": [
    "i=0"
   ]
  },
  {
   "cell_type": "code",
   "execution_count": 8,
   "metadata": {},
   "outputs": [
    {
     "name": "stdout",
     "output_type": "stream",
     "text": [
      "Iteration: 0\n"
     ]
    }
   ],
   "source": [
    "### Prediction Model ###\n",
    "print(\"Iteration: \" + str(i))\n",
    "ModelType = globals().get(SimulationConfigInputUpdated[\"ModelType\"], None)\n",
    "ModelArgsFiltered = FilterArguments(ModelType, SimulationConfigInputUpdated)\n",
    "Model = ModelType(**ModelArgsFiltered)\n",
    "SimulationConfigInputUpdated['Model'] = Model"
   ]
  },
  {
   "cell_type": "code",
   "execution_count": 9,
   "metadata": {},
   "outputs": [],
   "source": [
    "### Test Error ###\n",
    "TestErrorOutput = TestErrorFunction(InputModel = Model, \n",
    "                                    df_Test = SimulationConfigInputUpdated[\"df_Test\"], \n",
    "                                    Type = SimulationConfigInputUpdated[\"Type\"])\n",
    "if('TREEFARMS' in str(type(Model))):                                                       # If Rashomon\n",
    "    CurrentError = TestErrorOutput[\"Error_Duplicate\"]\n",
    "else: \n",
    "    CurrentError = TestErrorOutput[\"ErrorVal\"]                                               # One output for non-Rashomon\n",
    "ErrorVec.append(CurrentError)\n"
   ]
  },
  {
   "cell_type": "code",
   "execution_count": 10,
   "metadata": {},
   "outputs": [],
   "source": [
    "### Sampling Procedure ###\n",
    "SelectorType = globals().get(SimulationConfigInputUpdated[\"SelectorType\"], None)\n",
    "SelectorArgsFiltered = FilterArguments(SelectorType, SimulationConfigInputUpdated)\n"
   ]
  },
  {
   "cell_type": "markdown",
   "metadata": {},
   "source": [
    "---"
   ]
  },
  {
   "cell_type": "code",
   "execution_count": 11,
   "metadata": {},
   "outputs": [],
   "source": [
    "df_Train = SelectorArgsFiltered[\"df_Train\"]\n",
    "df_Candidate = SelectorArgsFiltered[\"df_Candidate\"]\n",
    "Model = SelectorArgsFiltered[\"Model\"]\n",
    "distance = \"euclidean\" "
   ]
  },
  {
   "cell_type": "code",
   "execution_count": null,
   "metadata": {},
   "outputs": [],
   "source": [
    "\n",
    "### Variables ###\n",
    "columns_to_remove = ['Y', \"DiversityScores\", \"DensityScores\"]\n",
    "X_Candidate = df_Candidate.drop(columns=columns_to_remove)\n"
   ]
  },
  {
   "cell_type": "code",
   "execution_count": 13,
   "metadata": {},
   "outputs": [],
   "source": [
    "\n",
    "### GSx ###\n",
    "d_nmX = cdist(X_Candidate, df_Train.loc[:,df_Train.columns!= \"Y\"], metric = distance)\n",
    "d_nX = d_nmX.min(axis=1)\n"
   ]
  },
  {
   "cell_type": "code",
   "execution_count": 14,
   "metadata": {},
   "outputs": [
    {
     "name": "stderr",
     "output_type": "stream",
     "text": [
      "/Users/simondn/.pyenv/versions/3.9.20/envs/rashomon-3.9/lib/python3.9/site-packages/sklearn/linear_model/_base.py:288: RuntimeWarning: divide by zero encountered in matmul\n",
      "  return X @ coef_ + self.intercept_\n",
      "/Users/simondn/.pyenv/versions/3.9.20/envs/rashomon-3.9/lib/python3.9/site-packages/sklearn/linear_model/_base.py:288: RuntimeWarning: overflow encountered in matmul\n",
      "  return X @ coef_ + self.intercept_\n",
      "/Users/simondn/.pyenv/versions/3.9.20/envs/rashomon-3.9/lib/python3.9/site-packages/sklearn/linear_model/_base.py:288: RuntimeWarning: invalid value encountered in matmul\n",
      "  return X @ coef_ + self.intercept_\n"
     ]
    }
   ],
   "source": [
    "\n",
    "### GSy ###\n",
    "## Prediction ##\n",
    "Predictions = Model.predict(X_Candidate)\n"
   ]
  },
  {
   "cell_type": "code",
   "execution_count": 16,
   "metadata": {},
   "outputs": [],
   "source": [
    "d_nmY = cdist(Predictions.reshape(-1,1), df_Train[\"Y\"].values.reshape(-1,1), metric = distance)\n",
    "d_nY = d_nmY.min(axis=1)\n",
    "\n",
    "### iGS ###\n",
    "d_nXY = d_nX*d_nY\n",
    "MaxRowNumber = np.argmax(d_nXY)\n",
    "IndexRecommendation = df_Candidate.iloc[[MaxRowNumber]].index[0]\n",
    "\n",
    "### Output ###\n",
    "Output = {\"IndexRecommendation\": [float(IndexRecommendation)]}"
   ]
  },
  {
   "cell_type": "markdown",
   "metadata": {},
   "source": [
    "---"
   ]
  },
  {
   "cell_type": "code",
   "execution_count": null,
   "metadata": {},
   "outputs": [],
   "source": [
    "SelectorFuncOutput = SelectorType(**SelectorArgsFiltered)\n",
    "QueryObservationIndex = SelectorFuncOutput[\"IndexRecommendation\"]\n",
    "QueryObservation = SimulationConfigInputUpdated[\"df_Candidate\"].loc[QueryObservationIndex]\n",
    "SelectedObservationHistory.append(QueryObservationIndex)"
   ]
  },
  {
   "cell_type": "code",
   "execution_count": 19,
   "metadata": {},
   "outputs": [],
   "source": [
    "### Update Train and Candidate Sets ###\n",
    "SimulationConfigInputUpdated[\"df_Train\"] = pd.concat([SimulationConfigInputUpdated[\"df_Train\"], QueryObservation]).drop(columns=['DiversityScores', 'DensityScores'])\n",
    "SimulationConfigInputUpdated[\"df_Candidate\"] = SimulationConfigInputUpdated[\"df_Candidate\"].drop(QueryObservationIndex) "
   ]
  },
  {
   "cell_type": "code",
   "execution_count": 20,
   "metadata": {},
   "outputs": [],
   "source": [
    "### Store Number of (Unique) Trees ###\n",
    "if('TREEFARMS' in str(type(Model))):\n",
    "    TreeCount[\"AllTreeCount\"].append(SelectorFuncOutput[\"AllTreeCount\"])          # Store number of trees\n",
    "    TreeCount[\"UniqueTreeCount\"].append(SelectorFuncOutput[\"UniqueTreeCount\"])    # Store number of unique/duplicate trees\n"
   ]
  },
  {
   "cell_type": "markdown",
   "metadata": {},
   "source": [
    "# Save"
   ]
  },
  {
   "cell_type": "code",
   "execution_count": 14,
   "metadata": {},
   "outputs": [],
   "source": [
    "# ### Return Simulation Parameters ###\n",
    "# SimulationParameters = {\"DataFileInput\" : str(SimulationConfigInput[\"DataFileInput\"]),\n",
    "#                             \"Seed\" : str(SimulationConfigInput[\"Seed\"]),\n",
    "#                             \"TestProportion\" : str(SimulationConfigInput[\"TestProportion\"]),\n",
    "#                             \"CandidateProportion\" : str(SimulationConfigInput[\"CandidateProportion\"]),\n",
    "#                             \"SelectorType\" :  str(SimulationConfigInput[\"SelectorType\"]),\n",
    "#                             \"ModelType\" :  str(SimulationConfigInput[\"ModelType\"]),\n",
    "#                             'UniqueErrorsInput': str(SimulationConfigInput[\"UniqueErrorsInput\"]),\n",
    "#                             'n_estimators': str(SimulationConfigInput[\"n_estimators\"]),\n",
    "#                             'regularization': str(SimulationConfigInput[\"regularization\"]),\n",
    "#                             'RashomonThreshold': str(SimulationConfigInput[\"RashomonThreshold\"]),\n",
    "#                             'Type': 'Classification',\n",
    "#                             }"
   ]
  },
  {
   "cell_type": "code",
   "execution_count": 15,
   "metadata": {},
   "outputs": [],
   "source": [
    "# ### Return Time ###\n",
    "# ElapsedTime = time.time() - StartTime\n",
    "\n",
    "# ### Return Dictionary ###\n",
    "# SimulationResults = {\"ErrorVec\" : pd.DataFrame(ErrorVec, columns =[\"Error\"]),\n",
    "#                             \"SelectionHistory\" : pd.DataFrame(SelectedObservationHistory, columns = [\"ObservationID\"]),\n",
    "#                             \"SimulationParameters\" : SimulationParameters,\n",
    "#                             \"ElapsedTime\" : ElapsedTime}"
   ]
  }
 ],
 "metadata": {
  "kernelspec": {
   "display_name": "rashomon-3.9",
   "language": "python",
   "name": "python3"
  },
  "language_info": {
   "codemirror_mode": {
    "name": "ipython",
    "version": 3
   },
   "file_extension": ".py",
   "mimetype": "text/x-python",
   "name": "python",
   "nbconvert_exporter": "python",
   "pygments_lexer": "ipython3",
   "version": "3.9.20"
  }
 },
 "nbformat": 4,
 "nbformat_minor": 4
}

{
 "cells": [
  {
   "cell_type": "markdown",
   "metadata": {},
   "source": [
    "# Packages"
   ]
  },
  {
   "cell_type": "code",
   "execution_count": 1,
   "metadata": {},
   "outputs": [],
   "source": [
    "import pandas as pd"
   ]
  },
  {
   "cell_type": "markdown",
   "metadata": {},
   "source": [
    "# Input"
   ]
  },
  {
   "cell_type": "code",
   "execution_count": 2,
   "metadata": {},
   "outputs": [],
   "source": [
    "Abbrv=\"CP\"\n",
    "Threshold = \"025\""
   ]
  },
  {
   "cell_type": "code",
   "execution_count": null,
   "metadata": {},
   "outputs": [],
   "source": [
    "# Input text\n",
    "text = \"\"\"\n",
    "0CP_DA025_D4B5.pkl    13CP_UA025_D4B5.pkl   18CP_DA025_D4B5.pkl   21CP_UA025_D4B5.pkl   26CP_DA025_D4B5.pkl   29CP_UA025_D4B5.pkl   32CP_DA025_D4B5.pkl   35CP_UA025_D4B5.pkl   39CP_DA025_D4B5.pkl   41CP_UA025_D4B5.pkl   45CP_DA025_D4B5.pkl   48CP_UA025_D4B5.pkl   6CP_DA025_D4B5.pkl  ' .foo.png'\n",
    " 0CP_UA025_D4B5.pkl    14CP_DA025_D4B5.pkl   18CP_UA025_D4B5.pkl   23CP_DA025_D4B5.pkl   26CP_UA025_D4B5.pkl   2CP_DA025_D4B5.pkl    32CP_UA025_D4B5.pkl   36CP_DA025_D4B5.pkl   39CP_UA025_D4B5.pkl   42CP_DA025_D4B5.pkl   45CP_UA025_D4B5.pkl   49CP_DA025_D4B5.pkl   6CP_UA025_D4B5.pkl\n",
    " 10CP_DA025_D4B5.pkl   14CP_UA025_D4B5.pkl   1CP_DA025_D4B5.pkl    23CP_UA025_D4B5.pkl   27CP_DA025_D4B5.pkl   2CP_UA025_D4B5.pkl    33CP_DA025_D4B5.pkl   36CP_UA025_D4B5.pkl   3CP_DA025_D4B5.pkl    42CP_UA025_D4B5.pkl   46CP_DA025_D4B5.pkl   49CP_UA025_D4B5.pkl   7CP_DA025_D4B5.pkl\n",
    " 10CP_UA025_D4B5.pkl   15CP_DA025_D4B5.pkl   1CP_UA025_D4B5.pkl    24CP_DA025_D4B5.pkl   27CP_UA025_D4B5.pkl   30CP_DA025_D4B5.pkl   33CP_UA025_D4B5.pkl   37CP_DA025_D4B5.pkl   3CP_UA025_D4B5.pkl    43CP_DA025_D4B5.pkl   46CP_UA025_D4B5.pkl   4CP_DA025_D4B5.pkl    7CP_UA025_D4B5.pkl\n",
    " 11CP_DA025_D4B5.pkl   16CP_DA025_D4B5.pkl   20CP_DA025_D4B5.pkl   24CP_UA025_D4B5.pkl   28CP_DA025_D4B5.pkl   30CP_UA025_D4B5.pkl   34CP_DA025_D4B5.pkl   37CP_UA025_D4B5.pkl   40CP_DA025_D4B5.pkl   43CP_UA025_D4B5.pkl   47CP_DA025_D4B5.pkl   4CP_UA025_D4B5.pkl    8CP_DA025_D4B5.pkl\n",
    " 11CP_UA025_D4B5.pkl   16CP_UA025_D4B5.pkl   20CP_UA025_D4B5.pkl   25CP_DA025_D4B5.pkl   28CP_UA025_D4B5.pkl   31CP_DA025_D4B5.pkl   34CP_UA025_D4B5.pkl   38CP_DA025_D4B5.pkl   40CP_UA025_D4B5.pkl   44CP_DA025_D4B5.pkl   47CP_UA025_D4B5.pkl   5CP_DA025_D4B5.pkl    9CP_DA025_D4B5.pkl\n",
    " 13CP_DA025_D4B5.pkl   17CP_UA025_D4B5.pkl   21CP_DA025_D4B5.pkl   25CP_UA025_D4B5.pkl   29CP_DA025_D4B5.pkl   31CP_UA025_D4B5.pkl   35CP_DA025_D4B5.pkl   38CP_UA025_D4B5.pkl   41CP_DA025_D4B5.pkl   44CP_UA025_D4B5.pkl   48CP_DA025_D4B5.pkl   5CP_UA025_D4B5.pkl    delete_results.sh\n",
    "\"\"\""
   ]
  },
  {
   "cell_type": "code",
   "execution_count": 4,
   "metadata": {},
   "outputs": [
    {
     "data": {
      "text/plain": [
       "93"
      ]
     },
     "execution_count": 4,
     "metadata": {},
     "output_type": "execute_result"
    }
   ],
   "source": [
    "words = text.split()\n",
    "len(words)"
   ]
  },
  {
   "cell_type": "markdown",
   "metadata": {},
   "source": [
    "# Algorithm"
   ]
  },
  {
   "cell_type": "markdown",
   "metadata": {},
   "source": [
    "## Missing"
   ]
  },
  {
   "cell_type": "code",
   "execution_count": 5,
   "metadata": {},
   "outputs": [],
   "source": [
    "### Combined Analysis for Unique and Duplicate ###\n",
    "TotalCountUnique = []\n",
    "TotalCountDuplicate = []\n",
    "TotalCountDuplicateUNQ = []\n",
    "TotalCountDuplicateDPL = []\n",
    "\n",
    "for i in range(0, 50):\n",
    "    substringUNQ = str(i) + Abbrv + \"_UA\" +str(Threshold)\n",
    "    substringDPL = str(i) + Abbrv + \"_DA\" +str(Threshold)\n",
    "\n",
    "    # Unique occurrences\n",
    "    unique_occurrencesUNQ = {word for word in words if word.startswith(substringUNQ)}\n",
    "    unique_occurrencesDPL = {word for word in words if word.startswith(substringDPL)}\n",
    "\n",
    "    countUNQ = len(unique_occurrencesUNQ)\n",
    "    countDPL = len(unique_occurrencesDPL)\n",
    "\n",
    "    TotalCountUnique.append(countUNQ)\n",
    "    TotalCountDuplicate.append(countDPL)\n",
    "\n",
    "    # Duplicate occurrences\n",
    "    occurrencesUNQ = [word for word in words if word.startswith(substringUNQ)]\n",
    "    occurrencesDPL = [word for word in words if word.startswith(substringDPL)]\n",
    "\n",
    "    countDuplicatesUNQ = len(occurrencesUNQ)\n",
    "    countDuplicatesDPL = len(occurrencesDPL)\n",
    "\n",
    "    TotalCountDuplicateUNQ.append(countDuplicatesUNQ)\n",
    "    TotalCountDuplicateDPL.append(countDuplicatesDPL)\n",
    "\n",
    "### Convert to DataFrames ###\n",
    "TotalCountUnique = pd.DataFrame(TotalCountUnique, columns=[\"Unique\"])\n",
    "TotalCountDuplicate = pd.DataFrame(TotalCountDuplicate, columns=[\"Duplicate\"])\n",
    "TotalCountDuplicateUNQ = pd.DataFrame(TotalCountDuplicateUNQ, columns=[\"Duplicate_UNQ\"])\n",
    "TotalCountDuplicateDPL = pd.DataFrame(TotalCountDuplicateDPL, columns=[\"Duplicate_DPL\"])\n",
    "\n",
    "### Identify Missing ###\n",
    "MissingUNQ = list(TotalCountUnique[TotalCountUnique[\"Unique\"] < 1].index)\n",
    "MissingDPL = list(TotalCountDuplicate[TotalCountDuplicate[\"Duplicate\"] < 1].index)\n",
    "\n",
    "### Identify Duplicates ###\n",
    "DuplicateIndicesUNQ = list(TotalCountDuplicateUNQ[TotalCountDuplicateUNQ[\"Duplicate_UNQ\"] > 1].index)\n",
    "DuplicateIndicesDPL = list(TotalCountDuplicateDPL[TotalCountDuplicateDPL[\"Duplicate_DPL\"] > 1].index)\n",
    "\n",
    "### Have Both ###\n",
    "InBothBoolean = (TotalCountUnique[\"Unique\"] == 1) & (TotalCountDuplicate[\"Duplicate\"] == 1)\n",
    "HaveBoth = list(InBothBoolean[InBothBoolean == True].index)"
   ]
  },
  {
   "cell_type": "markdown",
   "metadata": {},
   "source": [
    "# Results"
   ]
  },
  {
   "cell_type": "code",
   "execution_count": 6,
   "metadata": {},
   "outputs": [
    {
     "name": "stdout",
     "output_type": "stream",
     "text": [
      "Missing Indices for UNQ: [8, 9, 12, 15, 19, 22]\n",
      "Missing Indices for DPL: [12, 17, 19, 22]\n",
      "Duplicate Indices for UNQ: []\n",
      "Duplicate Indices for DPL: []\n"
     ]
    }
   ],
   "source": [
    "### Outputs ###\n",
    "print(\"Missing Indices for UNQ:\", MissingUNQ)\n",
    "print(\"Missing Indices for DPL:\", MissingDPL)\n",
    "print(\"Duplicate Indices for UNQ:\", DuplicateIndicesUNQ)\n",
    "print(\"Duplicate Indices for DPL:\", DuplicateIndicesDPL)"
   ]
  },
  {
   "cell_type": "markdown",
   "metadata": {},
   "source": [
    "# Generate Missing JobNames"
   ]
  },
  {
   "cell_type": "code",
   "execution_count": 10,
   "metadata": {},
   "outputs": [],
   "source": [
    "MissingDPL_List = [str(item) + Abbrv + \"_DA\" + str(str(Threshold)) + \"_D4B5\" for item in MissingDPL]\n",
    "MissingUNQ_List = [str(item) + Abbrv + \"_UA\" + str(str(Threshold)) + \"_D4B5\" for item in MissingUNQ]\n",
    "# HaveBothDPL_List = [str(item) + Abbrv + \"_DA\" + str(str(Threshold)) for item in HaveBoth[0:UpToNum]]\n",
    "# HaveBothUNQ_List = [str(item) + Abbrv + \"_UA\" + str(str(Threshold)) for item in HaveBoth[0:UpToNum]]\n",
    "\n",
    "HaveBothDPL_List = [str(item) + Abbrv + \"_DA\" + str(str(Threshold)) + \"_D4B5\" for item in HaveBoth]\n",
    "HaveBothUNQ_List = [str(item) + Abbrv + \"_UA\" + str(str(Threshold)) + \"_D4B5\" for item in HaveBoth]"
   ]
  },
  {
   "cell_type": "code",
   "execution_count": 12,
   "metadata": {},
   "outputs": [
    {
     "name": "stdout",
     "output_type": "stream",
     "text": [
      "Missing (combined) JobNames:\n",
      "['12CP_DA025_D4B5', '17CP_DA025_D4B5', '19CP_DA025_D4B5', '22CP_DA025_D4B5', '8CP_UA025_D4B5', '9CP_UA025_D4B5', '12CP_UA025_D4B5', '15CP_UA025_D4B5', '19CP_UA025_D4B5', '22CP_UA025_D4B5']\n"
     ]
    }
   ],
   "source": [
    "# print(\"Missing JobNames for UNQ:\", MissingUNQ_List)\n",
    "# print(\"Missing JobNames for DPL:\", MissingDPL_List)\n",
    "print(\"Missing (combined) JobNames:\")\n",
    "print(MissingDPL_List + MissingUNQ_List)"
   ]
  },
  {
   "cell_type": "code",
   "execution_count": 13,
   "metadata": {},
   "outputs": [
    {
     "name": "stdout",
     "output_type": "stream",
     "text": [
      "Have both JobNames:\n",
      "[0, 1, 2, 3, 4, 5, 6, 7, 10, 11, 13, 14, 16, 18, 20, 21, 23, 24, 25, 26, 27, 28, 29, 30, 31, 32, 33, 34, 35, 36, 37, 38, 39, 40, 41, 42, 43, 44, 45, 46, 47, 48, 49]\n",
      "['0CP_DA025_D4B5', '1CP_DA025_D4B5', '2CP_DA025_D4B5', '3CP_DA025_D4B5', '4CP_DA025_D4B5', '5CP_DA025_D4B5', '6CP_DA025_D4B5', '7CP_DA025_D4B5', '10CP_DA025_D4B5', '11CP_DA025_D4B5', '13CP_DA025_D4B5', '14CP_DA025_D4B5', '16CP_DA025_D4B5', '18CP_DA025_D4B5', '20CP_DA025_D4B5', '21CP_DA025_D4B5', '23CP_DA025_D4B5', '24CP_DA025_D4B5', '25CP_DA025_D4B5', '26CP_DA025_D4B5', '27CP_DA025_D4B5', '28CP_DA025_D4B5', '29CP_DA025_D4B5', '30CP_DA025_D4B5', '31CP_DA025_D4B5', '32CP_DA025_D4B5', '33CP_DA025_D4B5', '34CP_DA025_D4B5', '35CP_DA025_D4B5', '36CP_DA025_D4B5', '37CP_DA025_D4B5', '38CP_DA025_D4B5', '39CP_DA025_D4B5', '40CP_DA025_D4B5', '41CP_DA025_D4B5', '42CP_DA025_D4B5', '43CP_DA025_D4B5', '44CP_DA025_D4B5', '45CP_DA025_D4B5', '46CP_DA025_D4B5', '47CP_DA025_D4B5', '48CP_DA025_D4B5', '49CP_DA025_D4B5', '0CP_UA025_D4B5', '1CP_UA025_D4B5', '2CP_UA025_D4B5', '3CP_UA025_D4B5', '4CP_UA025_D4B5', '5CP_UA025_D4B5', '6CP_UA025_D4B5', '7CP_UA025_D4B5', '10CP_UA025_D4B5', '11CP_UA025_D4B5', '13CP_UA025_D4B5', '14CP_UA025_D4B5', '16CP_UA025_D4B5', '18CP_UA025_D4B5', '20CP_UA025_D4B5', '21CP_UA025_D4B5', '23CP_UA025_D4B5', '24CP_UA025_D4B5', '25CP_UA025_D4B5', '26CP_UA025_D4B5', '27CP_UA025_D4B5', '28CP_UA025_D4B5', '29CP_UA025_D4B5', '30CP_UA025_D4B5', '31CP_UA025_D4B5', '32CP_UA025_D4B5', '33CP_UA025_D4B5', '34CP_UA025_D4B5', '35CP_UA025_D4B5', '36CP_UA025_D4B5', '37CP_UA025_D4B5', '38CP_UA025_D4B5', '39CP_UA025_D4B5', '40CP_UA025_D4B5', '41CP_UA025_D4B5', '42CP_UA025_D4B5', '43CP_UA025_D4B5', '44CP_UA025_D4B5', '45CP_UA025_D4B5', '46CP_UA025_D4B5', '47CP_UA025_D4B5', '48CP_UA025_D4B5', '49CP_UA025_D4B5']\n"
     ]
    }
   ],
   "source": [
    "print(\"Have both JobNames:\")\n",
    "print(HaveBoth)\n",
    "print(HaveBothDPL_List + HaveBothUNQ_List)"
   ]
  },
  {
   "cell_type": "code",
   "execution_count": 14,
   "metadata": {},
   "outputs": [
    {
     "data": {
      "text/plain": [
       "43"
      ]
     },
     "execution_count": 14,
     "metadata": {},
     "output_type": "execute_result"
    }
   ],
   "source": [
    "len(HaveBoth)"
   ]
  },
  {
   "cell_type": "code",
   "execution_count": 15,
   "metadata": {},
   "outputs": [
    {
     "data": {
      "text/plain": [
       "Index([ 0,  1,  2,  3,  4,  5,  6,  7, 10, 11, 13, 14, 16, 17, 18, 20, 21, 23,\n",
       "       24, 25, 26, 27, 28, 29, 30, 31, 32, 33, 34, 35, 36, 37, 38, 39, 40, 41,\n",
       "       42, 43, 44, 45, 46, 47, 48, 49],\n",
       "      dtype='int64')"
      ]
     },
     "execution_count": 15,
     "metadata": {},
     "output_type": "execute_result"
    }
   ],
   "source": [
    "TotalCountUnique[TotalCountUnique[\"Unique\"] == 1].index"
   ]
  }
 ],
 "metadata": {
  "kernelspec": {
   "display_name": "rashomon-3.9",
   "language": "python",
   "name": "python3"
  },
  "language_info": {
   "codemirror_mode": {
    "name": "ipython",
    "version": 3
   },
   "file_extension": ".py",
   "mimetype": "text/x-python",
   "name": "python",
   "nbconvert_exporter": "python",
   "pygments_lexer": "ipython3",
   "version": "3.9.20"
  }
 },
 "nbformat": 4,
 "nbformat_minor": 2
}

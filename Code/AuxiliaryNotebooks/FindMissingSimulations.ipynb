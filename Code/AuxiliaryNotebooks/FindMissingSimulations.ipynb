{
 "cells": [
  {
   "cell_type": "markdown",
   "metadata": {},
   "source": [
    "# Packages"
   ]
  },
  {
   "cell_type": "code",
   "execution_count": 1,
   "metadata": {},
   "outputs": [],
   "source": [
    "import pandas as pd"
   ]
  },
  {
   "cell_type": "markdown",
   "metadata": {},
   "source": [
    "# Input"
   ]
  },
  {
   "cell_type": "code",
   "execution_count": 2,
   "metadata": {},
   "outputs": [],
   "source": [
    "Abbrv=\"B7\"\n",
    "Threshold = \"02\""
   ]
  },
  {
   "cell_type": "code",
   "execution_count": 3,
   "metadata": {},
   "outputs": [],
   "source": [
    "# Input text\n",
    "text = \"\"\"\n",
    "0B7_DA02_D4B10.pkl    14B7_UA02_D4B10.pkl   19B7_UA02_D4B10.pkl   24B7_DA02_D4B10.pkl   29B7_UA02_D4B10.pkl   33B7_UA02_D4B10.pkl   39B7_DA02_D4B10.pkl   43B7_UA02_D4B10.pkl   48B7_DA02_D4B10.pkl   7B7_DA02_D4B10.pkl\n",
    " 0B7_UA02_D4B10.pkl    15B7_DA02_D4B10.pkl   1B7_DA02_D4B10.pkl    24B7_UA02_D4B10.pkl   2B7_DA02_D4B10.pkl    34B7_DA02_D4B10.pkl   39B7_UA02_D4B10.pkl   44B7_DA02_D4B10.pkl   48B7_UA02_D4B10.pkl   7B7_UA02_D4B10.pkl\n",
    " 11B7_DA02_D4B10.pkl   16B7_DA02_D4B10.pkl   1B7_UA02_D4B10.pkl    25B7_DA02_D4B10.pkl   2B7_UA02_D4B10.pkl    34B7_UA02_D4B10.pkl   3B7_DA02_D4B10.pkl    44B7_UA02_D4B10.pkl   49B7_DA02_D4B10.pkl   8B7_DA02_D4B10.pkl\n",
    " 11B7_UA02_D4B10.pkl   16B7_UA02_D4B10.pkl   20B7_DA02_D4B10.pkl   25B7_UA02_D4B10.pkl   30B7_DA02_D4B10.pkl   35B7_DA02_D4B10.pkl   3B7_UA02_D4B10.pkl    45B7_DA02_D4B10.pkl   4B7_DA02_D4B10.pkl    8B7_UA02_D4B10.pkl\n",
    " 12B7_DA02_D4B10.pkl   17B7_DA02_D4B10.pkl   20B7_UA02_D4B10.pkl   27B7_DA02_D4B10.pkl   30B7_UA02_D4B10.pkl   35B7_UA02_D4B10.pkl   40B7_DA02_D4B10.pkl   45B7_UA02_D4B10.pkl   4B7_UA02_D4B10.pkl    9B7_DA02_D4B10.pkl\n",
    " 12B7_UA02_D4B10.pkl   17B7_UA02_D4B10.pkl   21B7_DA02_D4B10.pkl   27B7_UA02_D4B10.pkl   31B7_DA02_D4B10.pkl   37B7_DA02_D4B10.pkl   40B7_UA02_D4B10.pkl   46B7_DA02_D4B10.pkl   5B7_DA02_D4B10.pkl    9B7_UA02_D4B10.pkl\n",
    " 13B7_DA02_D4B10.pkl   18B7_DA02_D4B10.pkl   21B7_UA02_D4B10.pkl   28B7_DA02_D4B10.pkl   31B7_UA02_D4B10.pkl   37B7_UA02_D4B10.pkl   41B7_DA02_D4B10.pkl   46B7_UA02_D4B10.pkl   5B7_UA02_D4B10.pkl    delete_results.sh\n",
    " 13B7_UA02_D4B10.pkl   18B7_UA02_D4B10.pkl   22B7_DA02_D4B10.pkl   28B7_UA02_D4B10.pkl   32B7_DA02_D4B10.pkl   38B7_DA02_D4B10.pkl   41B7_UA02_D4B10.pkl   47B7_DA02_D4B10.pkl   6B7_DA02_D4B10.pkl   ' .foo.png'\n",
    " 14B7_DA02_D4B10.pkl   19B7_DA02_D4B10.pkl   22B7_UA02_D4B10.pkl   29B7_DA02_D4B10.pkl   32B7_UA02_D4B10.pkl   38B7_UA02_D4B10.pkl   43B7_DA02_D4B10.pkl   47B7_UA02_D4B10.pkl   6B7_UA02_D4B10.pkl\n",
    "\"\"\""
   ]
  },
  {
   "cell_type": "code",
   "execution_count": 4,
   "metadata": {},
   "outputs": [
    {
     "data": {
      "text/plain": [
       "90"
      ]
     },
     "execution_count": 4,
     "metadata": {},
     "output_type": "execute_result"
    }
   ],
   "source": [
    "words = text.split()\n",
    "len(words)"
   ]
  },
  {
   "cell_type": "markdown",
   "metadata": {},
   "source": [
    "# Algorithm"
   ]
  },
  {
   "cell_type": "markdown",
   "metadata": {},
   "source": [
    "## Missing"
   ]
  },
  {
   "cell_type": "code",
   "execution_count": 5,
   "metadata": {},
   "outputs": [],
   "source": [
    "### Combined Analysis for Unique and Duplicate ###\n",
    "TotalCountUnique = []\n",
    "TotalCountDuplicate = []\n",
    "TotalCountDuplicateUNQ = []\n",
    "TotalCountDuplicateDPL = []\n",
    "\n",
    "for i in range(0, 50):\n",
    "    substringUNQ = str(i) + Abbrv + \"_UA\" +str(Threshold)\n",
    "    substringDPL = str(i) + Abbrv + \"_DA\" +str(Threshold)\n",
    "\n",
    "    # Unique occurrences\n",
    "    unique_occurrencesUNQ = {word for word in words if word.startswith(substringUNQ)}\n",
    "    unique_occurrencesDPL = {word for word in words if word.startswith(substringDPL)}\n",
    "\n",
    "    countUNQ = len(unique_occurrencesUNQ)\n",
    "    countDPL = len(unique_occurrencesDPL)\n",
    "\n",
    "    TotalCountUnique.append(countUNQ)\n",
    "    TotalCountDuplicate.append(countDPL)\n",
    "\n",
    "    # Duplicate occurrences\n",
    "    occurrencesUNQ = [word for word in words if word.startswith(substringUNQ)]\n",
    "    occurrencesDPL = [word for word in words if word.startswith(substringDPL)]\n",
    "\n",
    "    countDuplicatesUNQ = len(occurrencesUNQ)\n",
    "    countDuplicatesDPL = len(occurrencesDPL)\n",
    "\n",
    "    TotalCountDuplicateUNQ.append(countDuplicatesUNQ)\n",
    "    TotalCountDuplicateDPL.append(countDuplicatesDPL)\n",
    "\n",
    "### Convert to DataFrames ###\n",
    "TotalCountUnique = pd.DataFrame(TotalCountUnique, columns=[\"Unique\"])\n",
    "TotalCountDuplicate = pd.DataFrame(TotalCountDuplicate, columns=[\"Duplicate\"])\n",
    "TotalCountDuplicateUNQ = pd.DataFrame(TotalCountDuplicateUNQ, columns=[\"Duplicate_UNQ\"])\n",
    "TotalCountDuplicateDPL = pd.DataFrame(TotalCountDuplicateDPL, columns=[\"Duplicate_DPL\"])\n",
    "\n",
    "### Identify Missing ###\n",
    "MissingUNQ = list(TotalCountUnique[TotalCountUnique[\"Unique\"] < 1].index)\n",
    "MissingDPL = list(TotalCountDuplicate[TotalCountDuplicate[\"Duplicate\"] < 1].index)\n",
    "\n",
    "### Identify Duplicates ###\n",
    "DuplicateIndicesUNQ = list(TotalCountDuplicateUNQ[TotalCountDuplicateUNQ[\"Duplicate_UNQ\"] > 1].index)\n",
    "DuplicateIndicesDPL = list(TotalCountDuplicateDPL[TotalCountDuplicateDPL[\"Duplicate_DPL\"] > 1].index)\n",
    "\n",
    "### Have Both ###\n",
    "InBothBoolean = (TotalCountUnique[\"Unique\"] == 1) & (TotalCountDuplicate[\"Duplicate\"] == 1)\n",
    "HaveBoth = list(InBothBoolean[InBothBoolean == True].index)"
   ]
  },
  {
   "cell_type": "markdown",
   "metadata": {},
   "source": [
    "# Results"
   ]
  },
  {
   "cell_type": "code",
   "execution_count": 6,
   "metadata": {},
   "outputs": [
    {
     "name": "stdout",
     "output_type": "stream",
     "text": [
      "Missing Indices for UNQ: [10, 15, 23, 26, 36, 42, 49]\n",
      "Missing Indices for DPL: [10, 23, 26, 33, 36, 42]\n",
      "Duplicate Indices for UNQ: []\n",
      "Duplicate Indices for DPL: []\n"
     ]
    }
   ],
   "source": [
    "### Outputs ###\n",
    "print(\"Missing Indices for UNQ:\", MissingUNQ)\n",
    "print(\"Missing Indices for DPL:\", MissingDPL)\n",
    "print(\"Duplicate Indices for UNQ:\", DuplicateIndicesUNQ)\n",
    "print(\"Duplicate Indices for DPL:\", DuplicateIndicesDPL)"
   ]
  },
  {
   "cell_type": "markdown",
   "metadata": {},
   "source": [
    "# Generate Missing JobNames"
   ]
  },
  {
   "cell_type": "code",
   "execution_count": 7,
   "metadata": {},
   "outputs": [],
   "source": [
    "MissingDPL_List = [str(item) + Abbrv + \"_DA\" + str(str(Threshold)) for item in MissingDPL]\n",
    "MissingUNQ_List = [str(item) + Abbrv + \"_UA\" + str(str(Threshold)) for item in MissingUNQ]\n",
    "# HaveBothDPL_List = [str(item) + Abbrv + \"_DA\" + str(str(Threshold)) for item in HaveBoth[0:UpToNum]]\n",
    "# HaveBothUNQ_List = [str(item) + Abbrv + \"_UA\" + str(str(Threshold)) for item in HaveBoth[0:UpToNum]]\n",
    "\n",
    "HaveBothDPL_List = [str(item) + Abbrv + \"_DA\" + str(str(Threshold)) for item in HaveBoth]\n",
    "HaveBothUNQ_List = [str(item) + Abbrv + \"_UA\" + str(str(Threshold)) for item in HaveBoth]"
   ]
  },
  {
   "cell_type": "code",
   "execution_count": 8,
   "metadata": {},
   "outputs": [
    {
     "name": "stdout",
     "output_type": "stream",
     "text": [
      "Missing (combined) JobNames:\n",
      "['10B7_DA02', '23B7_DA02', '26B7_DA02', '33B7_DA02', '36B7_DA02', '42B7_DA02', '10B7_UA02', '15B7_UA02', '23B7_UA02', '26B7_UA02', '36B7_UA02', '42B7_UA02', '49B7_UA02']\n"
     ]
    }
   ],
   "source": [
    "# print(\"Missing JobNames for UNQ:\", MissingUNQ_List)\n",
    "# print(\"Missing JobNames for DPL:\", MissingDPL_List)\n",
    "print(\"Missing (combined) JobNames:\")\n",
    "print(MissingDPL_List + MissingUNQ_List)"
   ]
  },
  {
   "cell_type": "code",
   "execution_count": 9,
   "metadata": {},
   "outputs": [
    {
     "name": "stdout",
     "output_type": "stream",
     "text": [
      "Have both JobNames:\n",
      "[0, 1, 2, 3, 4, 5, 6, 7, 8, 9, 11, 12, 13, 14, 16, 17, 18, 19, 20, 21, 22, 24, 25, 27, 28, 29, 30, 31, 32, 34, 35, 37, 38, 39, 40, 41, 43, 44, 45, 46, 47, 48]\n",
      "['0B7_DA02', '1B7_DA02', '2B7_DA02', '3B7_DA02', '4B7_DA02', '5B7_DA02', '6B7_DA02', '7B7_DA02', '8B7_DA02', '9B7_DA02', '11B7_DA02', '12B7_DA02', '13B7_DA02', '14B7_DA02', '16B7_DA02', '17B7_DA02', '18B7_DA02', '19B7_DA02', '20B7_DA02', '21B7_DA02', '22B7_DA02', '24B7_DA02', '25B7_DA02', '27B7_DA02', '28B7_DA02', '29B7_DA02', '30B7_DA02', '31B7_DA02', '32B7_DA02', '34B7_DA02', '35B7_DA02', '37B7_DA02', '38B7_DA02', '39B7_DA02', '40B7_DA02', '41B7_DA02', '43B7_DA02', '44B7_DA02', '45B7_DA02', '46B7_DA02', '47B7_DA02', '48B7_DA02', '0B7_UA02', '1B7_UA02', '2B7_UA02', '3B7_UA02', '4B7_UA02', '5B7_UA02', '6B7_UA02', '7B7_UA02', '8B7_UA02', '9B7_UA02', '11B7_UA02', '12B7_UA02', '13B7_UA02', '14B7_UA02', '16B7_UA02', '17B7_UA02', '18B7_UA02', '19B7_UA02', '20B7_UA02', '21B7_UA02', '22B7_UA02', '24B7_UA02', '25B7_UA02', '27B7_UA02', '28B7_UA02', '29B7_UA02', '30B7_UA02', '31B7_UA02', '32B7_UA02', '34B7_UA02', '35B7_UA02', '37B7_UA02', '38B7_UA02', '39B7_UA02', '40B7_UA02', '41B7_UA02', '43B7_UA02', '44B7_UA02', '45B7_UA02', '46B7_UA02', '47B7_UA02', '48B7_UA02']\n"
     ]
    }
   ],
   "source": [
    "print(\"Have both JobNames:\")\n",
    "print(HaveBoth)\n",
    "print(HaveBothDPL_List + HaveBothUNQ_List)"
   ]
  },
  {
   "cell_type": "code",
   "execution_count": 10,
   "metadata": {},
   "outputs": [
    {
     "data": {
      "text/plain": [
       "42"
      ]
     },
     "execution_count": 10,
     "metadata": {},
     "output_type": "execute_result"
    }
   ],
   "source": [
    "len(HaveBoth)"
   ]
  },
  {
   "cell_type": "code",
   "execution_count": 11,
   "metadata": {},
   "outputs": [
    {
     "data": {
      "text/plain": [
       "Index([ 0,  1,  2,  3,  4,  5,  6,  7,  8,  9, 11, 12, 13, 14, 16, 17, 18, 19,\n",
       "       20, 21, 22, 24, 25, 27, 28, 29, 30, 31, 32, 33, 34, 35, 37, 38, 39, 40,\n",
       "       41, 43, 44, 45, 46, 47, 48],\n",
       "      dtype='int64')"
      ]
     },
     "execution_count": 11,
     "metadata": {},
     "output_type": "execute_result"
    }
   ],
   "source": [
    "TotalCountUnique[TotalCountUnique[\"Unique\"] == 1].index"
   ]
  }
 ],
 "metadata": {
  "kernelspec": {
   "display_name": "rashomon-3.9",
   "language": "python",
   "name": "python3"
  },
  "language_info": {
   "codemirror_mode": {
    "name": "ipython",
    "version": 3
   },
   "file_extension": ".py",
   "mimetype": "text/x-python",
   "name": "python",
   "nbconvert_exporter": "python",
   "pygments_lexer": "ipython3",
   "version": "3.9.20"
  }
 },
 "nbformat": 4,
 "nbformat_minor": 2
}

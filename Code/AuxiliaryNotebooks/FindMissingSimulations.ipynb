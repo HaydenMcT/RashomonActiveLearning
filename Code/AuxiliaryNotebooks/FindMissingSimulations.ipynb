{
 "cells": [
  {
   "cell_type": "markdown",
   "metadata": {},
   "source": [
    "# Packages"
   ]
  },
  {
   "cell_type": "code",
   "execution_count": 1,
   "metadata": {},
   "outputs": [],
   "source": [
    "### Append Path ###\n",
    "import sys\n",
    "sys.path.append('..')\n",
    "from utils.Auxiliary import FindMissingSimulations"
   ]
  },
  {
   "cell_type": "markdown",
   "metadata": {},
   "source": [
    "# Input"
   ]
  },
  {
   "cell_type": "code",
   "execution_count": 2,
   "metadata": {},
   "outputs": [],
   "source": [
    "# Input text\n",
    "text1 = \"\"\"\n",
    " 0B7_DA02_D4B10.pkl    15B7_UA02_D4B10.pkl   21B7_DA02_D4B10.pkl   28B7_DA02_D4B10.pkl   33B7_UA02_D4B10.pkl   3B7_DA02_D4B10.pkl    45B7_UA02_D4B10.pkl   6B7_DA02_D4B10.pkl\n",
    " 0B7_UA02_D4B10.pkl    16B7_DA02_D4B10.pkl   21B7_UA02_D4B10.pkl   28B7_UA02_D4B10.pkl   34B7_DA02_D4B10.pkl   3B7_UA02_D4B10.pkl    46B7_DA02_D4B10.pkl   6B7_UA02_D4B10.pkl\n",
    " 10B7_DA02_D4B10.pkl   16B7_UA02_D4B10.pkl   22B7_DA02_D4B10.pkl   29B7_DA02_D4B10.pkl   34B7_UA02_D4B10.pkl   40B7_DA02_D4B10.pkl   46B7_UA02_D4B10.pkl   7B7_DA02_D4B10.pkl\n",
    " 10B7_UA02_D4B10.pkl   17B7_DA02_D4B10.pkl   22B7_UA02_D4B10.pkl   29B7_UA02_D4B10.pkl   35B7_DA02_D4B10.pkl   40B7_UA02_D4B10.pkl   47B7_DA02_D4B10.pkl   7B7_UA02_D4B10.pkl\n",
    " 11B7_DA02_D4B10.pkl   17B7_UA02_D4B10.pkl   23B7_DA02_D4B10.pkl   2B7_DA02_D4B10.pkl    35B7_UA02_D4B10.pkl   41B7_DA02_D4B10.pkl   47B7_UA02_D4B10.pkl   8B7_DA02_D4B10.pkl\n",
    " 11B7_UA02_D4B10.pkl   18B7_DA02_D4B10.pkl   23B7_UA02_D4B10.pkl   2B7_UA02_D4B10.pkl    36B7_DA02_D4B10.pkl   41B7_UA02_D4B10.pkl   48B7_DA02_D4B10.pkl   8B7_UA02_D4B10.pkl\n",
    " 12B7_DA02_D4B10.pkl   18B7_UA02_D4B10.pkl   24B7_DA02_D4B10.pkl   30B7_DA02_D4B10.pkl   36B7_UA02_D4B10.pkl   42B7_DA02_D4B10.pkl   48B7_UA02_D4B10.pkl   9B7_DA02_D4B10.pkl\n",
    " 12B7_UA02_D4B10.pkl   19B7_DA02_D4B10.pkl   24B7_UA02_D4B10.pkl   30B7_UA02_D4B10.pkl   37B7_DA02_D4B10.pkl   42B7_UA02_D4B10.pkl   49B7_DA02_D4B10.pkl   9B7_UA02_D4B10.pkl\n",
    " 13B7_DA02_D4B10.pkl   19B7_UA02_D4B10.pkl   25B7_DA02_D4B10.pkl   31B7_DA02_D4B10.pkl   37B7_UA02_D4B10.pkl   43B7_DA02_D4B10.pkl   49B7_UA02_D4B10.pkl   delete_results.sh\n",
    " 13B7_UA02_D4B10.pkl   1B7_DA02_D4B10.pkl    25B7_UA02_D4B10.pkl   31B7_UA02_D4B10.pkl   38B7_DA02_D4B10.pkl   43B7_UA02_D4B10.pkl   4B7_DA02_D4B10.pkl   ' .foo.png'\n",
    " 14B7_DA02_D4B10.pkl   1B7_UA02_D4B10.pkl    26B7_DA02_D4B10.pkl   32B7_DA02_D4B10.pkl   38B7_UA02_D4B10.pkl   44B7_DA02_D4B10.pkl   4B7_UA02_D4B10.pkl\n",
    " 14B7_UA02_D4B10.pkl   20B7_DA02_D4B10.pkl   27B7_DA02_D4B10.pkl   32B7_UA02_D4B10.pkl   39B7_DA02_D4B10.pkl   44B7_UA02_D4B10.pkl   5B7_DA02_D4B10.pkl\n",
    " 15B7_DA02_D4B10.pkl   20B7_UA02_D4B10.pkl   27B7_UA02_D4B10.pkl   33B7_DA02_D4B10.pkl   39B7_UA02_D4B10.pkl   45B7_DA02_D4B10.pkl   5B7_UA02_D4B10.pkl\n",
    "\n",
    " \"\"\""
   ]
  },
  {
   "cell_type": "markdown",
   "metadata": {},
   "source": [
    "# Results"
   ]
  },
  {
   "cell_type": "code",
   "execution_count": 3,
   "metadata": {},
   "outputs": [
    {
     "name": "stdout",
     "output_type": "stream",
     "text": [
      "Duplicate Indices for UNQ: []\n",
      "Duplicate Indices for DPL: []\n",
      "Missing Indices for UNQ: [26]\n",
      "Missing Indices for DPL: []\n",
      "Missing (combined) JobNames:\n",
      "['26B7_UA02']\n",
      "Have both JobNames:\n",
      "['0B7_DA02', '1B7_DA02', '2B7_DA02', '3B7_DA02', '4B7_DA02', '5B7_DA02', '6B7_DA02', '7B7_DA02', '8B7_DA02', '9B7_DA02', '10B7_DA02', '11B7_DA02', '12B7_DA02', '13B7_DA02', '14B7_DA02', '15B7_DA02', '16B7_DA02', '17B7_DA02', '18B7_DA02', '19B7_DA02', '20B7_DA02', '21B7_DA02', '22B7_DA02', '23B7_DA02', '24B7_DA02', '25B7_DA02', '27B7_DA02', '28B7_DA02', '29B7_DA02', '30B7_DA02', '31B7_DA02', '32B7_DA02', '33B7_DA02', '34B7_DA02', '35B7_DA02', '36B7_DA02', '37B7_DA02', '38B7_DA02', '39B7_DA02', '40B7_DA02', '41B7_DA02', '42B7_DA02', '43B7_DA02', '44B7_DA02', '45B7_DA02', '46B7_DA02', '47B7_DA02', '48B7_DA02', '49B7_DA02', '0B7_UA02', '1B7_UA02', '2B7_UA02', '3B7_UA02', '4B7_UA02', '5B7_UA02', '6B7_UA02', '7B7_UA02', '8B7_UA02', '9B7_UA02', '10B7_UA02', '11B7_UA02', '12B7_UA02', '13B7_UA02', '14B7_UA02', '15B7_UA02', '16B7_UA02', '17B7_UA02', '18B7_UA02', '19B7_UA02', '20B7_UA02', '21B7_UA02', '22B7_UA02', '23B7_UA02', '24B7_UA02', '25B7_UA02', '27B7_UA02', '28B7_UA02', '29B7_UA02', '30B7_UA02', '31B7_UA02', '32B7_UA02', '33B7_UA02', '34B7_UA02', '35B7_UA02', '36B7_UA02', '37B7_UA02', '38B7_UA02', '39B7_UA02', '40B7_UA02', '41B7_UA02', '42B7_UA02', '43B7_UA02', '44B7_UA02', '45B7_UA02', '46B7_UA02', '47B7_UA02', '48B7_UA02', '49B7_UA02']\n"
     ]
    }
   ],
   "source": [
    "FindMissingSimulations(Abbrv=\"B7\", Threshold = \"02\", text = text1)"
   ]
  }
 ],
 "metadata": {
  "kernelspec": {
   "display_name": "rashomon-3.9",
   "language": "python",
   "name": "python3"
  },
  "language_info": {
   "codemirror_mode": {
    "name": "ipython",
    "version": 3
   },
   "file_extension": ".py",
   "mimetype": "text/x-python",
   "name": "python",
   "nbconvert_exporter": "python",
   "pygments_lexer": "ipython3",
   "version": "3.9.20"
  }
 },
 "nbformat": 4,
 "nbformat_minor": 2
}

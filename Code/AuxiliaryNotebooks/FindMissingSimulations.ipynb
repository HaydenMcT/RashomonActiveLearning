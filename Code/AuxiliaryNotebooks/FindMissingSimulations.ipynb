{
 "cells": [
  {
   "cell_type": "markdown",
   "metadata": {},
   "source": [
    "# Packages"
   ]
  },
  {
   "cell_type": "code",
   "execution_count": 1,
   "metadata": {},
   "outputs": [],
   "source": [
    "import pandas as pd"
   ]
  },
  {
   "cell_type": "markdown",
   "metadata": {},
   "source": [
    "# Input"
   ]
  },
  {
   "cell_type": "code",
   "execution_count": 2,
   "metadata": {},
   "outputs": [],
   "source": [
    "Abbrv=\"BN\"\n",
    "Threshold = \"045\""
   ]
  },
  {
   "cell_type": "code",
   "execution_count": 3,
   "metadata": {},
   "outputs": [],
   "source": [
    "# Input text\n",
    "text = \"\"\"\n",
    " 0BN_DA045_D4B10.pkl    14BN_DA045_D4B10.pkl   19BN_DA045_D4B10.pkl   24BN_DA045_D4B10.pkl   29BN_DA045_D4B10.pkl   34BN_UA045_D4B10.pkl   3BN_UA045_D4B10.pkl    44BN_DA045_D4B10.pkl   48BN_UA045_D4B10.pkl   7BN_DA045_D4B10.pkl\n",
    " 0BN_UA045_D4B10.pkl    14BN_UA045_D4B10.pkl   19BN_UA045_D4B10.pkl   24BN_UA045_D4B10.pkl   29BN_UA045_D4B10.pkl   35BN_DA045_D4B10.pkl   40BN_DA045_D4B10.pkl   44BN_UA045_D4B10.pkl   49BN_DA045_D4B10.pkl   9BN_DA045_D4B10.pkl\n",
    " 10BN_DA045_D4B10.pkl   15BN_DA045_D4B10.pkl   1BN_DA045_D4B10.pkl    25BN_UA045_D4B10.pkl   30BN_DA045_D4B10.pkl   35BN_UA045_D4B10.pkl   40BN_UA045_D4B10.pkl   45BN_DA045_D4B10.pkl   49BN_UA045_D4B10.pkl   9BN_UA045_D4B10.pkl\n",
    " 10BN_UA045_D4B10.pkl   15BN_UA045_D4B10.pkl   1BN_UA045_D4B10.pkl    26BN_DA045_D4B10.pkl   30BN_UA045_D4B10.pkl   36BN_DA045_D4B10.pkl   41BN_DA045_D4B10.pkl   45BN_UA045_D4B10.pkl   4BN_DA045_D4B10.pkl    delete_results.sh\n",
    " 11BN_DA045_D4B10.pkl   16BN_DA045_D4B10.pkl   20BN_DA045_D4B10.pkl   26BN_UA045_D4B10.pkl   31BN_DA045_D4B10.pkl   36BN_UA045_D4B10.pkl   41BN_UA045_D4B10.pkl   46BN_DA045_D4B10.pkl   4BN_UA045_D4B10.pkl   ' .foo.png'\n",
    " 11BN_UA045_D4B10.pkl   16BN_UA045_D4B10.pkl   20BN_UA045_D4B10.pkl   27BN_DA045_D4B10.pkl   32BN_DA045_D4B10.pkl   37BN_DA045_D4B10.pkl   42BN_DA045_D4B10.pkl   46BN_UA045_D4B10.pkl   5BN_DA045_D4B10.pkl\n",
    " 12BN_DA045_D4B10.pkl   17BN_DA045_D4B10.pkl   22BN_UA045_D4B10.pkl   27BN_UA045_D4B10.pkl   32BN_UA045_D4B10.pkl   37BN_UA045_D4B10.pkl   42BN_UA045_D4B10.pkl   47BN_DA045_D4B10.pkl   5BN_UA045_D4B10.pkl\n",
    " 12BN_UA045_D4B10.pkl   17BN_UA045_D4B10.pkl   23BN_DA045_D4B10.pkl   28BN_DA045_D4B10.pkl   33BN_DA045_D4B10.pkl   38BN_DA045_D4B10.pkl   43BN_DA045_D4B10.pkl   47BN_UA045_D4B10.pkl   6BN_DA035_D4B10.pkl\n",
    " 13BN_DA045_D4B10.pkl   18BN_UA045_D4B10.pkl   23BN_UA045_D4B10.pkl   28BN_UA045_D4B10.pkl   34BN_DA045_D4B10.pkl   3BN_DA045_D4B10.pkl    43BN_UA045_D4B10.pkl   48BN_DA045_D4B10.pkl   6BN_UA035_D4B10.pkl\n",
    "\"\"\""
   ]
  },
  {
   "cell_type": "code",
   "execution_count": 4,
   "metadata": {},
   "outputs": [
    {
     "data": {
      "text/plain": [
       "87"
      ]
     },
     "execution_count": 4,
     "metadata": {},
     "output_type": "execute_result"
    }
   ],
   "source": [
    "words = text.split()\n",
    "len(words)"
   ]
  },
  {
   "cell_type": "markdown",
   "metadata": {},
   "source": [
    "# Algorithm"
   ]
  },
  {
   "cell_type": "markdown",
   "metadata": {},
   "source": [
    "## Missing"
   ]
  },
  {
   "cell_type": "code",
   "execution_count": 5,
   "metadata": {},
   "outputs": [],
   "source": [
    "### Combined Analysis for Unique and Duplicate ###\n",
    "TotalCountUnique = []\n",
    "TotalCountDuplicate = []\n",
    "TotalCountDuplicateUNQ = []\n",
    "TotalCountDuplicateDPL = []\n",
    "\n",
    "for i in range(0, 50):\n",
    "    substringUNQ = str(i) + Abbrv + \"_UA\" +str(Threshold)\n",
    "    substringDPL = str(i) + Abbrv + \"_DA\" +str(Threshold)\n",
    "\n",
    "    # Unique occurrences\n",
    "    unique_occurrencesUNQ = {word for word in words if word.startswith(substringUNQ)}\n",
    "    unique_occurrencesDPL = {word for word in words if word.startswith(substringDPL)}\n",
    "\n",
    "    countUNQ = len(unique_occurrencesUNQ)\n",
    "    countDPL = len(unique_occurrencesDPL)\n",
    "\n",
    "    TotalCountUnique.append(countUNQ)\n",
    "    TotalCountDuplicate.append(countDPL)\n",
    "\n",
    "    # Duplicate occurrences\n",
    "    occurrencesUNQ = [word for word in words if word.startswith(substringUNQ)]\n",
    "    occurrencesDPL = [word for word in words if word.startswith(substringDPL)]\n",
    "\n",
    "    countDuplicatesUNQ = len(occurrencesUNQ)\n",
    "    countDuplicatesDPL = len(occurrencesDPL)\n",
    "\n",
    "    TotalCountDuplicateUNQ.append(countDuplicatesUNQ)\n",
    "    TotalCountDuplicateDPL.append(countDuplicatesDPL)\n",
    "\n",
    "### Convert to DataFrames ###\n",
    "TotalCountUnique = pd.DataFrame(TotalCountUnique, columns=[\"Unique\"])\n",
    "TotalCountDuplicate = pd.DataFrame(TotalCountDuplicate, columns=[\"Duplicate\"])\n",
    "TotalCountDuplicateUNQ = pd.DataFrame(TotalCountDuplicateUNQ, columns=[\"Duplicate_UNQ\"])\n",
    "TotalCountDuplicateDPL = pd.DataFrame(TotalCountDuplicateDPL, columns=[\"Duplicate_DPL\"])\n",
    "\n",
    "### Identify Missing ###\n",
    "MissingUNQ = list(TotalCountUnique[TotalCountUnique[\"Unique\"] < 1].index)\n",
    "MissingDPL = list(TotalCountDuplicate[TotalCountDuplicate[\"Duplicate\"] < 1].index)\n",
    "\n",
    "### Identify Duplicates ###\n",
    "DuplicateIndicesUNQ = list(TotalCountDuplicateUNQ[TotalCountDuplicateUNQ[\"Duplicate_UNQ\"] > 1].index)\n",
    "DuplicateIndicesDPL = list(TotalCountDuplicateDPL[TotalCountDuplicateDPL[\"Duplicate_DPL\"] > 1].index)\n",
    "\n",
    "### Have Both ###\n",
    "InBothBoolean = (TotalCountUnique[\"Unique\"] == 1) & (TotalCountDuplicate[\"Duplicate\"] == 1)\n",
    "HaveBoth = list(InBothBoolean[InBothBoolean == True].index)"
   ]
  },
  {
   "cell_type": "markdown",
   "metadata": {},
   "source": [
    "# Results"
   ]
  },
  {
   "cell_type": "code",
   "execution_count": 6,
   "metadata": {},
   "outputs": [
    {
     "name": "stdout",
     "output_type": "stream",
     "text": [
      "Missing Indices for UNQ: [2, 6, 7, 8, 13, 21, 31, 33, 38, 39]\n",
      "Missing Indices for DPL: [2, 6, 8, 18, 21, 22, 25, 39]\n",
      "Duplicate Indices for UNQ: []\n",
      "Duplicate Indices for DPL: []\n"
     ]
    }
   ],
   "source": [
    "### Outputs ###\n",
    "print(\"Missing Indices for UNQ:\", MissingUNQ)\n",
    "print(\"Missing Indices for DPL:\", MissingDPL)\n",
    "print(\"Duplicate Indices for UNQ:\", DuplicateIndicesUNQ)\n",
    "print(\"Duplicate Indices for DPL:\", DuplicateIndicesDPL)"
   ]
  },
  {
   "cell_type": "markdown",
   "metadata": {},
   "source": [
    "# Generate Missing JobNames"
   ]
  },
  {
   "cell_type": "code",
   "execution_count": 7,
   "metadata": {},
   "outputs": [],
   "source": [
    "MissingDPL_List = [str(item) + Abbrv + \"_DA\" + str(str(Threshold)) for item in MissingDPL]\n",
    "MissingUNQ_List = [str(item) + Abbrv + \"_UA\" + str(str(Threshold)) for item in MissingUNQ]\n",
    "# HaveBothDPL_List = [str(item) + Abbrv + \"_DA\" + str(str(Threshold)) for item in HaveBoth[0:UpToNum]]\n",
    "# HaveBothUNQ_List = [str(item) + Abbrv + \"_UA\" + str(str(Threshold)) for item in HaveBoth[0:UpToNum]]\n",
    "\n",
    "HaveBothDPL_List = [str(item) + Abbrv + \"_DA\" + str(str(Threshold)) for item in HaveBoth]\n",
    "HaveBothUNQ_List = [str(item) + Abbrv + \"_UA\" + str(str(Threshold)) for item in HaveBoth]"
   ]
  },
  {
   "cell_type": "code",
   "execution_count": 8,
   "metadata": {},
   "outputs": [
    {
     "name": "stdout",
     "output_type": "stream",
     "text": [
      "Missing (combined) JobNames:\n",
      "['2BN_DA045', '6BN_DA045', '8BN_DA045', '18BN_DA045', '21BN_DA045', '22BN_DA045', '25BN_DA045', '39BN_DA045', '2BN_UA045', '6BN_UA045', '7BN_UA045', '8BN_UA045', '13BN_UA045', '21BN_UA045', '31BN_UA045', '33BN_UA045', '38BN_UA045', '39BN_UA045']\n"
     ]
    }
   ],
   "source": [
    "# print(\"Missing JobNames for UNQ:\", MissingUNQ_List)\n",
    "# print(\"Missing JobNames for DPL:\", MissingDPL_List)\n",
    "print(\"Missing (combined) JobNames:\")\n",
    "print(MissingDPL_List + MissingUNQ_List)"
   ]
  },
  {
   "cell_type": "code",
   "execution_count": 9,
   "metadata": {},
   "outputs": [
    {
     "name": "stdout",
     "output_type": "stream",
     "text": [
      "Have both JobNames:\n",
      "[0, 1, 3, 4, 5, 9, 10, 11, 12, 14, 15, 16, 17, 19, 20, 23, 24, 26, 27, 28, 29, 30, 32, 34, 35, 36, 37, 40, 41, 42, 43, 44, 45, 46, 47, 48, 49]\n",
      "['0BN_DA045', '1BN_DA045', '3BN_DA045', '4BN_DA045', '5BN_DA045', '9BN_DA045', '10BN_DA045', '11BN_DA045', '12BN_DA045', '14BN_DA045', '15BN_DA045', '16BN_DA045', '17BN_DA045', '19BN_DA045', '20BN_DA045', '23BN_DA045', '24BN_DA045', '26BN_DA045', '27BN_DA045', '28BN_DA045', '29BN_DA045', '30BN_DA045', '32BN_DA045', '34BN_DA045', '35BN_DA045', '36BN_DA045', '37BN_DA045', '40BN_DA045', '41BN_DA045', '42BN_DA045', '43BN_DA045', '44BN_DA045', '45BN_DA045', '46BN_DA045', '47BN_DA045', '48BN_DA045', '49BN_DA045', '0BN_UA045', '1BN_UA045', '3BN_UA045', '4BN_UA045', '5BN_UA045', '9BN_UA045', '10BN_UA045', '11BN_UA045', '12BN_UA045', '14BN_UA045', '15BN_UA045', '16BN_UA045', '17BN_UA045', '19BN_UA045', '20BN_UA045', '23BN_UA045', '24BN_UA045', '26BN_UA045', '27BN_UA045', '28BN_UA045', '29BN_UA045', '30BN_UA045', '32BN_UA045', '34BN_UA045', '35BN_UA045', '36BN_UA045', '37BN_UA045', '40BN_UA045', '41BN_UA045', '42BN_UA045', '43BN_UA045', '44BN_UA045', '45BN_UA045', '46BN_UA045', '47BN_UA045', '48BN_UA045', '49BN_UA045']\n"
     ]
    }
   ],
   "source": [
    "print(\"Have both JobNames:\")\n",
    "print(HaveBoth)\n",
    "print(HaveBothDPL_List + HaveBothUNQ_List)"
   ]
  },
  {
   "cell_type": "code",
   "execution_count": 10,
   "metadata": {},
   "outputs": [
    {
     "data": {
      "text/plain": [
       "37"
      ]
     },
     "execution_count": 10,
     "metadata": {},
     "output_type": "execute_result"
    }
   ],
   "source": [
    "len(HaveBoth)"
   ]
  },
  {
   "cell_type": "code",
   "execution_count": 11,
   "metadata": {},
   "outputs": [
    {
     "data": {
      "text/plain": [
       "Index([ 0,  1,  3,  4,  5,  9, 10, 11, 12, 14, 15, 16, 17, 18, 19, 20, 22, 23,\n",
       "       24, 25, 26, 27, 28, 29, 30, 32, 34, 35, 36, 37, 40, 41, 42, 43, 44, 45,\n",
       "       46, 47, 48, 49],\n",
       "      dtype='int64')"
      ]
     },
     "execution_count": 11,
     "metadata": {},
     "output_type": "execute_result"
    }
   ],
   "source": [
    "TotalCountUnique[TotalCountUnique[\"Unique\"] == 1].index"
   ]
  }
 ],
 "metadata": {
  "kernelspec": {
   "display_name": "rashomon-3.9",
   "language": "python",
   "name": "python3"
  },
  "language_info": {
   "codemirror_mode": {
    "name": "ipython",
    "version": 3
   },
   "file_extension": ".py",
   "mimetype": "text/x-python",
   "name": "python",
   "nbconvert_exporter": "python",
   "pygments_lexer": "ipython3",
   "version": "3.9.20"
  }
 },
 "nbformat": 4,
 "nbformat_minor": 2
}

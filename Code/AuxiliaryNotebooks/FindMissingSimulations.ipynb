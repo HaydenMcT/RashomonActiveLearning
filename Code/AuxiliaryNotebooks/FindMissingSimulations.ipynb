{
 "cells": [
  {
   "cell_type": "markdown",
   "metadata": {},
   "source": [
    "# Packages"
   ]
  },
  {
   "cell_type": "code",
   "execution_count": 1,
   "metadata": {},
   "outputs": [],
   "source": [
    "import pandas as pd"
   ]
  },
  {
   "cell_type": "markdown",
   "metadata": {},
   "source": [
    "# Input"
   ]
  },
  {
   "cell_type": "code",
   "execution_count": 2,
   "metadata": {},
   "outputs": [],
   "source": [
    "Abbrv=\"BN\"\n",
    "Threshold = \"035\""
   ]
  },
  {
   "cell_type": "code",
   "execution_count": 3,
   "metadata": {},
   "outputs": [],
   "source": [
    "# Input text\n",
    "text = \"\"\"\n",
    "0BN_DA035_D4B10.pkl    14BN_DA035_D4B10.pkl   19BN_DA035_D4B10.pkl   23BN_DA035_D4B10.pkl   28BN_DA035_D4B10.pkl   32BN_DA035_D4B10.pkl   37BN_DA035_D4B10.pkl   41BN_DA035_D4B10.pkl   46BN_DA035_D4B10.pkl   5BN_DA035_D4B10.pkl\n",
    " 0BN_UA035_D4B10.pkl    14BN_UA035_D4B10.pkl   19BN_UA035_D4B10.pkl   23BN_UA035_D4B10.pkl   28BN_UA035_D4B10.pkl   32BN_UA035_D4B10.pkl   37BN_UA035_D4B10.pkl   41BN_UA035_D4B10.pkl   46BN_UA035_D4B10.pkl   5BN_UA035_D4B10.pkl\n",
    " 10BN_DA035_D4B10.pkl   15BN_DA035_D4B10.pkl   1BN_DA035_D4B10.pkl    24BN_DA035_D4B10.pkl   29BN_DA035_D4B10.pkl   33BN_DA035_D4B10.pkl   38BN_DA035_D4B10.pkl   42BN_DA035_D4B10.pkl   47BN_DA035_D4B10.pkl   7BN_DA035_D4B10.pkl\n",
    " 10BN_UA035_D4B10.pkl   15BN_UA035_D4B10.pkl   1BN_UA035_D4B10.pkl    24BN_UA035_D4B10.pkl   29BN_UA035_D4B10.pkl   33BN_UA035_D4B10.pkl   38BN_UA035_D4B10.pkl   42BN_UA035_D4B10.pkl   47BN_UA035_D4B10.pkl   7BN_UA035_D4B10.pkl\n",
    " 11BN_DA035_D4B10.pkl   16BN_DA035_D4B10.pkl   20BN_DA035_D4B10.pkl   25BN_DA035_D4B10.pkl   2BN_DA035_D4B10.pkl    34BN_DA035_D4B10.pkl   39BN_DA035_D4B10.pkl   43BN_DA035_D4B10.pkl   48BN_DA035_D4B10.pkl   8BN_DA035_D4B10.pkl\n",
    " 11BN_UA035_D4B10.pkl   16BN_UA035_D4B10.pkl   20BN_UA035_D4B10.pkl   25BN_UA035_D4B10.pkl   2BN_UA035_D4B10.pkl    34BN_UA035_D4B10.pkl   39BN_UA035_D4B10.pkl   43BN_UA035_D4B10.pkl   48BN_UA035_D4B10.pkl   8BN_UA035_D4B10.pkl\n",
    " 12BN_DA035_D4B10.pkl   17BN_DA035_D4B10.pkl   21BN_DA035_D4B10.pkl   26BN_DA035_D4B10.pkl   30BN_DA035_D4B10.pkl   35BN_DA035_D4B10.pkl   3BN_DA035_D4B10.pkl    44BN_DA035_D4B10.pkl   49BN_DA035_D4B10.pkl   9BN_DA035_D4B10.pkl\n",
    " 12BN_UA035_D4B10.pkl   17BN_UA035_D4B10.pkl   21BN_UA035_D4B10.pkl   26BN_UA035_D4B10.pkl   30BN_UA035_D4B10.pkl   35BN_UA035_D4B10.pkl   3BN_UA035_D4B10.pkl    44BN_UA035_D4B10.pkl   49BN_UA035_D4B10.pkl   9BN_UA035_D4B10.pkl\n",
    " 13BN_DA035_D4B10.pkl   18BN_DA035_D4B10.pkl   22BN_DA035_D4B10.pkl   27BN_DA035_D4B10.pkl   31BN_DA035_D4B10.pkl   36BN_DA035_D4B10.pkl   40BN_DA035_D4B10.pkl   45BN_DA035_D4B10.pkl   4BN_DA035_D4B10.pkl    delete_results.sh\n",
    " 13BN_UA035_D4B10.pkl   18BN_UA035_D4B10.pkl   22BN_UA035_D4B10.pkl   27BN_UA035_D4B10.pkl   31BN_UA035_D4B10.pkl   36BN_UA035_D4B10.pkl   40BN_UA035_D4B10.pkl   45BN_UA035_D4B10.pkl   4BN_UA035_D4B10.pkl   ' .foo.png'\n",
    "\"\"\""
   ]
  },
  {
   "cell_type": "code",
   "execution_count": 4,
   "metadata": {},
   "outputs": [
    {
     "data": {
      "text/plain": [
       "101"
      ]
     },
     "execution_count": 4,
     "metadata": {},
     "output_type": "execute_result"
    }
   ],
   "source": [
    "words = text.split()\n",
    "len(words)"
   ]
  },
  {
   "cell_type": "markdown",
   "metadata": {},
   "source": [
    "# Algorithm"
   ]
  },
  {
   "cell_type": "markdown",
   "metadata": {},
   "source": [
    "## Missing"
   ]
  },
  {
   "cell_type": "code",
   "execution_count": 5,
   "metadata": {},
   "outputs": [],
   "source": [
    "### Combined Analysis for Unique and Duplicate ###\n",
    "TotalCountUnique = []\n",
    "TotalCountDuplicate = []\n",
    "TotalCountDuplicateUNQ = []\n",
    "TotalCountDuplicateDPL = []\n",
    "\n",
    "for i in range(0, 50):\n",
    "    substringUNQ = str(i) + Abbrv + \"_UA\" +str(Threshold)\n",
    "    substringDPL = str(i) + Abbrv + \"_DA\" +str(Threshold)\n",
    "\n",
    "    # Unique occurrences\n",
    "    unique_occurrencesUNQ = {word for word in words if word.startswith(substringUNQ)}\n",
    "    unique_occurrencesDPL = {word for word in words if word.startswith(substringDPL)}\n",
    "\n",
    "    countUNQ = len(unique_occurrencesUNQ)\n",
    "    countDPL = len(unique_occurrencesDPL)\n",
    "\n",
    "    TotalCountUnique.append(countUNQ)\n",
    "    TotalCountDuplicate.append(countDPL)\n",
    "\n",
    "    # Duplicate occurrences\n",
    "    occurrencesUNQ = [word for word in words if word.startswith(substringUNQ)]\n",
    "    occurrencesDPL = [word for word in words if word.startswith(substringDPL)]\n",
    "\n",
    "    countDuplicatesUNQ = len(occurrencesUNQ)\n",
    "    countDuplicatesDPL = len(occurrencesDPL)\n",
    "\n",
    "    TotalCountDuplicateUNQ.append(countDuplicatesUNQ)\n",
    "    TotalCountDuplicateDPL.append(countDuplicatesDPL)\n",
    "\n",
    "### Convert to DataFrames ###\n",
    "TotalCountUnique = pd.DataFrame(TotalCountUnique, columns=[\"Unique\"])\n",
    "TotalCountDuplicate = pd.DataFrame(TotalCountDuplicate, columns=[\"Duplicate\"])\n",
    "TotalCountDuplicateUNQ = pd.DataFrame(TotalCountDuplicateUNQ, columns=[\"Duplicate_UNQ\"])\n",
    "TotalCountDuplicateDPL = pd.DataFrame(TotalCountDuplicateDPL, columns=[\"Duplicate_DPL\"])\n",
    "\n",
    "### Identify Missing ###\n",
    "MissingUNQ = list(TotalCountUnique[TotalCountUnique[\"Unique\"] < 1].index)\n",
    "MissingDPL = list(TotalCountDuplicate[TotalCountDuplicate[\"Duplicate\"] < 1].index)\n",
    "\n",
    "### Identify Duplicates ###\n",
    "DuplicateIndicesUNQ = list(TotalCountDuplicateUNQ[TotalCountDuplicateUNQ[\"Duplicate_UNQ\"] > 1].index)\n",
    "DuplicateIndicesDPL = list(TotalCountDuplicateDPL[TotalCountDuplicateDPL[\"Duplicate_DPL\"] > 1].index)\n",
    "\n",
    "### Have Both ###\n",
    "InBothBoolean = (TotalCountUnique[\"Unique\"] == 1) & (TotalCountDuplicate[\"Duplicate\"] == 1)\n",
    "HaveBoth = list(InBothBoolean[InBothBoolean == True].index)"
   ]
  },
  {
   "cell_type": "markdown",
   "metadata": {},
   "source": [
    "# Results"
   ]
  },
  {
   "cell_type": "code",
   "execution_count": 6,
   "metadata": {},
   "outputs": [
    {
     "name": "stdout",
     "output_type": "stream",
     "text": [
      "Missing Indices for UNQ: [6]\n",
      "Missing Indices for DPL: [6]\n",
      "Duplicate Indices for UNQ: []\n",
      "Duplicate Indices for DPL: []\n"
     ]
    }
   ],
   "source": [
    "### Outputs ###\n",
    "print(\"Missing Indices for UNQ:\", MissingUNQ)\n",
    "print(\"Missing Indices for DPL:\", MissingDPL)\n",
    "print(\"Duplicate Indices for UNQ:\", DuplicateIndicesUNQ)\n",
    "print(\"Duplicate Indices for DPL:\", DuplicateIndicesDPL)"
   ]
  },
  {
   "cell_type": "markdown",
   "metadata": {},
   "source": [
    "# Generate Missing JobNames"
   ]
  },
  {
   "cell_type": "code",
   "execution_count": 7,
   "metadata": {},
   "outputs": [],
   "source": [
    "MissingDPL_List = [str(item) + Abbrv + \"_DA\" + str(str(Threshold)) + \"_D4B5\" for item in MissingDPL]\n",
    "MissingUNQ_List = [str(item) + Abbrv + \"_UA\" + str(str(Threshold)) + \"_D4B5\" for item in MissingUNQ]\n",
    "# HaveBothDPL_List = [str(item) + Abbrv + \"_DA\" + str(str(Threshold)) for item in HaveBoth[0:UpToNum]]\n",
    "# HaveBothUNQ_List = [str(item) + Abbrv + \"_UA\" + str(str(Threshold)) for item in HaveBoth[0:UpToNum]]\n",
    "\n",
    "HaveBothDPL_List = [str(item) + Abbrv + \"_DA\" + str(str(Threshold)) + \"_D4B5\" for item in HaveBoth]\n",
    "HaveBothUNQ_List = [str(item) + Abbrv + \"_UA\" + str(str(Threshold)) + \"_D4B5\" for item in HaveBoth]"
   ]
  },
  {
   "cell_type": "code",
   "execution_count": 8,
   "metadata": {},
   "outputs": [
    {
     "name": "stdout",
     "output_type": "stream",
     "text": [
      "Missing (combined) JobNames:\n",
      "['6BN_DA035_D4B5', '6BN_UA035_D4B5']\n"
     ]
    }
   ],
   "source": [
    "# print(\"Missing JobNames for UNQ:\", MissingUNQ_List)\n",
    "# print(\"Missing JobNames for DPL:\", MissingDPL_List)\n",
    "print(\"Missing (combined) JobNames:\")\n",
    "print(MissingDPL_List + MissingUNQ_List)"
   ]
  },
  {
   "cell_type": "code",
   "execution_count": 9,
   "metadata": {},
   "outputs": [
    {
     "name": "stdout",
     "output_type": "stream",
     "text": [
      "Have both JobNames:\n",
      "[0, 1, 2, 3, 4, 5, 7, 8, 9, 10, 11, 12, 13, 14, 15, 16, 17, 18, 19, 20, 21, 22, 23, 24, 25, 26, 27, 28, 29, 30, 31, 32, 33, 34, 35, 36, 37, 38, 39, 40, 41, 42, 43, 44, 45, 46, 47, 48, 49]\n",
      "['0BN_DA035_D4B5', '1BN_DA035_D4B5', '2BN_DA035_D4B5', '3BN_DA035_D4B5', '4BN_DA035_D4B5', '5BN_DA035_D4B5', '7BN_DA035_D4B5', '8BN_DA035_D4B5', '9BN_DA035_D4B5', '10BN_DA035_D4B5', '11BN_DA035_D4B5', '12BN_DA035_D4B5', '13BN_DA035_D4B5', '14BN_DA035_D4B5', '15BN_DA035_D4B5', '16BN_DA035_D4B5', '17BN_DA035_D4B5', '18BN_DA035_D4B5', '19BN_DA035_D4B5', '20BN_DA035_D4B5', '21BN_DA035_D4B5', '22BN_DA035_D4B5', '23BN_DA035_D4B5', '24BN_DA035_D4B5', '25BN_DA035_D4B5', '26BN_DA035_D4B5', '27BN_DA035_D4B5', '28BN_DA035_D4B5', '29BN_DA035_D4B5', '30BN_DA035_D4B5', '31BN_DA035_D4B5', '32BN_DA035_D4B5', '33BN_DA035_D4B5', '34BN_DA035_D4B5', '35BN_DA035_D4B5', '36BN_DA035_D4B5', '37BN_DA035_D4B5', '38BN_DA035_D4B5', '39BN_DA035_D4B5', '40BN_DA035_D4B5', '41BN_DA035_D4B5', '42BN_DA035_D4B5', '43BN_DA035_D4B5', '44BN_DA035_D4B5', '45BN_DA035_D4B5', '46BN_DA035_D4B5', '47BN_DA035_D4B5', '48BN_DA035_D4B5', '49BN_DA035_D4B5', '0BN_UA035_D4B5', '1BN_UA035_D4B5', '2BN_UA035_D4B5', '3BN_UA035_D4B5', '4BN_UA035_D4B5', '5BN_UA035_D4B5', '7BN_UA035_D4B5', '8BN_UA035_D4B5', '9BN_UA035_D4B5', '10BN_UA035_D4B5', '11BN_UA035_D4B5', '12BN_UA035_D4B5', '13BN_UA035_D4B5', '14BN_UA035_D4B5', '15BN_UA035_D4B5', '16BN_UA035_D4B5', '17BN_UA035_D4B5', '18BN_UA035_D4B5', '19BN_UA035_D4B5', '20BN_UA035_D4B5', '21BN_UA035_D4B5', '22BN_UA035_D4B5', '23BN_UA035_D4B5', '24BN_UA035_D4B5', '25BN_UA035_D4B5', '26BN_UA035_D4B5', '27BN_UA035_D4B5', '28BN_UA035_D4B5', '29BN_UA035_D4B5', '30BN_UA035_D4B5', '31BN_UA035_D4B5', '32BN_UA035_D4B5', '33BN_UA035_D4B5', '34BN_UA035_D4B5', '35BN_UA035_D4B5', '36BN_UA035_D4B5', '37BN_UA035_D4B5', '38BN_UA035_D4B5', '39BN_UA035_D4B5', '40BN_UA035_D4B5', '41BN_UA035_D4B5', '42BN_UA035_D4B5', '43BN_UA035_D4B5', '44BN_UA035_D4B5', '45BN_UA035_D4B5', '46BN_UA035_D4B5', '47BN_UA035_D4B5', '48BN_UA035_D4B5', '49BN_UA035_D4B5']\n"
     ]
    }
   ],
   "source": [
    "print(\"Have both JobNames:\")\n",
    "print(HaveBoth)\n",
    "print(HaveBothDPL_List + HaveBothUNQ_List)"
   ]
  },
  {
   "cell_type": "code",
   "execution_count": 10,
   "metadata": {},
   "outputs": [
    {
     "data": {
      "text/plain": [
       "49"
      ]
     },
     "execution_count": 10,
     "metadata": {},
     "output_type": "execute_result"
    }
   ],
   "source": [
    "len(HaveBoth)"
   ]
  },
  {
   "cell_type": "code",
   "execution_count": 11,
   "metadata": {},
   "outputs": [
    {
     "data": {
      "text/plain": [
       "Index([ 0,  1,  2,  3,  4,  5,  7,  8,  9, 10, 11, 12, 13, 14, 15, 16, 17, 18,\n",
       "       19, 20, 21, 22, 23, 24, 25, 26, 27, 28, 29, 30, 31, 32, 33, 34, 35, 36,\n",
       "       37, 38, 39, 40, 41, 42, 43, 44, 45, 46, 47, 48, 49],\n",
       "      dtype='int64')"
      ]
     },
     "execution_count": 11,
     "metadata": {},
     "output_type": "execute_result"
    }
   ],
   "source": [
    "TotalCountUnique[TotalCountUnique[\"Unique\"] == 1].index"
   ]
  }
 ],
 "metadata": {
  "kernelspec": {
   "display_name": "rashomon-3.9",
   "language": "python",
   "name": "python3"
  },
  "language_info": {
   "codemirror_mode": {
    "name": "ipython",
    "version": 3
   },
   "file_extension": ".py",
   "mimetype": "text/x-python",
   "name": "python",
   "nbconvert_exporter": "python",
   "pygments_lexer": "ipython3",
   "version": "3.9.20"
  }
 },
 "nbformat": 4,
 "nbformat_minor": 2
}

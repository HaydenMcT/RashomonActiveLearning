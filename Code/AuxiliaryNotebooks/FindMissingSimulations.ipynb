{
 "cells": [
  {
   "cell_type": "markdown",
   "metadata": {},
   "source": [
    "# Packages"
   ]
  },
  {
   "cell_type": "code",
   "execution_count": 1,
   "metadata": {},
   "outputs": [],
   "source": [
    "### Append Path ###\n",
    "import sys\n",
    "sys.path.append('..')\n",
    "from utils.Auxiliary import FindMissingSimulations"
   ]
  },
  {
   "cell_type": "markdown",
   "metadata": {},
   "source": [
    "# Input"
   ]
  },
  {
   "cell_type": "code",
   "execution_count": 2,
   "metadata": {},
   "outputs": [],
   "source": [
    "# Input text\n",
    "text1 = \"\"\"\n",
    "0BN_DA045_D4B10.pkl    15BN_DA045_D4B10.pkl   20BN_DA045_D4B10.pkl   27BN_UA045_D4B10.pkl   34BN_DA045_D4B10.pkl   40BN_DA045_D4B10.pkl   45BN_UA045_D4B10.pkl   5BN_DA045_D4B10.pkl\n",
    " 0BN_UA045_D4B10.pkl    15BN_UA045_D4B10.pkl   20BN_UA045_D4B10.pkl   28BN_DA045_D4B10.pkl   34BN_UA045_D4B10.pkl   40BN_UA045_D4B10.pkl   46BN_DA045_D4B10.pkl   5BN_UA045_D4B10.pkl\n",
    " 10BN_DA045_D4B10.pkl   16BN_DA045_D4B10.pkl   22BN_UA045_D4B10.pkl   28BN_UA045_D4B10.pkl   35BN_DA045_D4B10.pkl   41BN_DA045_D4B10.pkl   46BN_UA045_D4B10.pkl   6BN_DA035_D4B10.pkl\n",
    " 10BN_UA045_D4B10.pkl   16BN_UA045_D4B10.pkl   23BN_DA045_D4B10.pkl   29BN_DA045_D4B10.pkl   35BN_UA045_D4B10.pkl   41BN_UA045_D4B10.pkl   47BN_DA045_D4B10.pkl   6BN_UA035_D4B10.pkl\n",
    " 11BN_DA045_D4B10.pkl   17BN_DA045_D4B10.pkl   23BN_UA045_D4B10.pkl   29BN_UA045_D4B10.pkl   36BN_DA045_D4B10.pkl   42BN_DA045_D4B10.pkl   47BN_UA045_D4B10.pkl   7BN_DA045_D4B10.pkl\n",
    " 11BN_UA045_D4B10.pkl   17BN_UA045_D4B10.pkl   24BN_DA045_D4B10.pkl   30BN_DA045_D4B10.pkl   36BN_UA045_D4B10.pkl   42BN_UA045_D4B10.pkl   48BN_DA045_D4B10.pkl   9BN_DA045_D4B10.pkl\n",
    " 12BN_DA045_D4B10.pkl   18BN_UA045_D4B10.pkl   24BN_UA045_D4B10.pkl   30BN_UA045_D4B10.pkl   37BN_DA045_D4B10.pkl   43BN_DA045_D4B10.pkl   48BN_UA045_D4B10.pkl   9BN_UA045_D4B10.pkl\n",
    " 12BN_UA045_D4B10.pkl   19BN_DA045_D4B10.pkl   25BN_UA045_D4B10.pkl   31BN_DA045_D4B10.pkl   37BN_UA045_D4B10.pkl   43BN_UA045_D4B10.pkl   49BN_DA045_D4B10.pkl   delete_results.sh\n",
    " 13BN_DA045_D4B10.pkl   19BN_UA045_D4B10.pkl   26BN_DA045_D4B10.pkl   32BN_DA045_D4B10.pkl   38BN_DA045_D4B10.pkl   44BN_DA045_D4B10.pkl   49BN_UA045_D4B10.pkl  ' .foo.png'\n",
    " 14BN_DA045_D4B10.pkl   1BN_DA045_D4B10.pkl    26BN_UA045_D4B10.pkl   32BN_UA045_D4B10.pkl   3BN_DA045_D4B10.pkl    44BN_UA045_D4B10.pkl   4BN_DA045_D4B10.pkl\n",
    " 14BN_UA045_D4B10.pkl   1BN_UA045_D4B10.pkl    27BN_DA045_D4B10.pkl   33BN_DA045_D4B10.pkl   3BN_UA045_D4B10.pkl    45BN_DA045_D4B10.pkl   4BN_UA045_D4B10.pkl\n",
    "\"\"\""
   ]
  },
  {
   "cell_type": "markdown",
   "metadata": {},
   "source": [
    "# Results"
   ]
  },
  {
   "cell_type": "code",
   "execution_count": 3,
   "metadata": {},
   "outputs": [
    {
     "name": "stdout",
     "output_type": "stream",
     "text": [
      "Duplicate Indices for UNQ: []\n",
      "Duplicate Indices for DPL: []\n",
      "Missing Indices for UNQ: [2, 6, 7, 8, 13, 21, 31, 33, 38, 39]\n",
      "Missing Indices for DPL: [2, 6, 8, 18, 21, 22, 25, 39]\n",
      "Missing (combined) JobNames:\n",
      "['2BN_DA045', '6BN_DA045', '8BN_DA045', '18BN_DA045', '21BN_DA045', '22BN_DA045', '25BN_DA045', '39BN_DA045', '2BN_UA045', '6BN_UA045', '7BN_UA045', '8BN_UA045', '13BN_UA045', '21BN_UA045', '31BN_UA045', '33BN_UA045', '38BN_UA045', '39BN_UA045']\n",
      "Have both JobNames:\n",
      "['0BN_DA045', '1BN_DA045', '3BN_DA045', '4BN_DA045', '5BN_DA045', '9BN_DA045', '10BN_DA045', '11BN_DA045', '12BN_DA045', '14BN_DA045', '15BN_DA045', '16BN_DA045', '17BN_DA045', '19BN_DA045', '20BN_DA045', '23BN_DA045', '24BN_DA045', '26BN_DA045', '27BN_DA045', '28BN_DA045', '29BN_DA045', '30BN_DA045', '32BN_DA045', '34BN_DA045', '35BN_DA045', '36BN_DA045', '37BN_DA045', '40BN_DA045', '41BN_DA045', '42BN_DA045', '43BN_DA045', '44BN_DA045', '45BN_DA045', '46BN_DA045', '47BN_DA045', '48BN_DA045', '49BN_DA045', '0BN_UA045', '1BN_UA045', '3BN_UA045', '4BN_UA045', '5BN_UA045', '9BN_UA045', '10BN_UA045', '11BN_UA045', '12BN_UA045', '14BN_UA045', '15BN_UA045', '16BN_UA045', '17BN_UA045', '19BN_UA045', '20BN_UA045', '23BN_UA045', '24BN_UA045', '26BN_UA045', '27BN_UA045', '28BN_UA045', '29BN_UA045', '30BN_UA045', '32BN_UA045', '34BN_UA045', '35BN_UA045', '36BN_UA045', '37BN_UA045', '40BN_UA045', '41BN_UA045', '42BN_UA045', '43BN_UA045', '44BN_UA045', '45BN_UA045', '46BN_UA045', '47BN_UA045', '48BN_UA045', '49BN_UA045']\n"
     ]
    }
   ],
   "source": [
    "FindMissingSimulations(Abbrv=\"BN\", Threshold = \"045\", text = text1)"
   ]
  }
 ],
 "metadata": {
  "kernelspec": {
   "display_name": "rashomon-3.9",
   "language": "python",
   "name": "python3"
  },
  "language_info": {
   "codemirror_mode": {
    "name": "ipython",
    "version": 3
   },
   "file_extension": ".py",
   "mimetype": "text/x-python",
   "name": "python",
   "nbconvert_exporter": "python",
   "pygments_lexer": "ipython3",
   "version": "3.9.20"
  }
 },
 "nbformat": 4,
 "nbformat_minor": 2
}

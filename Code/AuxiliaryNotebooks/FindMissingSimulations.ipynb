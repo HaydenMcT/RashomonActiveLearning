{
 "cells": [
  {
   "cell_type": "markdown",
   "metadata": {},
   "source": [
    "# Packages"
   ]
  },
  {
   "cell_type": "code",
   "execution_count": 1,
   "metadata": {},
   "outputs": [],
   "source": [
    "import pandas as pd"
   ]
  },
  {
   "cell_type": "markdown",
   "metadata": {},
   "source": [
    "# Input"
   ]
  },
  {
   "cell_type": "code",
   "execution_count": 2,
   "metadata": {},
   "outputs": [],
   "source": [
    "Abbrv=\"CE\"\n",
    "Threshold = \"01\""
   ]
  },
  {
   "cell_type": "code",
   "execution_count": 3,
   "metadata": {},
   "outputs": [],
   "source": [
    "# Input text\n",
    "text = \"\"\"\n",
    " 0CE_DA005_D4B10.pkl    13CE_DA01_D4B10.pkl    18CE_DA005_D4B10.pkl   21CE_UA01_D4B10.pkl    26CE_DA005_D4B10.pkl   29CE_UA01_D4B10.pkl    35CE_UA005_D4B10.pkl   40CE_DA005_D4B10.pkl   46CE_UA01_D4B10.pkl    6CE_DA01_D4B10.pkl\n",
    " 0CE_DA01_D4B10.pkl     13CE_UA01_D4B10.pkl    18CE_DA01_D4B10.pkl    22CE_DA005_D4B10.pkl   26CE_DA01_D4B10.pkl    2CE_UA005_D4B10.pkl    35CE_UA01_D4B10.pkl    40CE_DA01_D4B10.pkl    47CE_UA005_D4B10.pkl   6CE_UA005_D4B10.pkl\n",
    " 0CE_UA005_D4B10.pkl    14CE_DA005_D4B10.pkl   18CE_UA005_D4B10.pkl   22CE_DA01_D4B10.pkl    26CE_UA005_D4B10.pkl   30CE_DA005_D4B10.pkl   36CE_DA005_D4B10.pkl   40CE_UA005_D4B10.pkl   49CE_DA005_D4B10.pkl   6CE_UA01_D4B10.pkl\n",
    " 0CE_UA01_D4B10.pkl     14CE_DA01_D4B10.pkl    18CE_UA01_D4B10.pkl    22CE_UA005_D4B10.pkl   26CE_UA01_D4B10.pkl    30CE_DA01_D4B10.pkl    36CE_DA01_D4B10.pkl    40CE_UA01_D4B10.pkl    49CE_DA01_D4B10.pkl    7CE_DA005_D4B10.pkl\n",
    " 10CE_DA005_D4B10.pkl   14CE_UA005_D4B10.pkl   1CE_DA005_D4B10.pkl    22CE_UA01_D4B10.pkl    27CE_DA005_D4B10.pkl   30CE_UA005_D4B10.pkl   36CE_UA005_D4B10.pkl   41CE_DA005_D4B10.pkl   49CE_UA005_D4B10.pkl   7CE_DA01_D4B10.pkl\n",
    " 10CE_DA01_D4B10.pkl    14CE_UA01_D4B10.pkl    1CE_DA01_D4B10.pkl     23CE_DA005_D4B10.pkl   27CE_DA01_D4B10.pkl    30CE_UA01_D4B10.pkl    36CE_UA01_D4B10.pkl    41CE_DA01_D4B10.pkl    49CE_UA01_D4B10.pkl    7CE_UA005_D4B10.pkl\n",
    " 10CE_UA005_D4B10.pkl   15CE_DA01_D4B10.pkl    1CE_UA005_D4B10.pkl    23CE_DA01_D4B10.pkl    27CE_UA005_D4B10.pkl   31CE_DA01_D4B10.pkl    37CE_UA005_D4B10.pkl   41CE_UA005_D4B10.pkl   4CE_DA005_D4B10.pkl    7CE_UA01_D4B10.pkl\n",
    " 10CE_UA01_D4B10.pkl    15CE_UA005_D4B10.pkl   1CE_UA01_D4B10.pkl     23CE_UA01_D4B10.pkl    27CE_UA01_D4B10.pkl    31CE_UA005_D4B10.pkl   38CE_UA01_D4B10.pkl    41CE_UA01_D4B10.pkl    4CE_DA01_D4B10.pkl     8CE_DA005_D4B10.pkl\n",
    " 11CE_DA01_D4B10.pkl    15CE_UA01_D4B10.pkl    20CE_DA005_D4B10.pkl   24CE_DA005_D4B10.pkl   28CE_DA005_D4B10.pkl   31CE_UA01_D4B10.pkl    39CE_DA005_D4B10.pkl   42CE_DA01_D4B10.pkl    4CE_UA005_D4B10.pkl    8CE_DA01_D4B10.pkl\n",
    " 11CE_UA005_D4B10.pkl   16CE_DA005_D4B10.pkl   20CE_DA01_D4B10.pkl    24CE_UA005_D4B10.pkl   28CE_DA01_D4B10.pkl    32CE_UA01_D4B10.pkl    39CE_DA01_D4B10.pkl    42CE_UA01_D4B10.pkl    4CE_UA01_D4B10.pkl     8CE_UA005_D4B10.pkl\n",
    " 11CE_UA01_D4B10.pkl    16CE_UA01_D4B10.pkl    20CE_UA005_D4B10.pkl   24CE_UA01_D4B10.pkl    28CE_UA005_D4B10.pkl   34CE_DA01_D4B10.pkl    39CE_UA005_D4B10.pkl   43CE_DA01_D4B10.pkl    5CE_DA005_D4B10.pkl    8CE_UA01_D4B10.pkl\n",
    " 12CE_DA005_D4B10.pkl   17CE_DA005_D4B10.pkl   20CE_UA01_D4B10.pkl    25CE_DA005_D4B10.pkl   28CE_UA01_D4B10.pkl    34CE_UA005_D4B10.pkl   39CE_UA01_D4B10.pkl    43CE_UA01_D4B10.pkl    5CE_DA01_D4B10.pkl     9CE_DA005_D4B10.pkl\n",
    " 12CE_DA01_D4B10.pkl    17CE_DA01_D4B10.pkl    21CE_DA005_D4B10.pkl   25CE_DA01_D4B10.pkl    29CE_DA005_D4B10.pkl   34CE_UA01_D4B10.pkl    3CE_DA01_D4B10.pkl     45CE_UA01_D4B10.pkl    5CE_UA005_D4B10.pkl    9CE_UA005_D4B10.pkl\n",
    " 12CE_UA01_D4B10.pkl    17CE_UA005_D4B10.pkl   21CE_DA01_D4B10.pkl    25CE_UA005_D4B10.pkl   29CE_DA01_D4B10.pkl    35CE_DA005_D4B10.pkl   3CE_UA005_D4B10.pkl    46CE_DA01_D4B10.pkl    5CE_UA01_D4B10.pkl     delete_results.sh\n",
    " 13CE_DA005_D4B10.pkl   17CE_UA01_D4B10.pkl    21CE_UA005_D4B10.pkl   25CE_UA01_D4B10.pkl    29CE_UA005_D4B10.pkl   35CE_DA01_D4B10.pkl    3CE_UA01_D4B10.pkl     46CE_UA005_D4B10.pkl   6CE_DA005_D4B10.pkl   ' .foo.png'\n",
    " \"\"\""
   ]
  },
  {
   "cell_type": "code",
   "execution_count": 4,
   "metadata": {},
   "outputs": [
    {
     "data": {
      "text/plain": [
       "151"
      ]
     },
     "execution_count": 4,
     "metadata": {},
     "output_type": "execute_result"
    }
   ],
   "source": [
    "words = text.split()\n",
    "len(words)"
   ]
  },
  {
   "cell_type": "markdown",
   "metadata": {},
   "source": [
    "# Algorithm"
   ]
  },
  {
   "cell_type": "markdown",
   "metadata": {},
   "source": [
    "## Missing"
   ]
  },
  {
   "cell_type": "code",
   "execution_count": 5,
   "metadata": {},
   "outputs": [],
   "source": [
    "### Combined Analysis for Unique and Duplicate ###\n",
    "TotalCountUnique = []\n",
    "TotalCountDuplicate = []\n",
    "TotalCountDuplicateUNQ = []\n",
    "TotalCountDuplicateDPL = []\n",
    "\n",
    "for i in range(0, 50):\n",
    "    substringUNQ = str(i) + Abbrv + \"_UA\" +str(Threshold)\n",
    "    substringDPL = str(i) + Abbrv + \"_DA\" +str(Threshold)\n",
    "\n",
    "    # Unique occurrences\n",
    "    unique_occurrencesUNQ = {word for word in words if word.startswith(substringUNQ)}\n",
    "    unique_occurrencesDPL = {word for word in words if word.startswith(substringDPL)}\n",
    "\n",
    "    countUNQ = len(unique_occurrencesUNQ)\n",
    "    countDPL = len(unique_occurrencesDPL)\n",
    "\n",
    "    TotalCountUnique.append(countUNQ)\n",
    "    TotalCountDuplicate.append(countDPL)\n",
    "\n",
    "    # Duplicate occurrences\n",
    "    occurrencesUNQ = [word for word in words if word.startswith(substringUNQ)]\n",
    "    occurrencesDPL = [word for word in words if word.startswith(substringDPL)]\n",
    "\n",
    "    countDuplicatesUNQ = len(occurrencesUNQ)\n",
    "    countDuplicatesDPL = len(occurrencesDPL)\n",
    "\n",
    "    TotalCountDuplicateUNQ.append(countDuplicatesUNQ)\n",
    "    TotalCountDuplicateDPL.append(countDuplicatesDPL)\n",
    "\n",
    "### Convert to DataFrames ###\n",
    "TotalCountUnique = pd.DataFrame(TotalCountUnique, columns=[\"Unique\"])\n",
    "TotalCountDuplicate = pd.DataFrame(TotalCountDuplicate, columns=[\"Duplicate\"])\n",
    "TotalCountDuplicateUNQ = pd.DataFrame(TotalCountDuplicateUNQ, columns=[\"Duplicate_UNQ\"])\n",
    "TotalCountDuplicateDPL = pd.DataFrame(TotalCountDuplicateDPL, columns=[\"Duplicate_DPL\"])\n",
    "\n",
    "### Identify Missing ###\n",
    "MissingUNQ = list(TotalCountUnique[TotalCountUnique[\"Unique\"] < 1].index)\n",
    "MissingDPL = list(TotalCountDuplicate[TotalCountDuplicate[\"Duplicate\"] < 1].index)\n",
    "\n",
    "### Identify Duplicates ###\n",
    "DuplicateIndicesUNQ = list(TotalCountDuplicateUNQ[TotalCountDuplicateUNQ[\"Duplicate_UNQ\"] > 1].index)\n",
    "DuplicateIndicesDPL = list(TotalCountDuplicateDPL[TotalCountDuplicateDPL[\"Duplicate_DPL\"] > 1].index)\n",
    "\n",
    "### Have Both ###\n",
    "InBothBoolean = (TotalCountUnique[\"Unique\"] == 1) & (TotalCountDuplicate[\"Duplicate\"] == 1)\n",
    "HaveBoth = list(InBothBoolean[InBothBoolean == True].index)"
   ]
  },
  {
   "cell_type": "markdown",
   "metadata": {},
   "source": [
    "# Results"
   ]
  },
  {
   "cell_type": "code",
   "execution_count": 6,
   "metadata": {},
   "outputs": [
    {
     "name": "stdout",
     "output_type": "stream",
     "text": [
      "Missing Indices for UNQ: [2, 9, 19, 33, 37, 44, 47, 48]\n",
      "Missing Indices for DPL: [2, 9, 16, 19, 24, 32, 33, 37, 38, 44, 45, 47, 48]\n",
      "Duplicate Indices for UNQ: []\n",
      "Duplicate Indices for DPL: []\n"
     ]
    }
   ],
   "source": [
    "### Outputs ###\n",
    "print(\"Missing Indices for UNQ:\", MissingUNQ)\n",
    "print(\"Missing Indices for DPL:\", MissingDPL)\n",
    "print(\"Duplicate Indices for UNQ:\", DuplicateIndicesUNQ)\n",
    "print(\"Duplicate Indices for DPL:\", DuplicateIndicesDPL)"
   ]
  },
  {
   "cell_type": "markdown",
   "metadata": {},
   "source": [
    "# Generate Missing JobNames"
   ]
  },
  {
   "cell_type": "code",
   "execution_count": 7,
   "metadata": {},
   "outputs": [],
   "source": [
    "MissingDPL_List = [str(item) + Abbrv + \"_DA\" + str(str(Threshold)) + \"_D4B5\" for item in MissingDPL]\n",
    "MissingUNQ_List = [str(item) + Abbrv + \"_UA\" + str(str(Threshold)) + \"_D4B5\" for item in MissingUNQ]\n",
    "# HaveBothDPL_List = [str(item) + Abbrv + \"_DA\" + str(str(Threshold)) for item in HaveBoth[0:UpToNum]]\n",
    "# HaveBothUNQ_List = [str(item) + Abbrv + \"_UA\" + str(str(Threshold)) for item in HaveBoth[0:UpToNum]]\n",
    "\n",
    "HaveBothDPL_List = [str(item) + Abbrv + \"_DA\" + str(str(Threshold)) + \"_D4B5\" for item in HaveBoth]\n",
    "HaveBothUNQ_List = [str(item) + Abbrv + \"_UA\" + str(str(Threshold)) + \"_D4B5\" for item in HaveBoth]"
   ]
  },
  {
   "cell_type": "code",
   "execution_count": 8,
   "metadata": {},
   "outputs": [
    {
     "name": "stdout",
     "output_type": "stream",
     "text": [
      "Missing (combined) JobNames:\n",
      "['2CE_DA01_D4B5', '9CE_DA01_D4B5', '16CE_DA01_D4B5', '19CE_DA01_D4B5', '24CE_DA01_D4B5', '32CE_DA01_D4B5', '33CE_DA01_D4B5', '37CE_DA01_D4B5', '38CE_DA01_D4B5', '44CE_DA01_D4B5', '45CE_DA01_D4B5', '47CE_DA01_D4B5', '48CE_DA01_D4B5', '2CE_UA01_D4B5', '9CE_UA01_D4B5', '19CE_UA01_D4B5', '33CE_UA01_D4B5', '37CE_UA01_D4B5', '44CE_UA01_D4B5', '47CE_UA01_D4B5', '48CE_UA01_D4B5']\n"
     ]
    }
   ],
   "source": [
    "# print(\"Missing JobNames for UNQ:\", MissingUNQ_List)\n",
    "# print(\"Missing JobNames for DPL:\", MissingDPL_List)\n",
    "print(\"Missing (combined) JobNames:\")\n",
    "print(MissingDPL_List + MissingUNQ_List)"
   ]
  },
  {
   "cell_type": "code",
   "execution_count": 9,
   "metadata": {},
   "outputs": [
    {
     "name": "stdout",
     "output_type": "stream",
     "text": [
      "Have both JobNames:\n",
      "[0, 1, 3, 4, 5, 6, 7, 8, 10, 11, 12, 13, 14, 15, 17, 18, 20, 21, 22, 23, 25, 26, 27, 28, 29, 30, 31, 34, 35, 36, 39, 40, 41, 42, 43, 46, 49]\n",
      "['0CE_DA01_D4B5', '1CE_DA01_D4B5', '3CE_DA01_D4B5', '4CE_DA01_D4B5', '5CE_DA01_D4B5', '6CE_DA01_D4B5', '7CE_DA01_D4B5', '8CE_DA01_D4B5', '10CE_DA01_D4B5', '11CE_DA01_D4B5', '12CE_DA01_D4B5', '13CE_DA01_D4B5', '14CE_DA01_D4B5', '15CE_DA01_D4B5', '17CE_DA01_D4B5', '18CE_DA01_D4B5', '20CE_DA01_D4B5', '21CE_DA01_D4B5', '22CE_DA01_D4B5', '23CE_DA01_D4B5', '25CE_DA01_D4B5', '26CE_DA01_D4B5', '27CE_DA01_D4B5', '28CE_DA01_D4B5', '29CE_DA01_D4B5', '30CE_DA01_D4B5', '31CE_DA01_D4B5', '34CE_DA01_D4B5', '35CE_DA01_D4B5', '36CE_DA01_D4B5', '39CE_DA01_D4B5', '40CE_DA01_D4B5', '41CE_DA01_D4B5', '42CE_DA01_D4B5', '43CE_DA01_D4B5', '46CE_DA01_D4B5', '49CE_DA01_D4B5', '0CE_UA01_D4B5', '1CE_UA01_D4B5', '3CE_UA01_D4B5', '4CE_UA01_D4B5', '5CE_UA01_D4B5', '6CE_UA01_D4B5', '7CE_UA01_D4B5', '8CE_UA01_D4B5', '10CE_UA01_D4B5', '11CE_UA01_D4B5', '12CE_UA01_D4B5', '13CE_UA01_D4B5', '14CE_UA01_D4B5', '15CE_UA01_D4B5', '17CE_UA01_D4B5', '18CE_UA01_D4B5', '20CE_UA01_D4B5', '21CE_UA01_D4B5', '22CE_UA01_D4B5', '23CE_UA01_D4B5', '25CE_UA01_D4B5', '26CE_UA01_D4B5', '27CE_UA01_D4B5', '28CE_UA01_D4B5', '29CE_UA01_D4B5', '30CE_UA01_D4B5', '31CE_UA01_D4B5', '34CE_UA01_D4B5', '35CE_UA01_D4B5', '36CE_UA01_D4B5', '39CE_UA01_D4B5', '40CE_UA01_D4B5', '41CE_UA01_D4B5', '42CE_UA01_D4B5', '43CE_UA01_D4B5', '46CE_UA01_D4B5', '49CE_UA01_D4B5']\n"
     ]
    }
   ],
   "source": [
    "print(\"Have both JobNames:\")\n",
    "print(HaveBoth)\n",
    "print(HaveBothDPL_List + HaveBothUNQ_List)"
   ]
  },
  {
   "cell_type": "code",
   "execution_count": 10,
   "metadata": {},
   "outputs": [
    {
     "data": {
      "text/plain": [
       "37"
      ]
     },
     "execution_count": 10,
     "metadata": {},
     "output_type": "execute_result"
    }
   ],
   "source": [
    "len(HaveBoth)"
   ]
  },
  {
   "cell_type": "code",
   "execution_count": 11,
   "metadata": {},
   "outputs": [
    {
     "data": {
      "text/plain": [
       "Index([ 0,  1,  3,  4,  5,  6,  7,  8, 10, 11, 12, 13, 14, 15, 16, 17, 18, 20,\n",
       "       21, 22, 23, 24, 25, 26, 27, 28, 29, 30, 31, 32, 34, 35, 36, 38, 39, 40,\n",
       "       41, 42, 43, 45, 46, 49],\n",
       "      dtype='int64')"
      ]
     },
     "execution_count": 11,
     "metadata": {},
     "output_type": "execute_result"
    }
   ],
   "source": [
    "TotalCountUnique[TotalCountUnique[\"Unique\"] == 1].index"
   ]
  }
 ],
 "metadata": {
  "kernelspec": {
   "display_name": "rashomon-3.9",
   "language": "python",
   "name": "python3"
  },
  "language_info": {
   "codemirror_mode": {
    "name": "ipython",
    "version": 3
   },
   "file_extension": ".py",
   "mimetype": "text/x-python",
   "name": "python",
   "nbconvert_exporter": "python",
   "pygments_lexer": "ipython3",
   "version": "3.9.20"
  }
 },
 "nbformat": 4,
 "nbformat_minor": 2
}

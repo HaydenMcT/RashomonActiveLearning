{
 "cells": [
  {
   "cell_type": "code",
   "execution_count": 2,
   "metadata": {},
   "outputs": [],
   "source": [
    "### Import packages ###\n",
    "import time\n",
    "import numpy as np\n",
    "import math as math\n",
    "import pandas as pd\n",
    "import random as random\n",
    "\n",
    "### Append Path ###\n",
    "import sys\n",
    "sys.path.append('..')\n",
    "\n",
    "### Import functions ###\n",
    "from utils.Main import *\n",
    "from utils.Selector import *\n",
    "from utils.Auxiliary import *\n",
    "from utils.Prediction import *"
   ]
  },
  {
   "cell_type": "markdown",
   "metadata": {},
   "source": [
    "# Inputs"
   ]
  },
  {
   "cell_type": "code",
   "execution_count": 3,
   "metadata": {},
   "outputs": [],
   "source": [
    "### Get Directory ###\n",
    "cwd = os.getcwd()\n",
    "ParentDirectory = os.path.abspath(os.path.join(cwd, \"..\",\"..\"))\n",
    "\n",
    "### DataType ###\n",
    "DataFileInput = \"BankNote\"  # BankNote  Bar7  BreastCancer  CarEvaluation  COMPAS  FICO  Haberman  Iris  MONK1  MONK3"
   ]
  },
  {
   "cell_type": "code",
   "execution_count": 5,
   "metadata": {},
   "outputs": [
    {
     "name": "stdout",
     "output_type": "stream",
     "text": [
      "Iteration: 0\n",
      "treefarms reported successful execution\n",
      "training completed. Number of trees in the Rashomon set: 3\n",
      "null\n",
      "Finding Optimal Objective...\n",
      "{\n",
      "  \"false\": {\n",
      "    \"false\": {\n",
      "      \"complexity\": 0.009999999776482582,\n",
      "      \"loss\": 0.004566209856420755,\n",
      "      \"name\": \"Y\",\n",
      "      \"prediction\": 0\n",
      "    },\n",
      "    \"feature\": 0,\n",
      "    \"name\": \"variance_leq_-3\",\n",
      "    \"reference\": 1,\n",
      "    \"relation\": \"==\",\n",
      "    \"true\": {\n",
      "      \"complexity\": 0.009999999776482582,\n",
      "      \"loss\": 0.0,\n",
      "      \"name\": \"Y\",\n",
      "      \"prediction\": 1\n",
      "    },\n",
      "    \"type\": \"integral\"\n",
      "  },\n",
      "  \"feature\": 5,\n",
      "  \"model_objective\": 0.09022830426692963,\n",
      "  \"name\": \"skewness_leq_5\",\n",
      "  \"reference\": 1,\n",
      "  \"relation\": \"==\",\n",
      "  \"true\": {\n",
      "    \"false\": {\n",
      "      \"complexity\": 0.009999999776482582,\n",
      "      \"loss\": 0.013698630034923553,\n",
      "      \"name\": \"Y\",\n",
      "      \"prediction\": 0\n",
      "    },\n",
      "    \"feature\": 3,\n",
      "    \"name\": \"variance_leq_1\",\n",
      "    \"reference\": 1,\n",
      "    \"relation\": \"==\",\n",
      "    \"true\": {\n",
      "      \"complexity\": 0.009999999776482582,\n",
      "      \"loss\": 0.031963467597961426,\n",
      "      \"name\": \"Y\",\n",
      "      \"prediction\": 1\n",
      "    },\n",
      "    \"type\": \"integral\"\n",
      "  },\n",
      "  \"type\": \"integral\"\n",
      "}\n",
      "Iteration: 1\n",
      "Iteration: 2\n",
      "Iteration: 3\n",
      "Iteration: 4\n",
      "Iteration: 5\n",
      "Iteration: 6\n",
      "Iteration: 7\n",
      "Iteration: 8\n",
      "Iteration: 9\n",
      "Iteration: 10\n",
      "Iteration: 11\n",
      "Iteration: 12\n",
      "Iteration: 13\n",
      "Iteration: 14\n",
      "Iteration: 15\n",
      "Iteration: 16\n",
      "Iteration: 17\n",
      "Iteration: 18\n",
      "Iteration: 19\n",
      "Iteration: 20\n",
      "Iteration: 21\n",
      "Iteration: 22\n",
      "Iteration: 23\n",
      "Iteration: 24\n",
      "Iteration: 25\n",
      "Iteration: 26\n",
      "Iteration: 27\n",
      "Iteration: 28\n",
      "Iteration: 29\n",
      "Iteration: 30\n",
      "Iteration: 31\n",
      "Iteration: 32\n",
      "Iteration: 33\n",
      "Iteration: 34\n",
      "Iteration: 35\n",
      "Iteration: 36\n",
      "Iteration: 37\n",
      "Iteration: 38\n",
      "Iteration: 39\n",
      "Iteration: 40\n",
      "Iteration: 41\n",
      "Iteration: 42\n",
      "Iteration: 43\n",
      "Iteration: 44\n",
      "Iteration: 45\n",
      "Iteration: 46\n",
      "Iteration: 47\n",
      "Iteration: 48\n",
      "Iteration: 49\n",
      "Iteration: 50\n",
      "Iteration: 51\n",
      "Iteration: 52\n",
      "Iteration: 53\n",
      "Iteration: 54\n",
      "Iteration: 55\n",
      "Iteration: 56\n",
      "Iteration: 57\n",
      "Iteration: 58\n",
      "Iteration: 59\n",
      "Iteration: 60\n",
      "Iteration: 61\n",
      "Iteration: 62\n",
      "Iteration: 63\n",
      "Iteration: 64\n",
      "Iteration: 65\n",
      "Iteration: 66\n",
      "Iteration: 67\n",
      "Iteration: 68\n",
      "Iteration: 69\n",
      "Iteration: 70\n",
      "Iteration: 71\n",
      "Iteration: 72\n",
      "Iteration: 73\n",
      "Iteration: 74\n",
      "Iteration: 75\n",
      "Iteration: 76\n",
      "Iteration: 77\n",
      "Iteration: 78\n",
      "Iteration: 79\n",
      "Iteration: 80\n",
      "Iteration: 81\n",
      "Iteration: 82\n",
      "Iteration: 83\n",
      "Iteration: 84\n",
      "Iteration: 85\n",
      "Iteration: 86\n",
      "Iteration: 87\n"
     ]
    }
   ],
   "source": [
    "SimulationConfigInput = {'DataFileInput': DataFileInput,\n",
    "    'Seed': 1,\n",
    "    'TestProportion': 0.2,\n",
    "    'CandidateProportion': 0.8,\n",
    "    'SelectorType': 'BatchQBCSelector', # PassiveLearningSelector, BALDSelector, BatchQBCSelector\n",
    "    'ModelType': 'LFRPredictor', # RandomForestClassifierPredictor, BayesianNeuralNetworkPredictor, TreeFarmsPredictor, GaussianProcessClassifierPredictor\n",
    "    'UniqueErrorsInput': 0,\n",
    "    'n_estimators': 100,\n",
    "    'regularization': 0.01,\n",
    "    'RashomonThresholdType': \"Adder\",\n",
    "    'RashomonThreshold': 0.015,\n",
    "    'Type': 'Classification',\n",
    "    \"DiversityWeight\" : 0,\n",
    "    \"DensityWeight\" : 0,\n",
    "    \"BatchSize\" : 10}\n",
    "Results = OneIterationFunction(SimulationConfigInput)"
   ]
  },
  {
   "cell_type": "code",
   "execution_count": 7,
   "metadata": {},
   "outputs": [
    {
     "data": {
      "application/vnd.microsoft.datawrangler.viewer.v0+json": {
       "columns": [
        {
         "name": "index",
         "rawType": "int64",
         "type": "integer"
        },
        {
         "name": "Error",
         "rawType": "float64",
         "type": "float"
        }
       ],
       "ref": "04a383b5-1c11-4e93-a915-0aecefb63cc8",
       "rows": [
        [
         "0",
         "0.88"
        ],
        [
         "1",
         "0.9090909090909091"
        ],
        [
         "2",
         "0.9090909090909091"
        ],
        [
         "3",
         "0.9090909090909091"
        ],
        [
         "4",
         "0.9090909090909091"
        ],
        [
         "5",
         "0.9090909090909091"
        ],
        [
         "6",
         "0.9090909090909091"
        ],
        [
         "7",
         "0.9090909090909091"
        ],
        [
         "8",
         "0.9090909090909091"
        ],
        [
         "9",
         "0.9090909090909091"
        ],
        [
         "10",
         "0.9090909090909091"
        ],
        [
         "11",
         "0.9090909090909091"
        ],
        [
         "12",
         "0.9090909090909091"
        ],
        [
         "13",
         "0.9090909090909091"
        ],
        [
         "14",
         "0.9090909090909091"
        ],
        [
         "15",
         "0.9090909090909091"
        ],
        [
         "16",
         "0.9090909090909091"
        ],
        [
         "17",
         "0.9090909090909091"
        ],
        [
         "18",
         "0.9090909090909091"
        ],
        [
         "19",
         "0.9090909090909091"
        ],
        [
         "20",
         "0.9090909090909091"
        ],
        [
         "21",
         "0.9090909090909091"
        ],
        [
         "22",
         "0.9090909090909091"
        ],
        [
         "23",
         "0.9090909090909091"
        ],
        [
         "24",
         "0.9090909090909091"
        ],
        [
         "25",
         "0.9090909090909091"
        ],
        [
         "26",
         "0.9090909090909091"
        ],
        [
         "27",
         "0.9090909090909091"
        ],
        [
         "28",
         "0.9090909090909091"
        ],
        [
         "29",
         "0.9090909090909091"
        ],
        [
         "30",
         "0.9090909090909091"
        ],
        [
         "31",
         "0.9090909090909091"
        ],
        [
         "32",
         "0.9090909090909091"
        ],
        [
         "33",
         "0.9090909090909091"
        ],
        [
         "34",
         "0.9090909090909091"
        ],
        [
         "35",
         "0.9090909090909091"
        ],
        [
         "36",
         "0.9090909090909091"
        ],
        [
         "37",
         "0.9090909090909091"
        ],
        [
         "38",
         "0.9090909090909091"
        ],
        [
         "39",
         "0.9090909090909091"
        ],
        [
         "40",
         "0.9090909090909091"
        ],
        [
         "41",
         "0.9090909090909091"
        ],
        [
         "42",
         "0.9090909090909091"
        ],
        [
         "43",
         "0.9090909090909091"
        ],
        [
         "44",
         "0.9090909090909091"
        ],
        [
         "45",
         "0.9090909090909091"
        ],
        [
         "46",
         "0.9090909090909091"
        ],
        [
         "47",
         "0.9090909090909091"
        ],
        [
         "48",
         "0.9090909090909091"
        ],
        [
         "49",
         "0.9090909090909091"
        ]
       ],
       "shape": {
        "columns": 1,
        "rows": 88
       }
      },
      "text/html": [
       "<div>\n",
       "<style scoped>\n",
       "    .dataframe tbody tr th:only-of-type {\n",
       "        vertical-align: middle;\n",
       "    }\n",
       "\n",
       "    .dataframe tbody tr th {\n",
       "        vertical-align: top;\n",
       "    }\n",
       "\n",
       "    .dataframe thead th {\n",
       "        text-align: right;\n",
       "    }\n",
       "</style>\n",
       "<table border=\"1\" class=\"dataframe\">\n",
       "  <thead>\n",
       "    <tr style=\"text-align: right;\">\n",
       "      <th></th>\n",
       "      <th>Error</th>\n",
       "    </tr>\n",
       "  </thead>\n",
       "  <tbody>\n",
       "    <tr>\n",
       "      <th>0</th>\n",
       "      <td>0.880000</td>\n",
       "    </tr>\n",
       "    <tr>\n",
       "      <th>1</th>\n",
       "      <td>0.909091</td>\n",
       "    </tr>\n",
       "    <tr>\n",
       "      <th>2</th>\n",
       "      <td>0.909091</td>\n",
       "    </tr>\n",
       "    <tr>\n",
       "      <th>3</th>\n",
       "      <td>0.909091</td>\n",
       "    </tr>\n",
       "    <tr>\n",
       "      <th>4</th>\n",
       "      <td>0.909091</td>\n",
       "    </tr>\n",
       "    <tr>\n",
       "      <th>...</th>\n",
       "      <td>...</td>\n",
       "    </tr>\n",
       "    <tr>\n",
       "      <th>83</th>\n",
       "      <td>0.909091</td>\n",
       "    </tr>\n",
       "    <tr>\n",
       "      <th>84</th>\n",
       "      <td>0.909091</td>\n",
       "    </tr>\n",
       "    <tr>\n",
       "      <th>85</th>\n",
       "      <td>0.909091</td>\n",
       "    </tr>\n",
       "    <tr>\n",
       "      <th>86</th>\n",
       "      <td>0.909091</td>\n",
       "    </tr>\n",
       "    <tr>\n",
       "      <th>87</th>\n",
       "      <td>0.909091</td>\n",
       "    </tr>\n",
       "  </tbody>\n",
       "</table>\n",
       "<p>88 rows × 1 columns</p>\n",
       "</div>"
      ],
      "text/plain": [
       "       Error\n",
       "0   0.880000\n",
       "1   0.909091\n",
       "2   0.909091\n",
       "3   0.909091\n",
       "4   0.909091\n",
       "..       ...\n",
       "83  0.909091\n",
       "84  0.909091\n",
       "85  0.909091\n",
       "86  0.909091\n",
       "87  0.909091\n",
       "\n",
       "[88 rows x 1 columns]"
      ]
     },
     "execution_count": 7,
     "metadata": {},
     "output_type": "execute_result"
    }
   ],
   "source": [
    "Results[\"ErrorVec\"]"
   ]
  },
  {
   "cell_type": "markdown",
   "metadata": {},
   "source": [
    "---\n",
    "---"
   ]
  },
  {
   "cell_type": "code",
   "execution_count": 4,
   "metadata": {},
   "outputs": [],
   "source": [
    "### Set Up ###\n",
    "StartTime = time.time()\n",
    "random.seed(SimulationConfigInput[\"Seed\"])\n",
    "np.random.seed(SimulationConfigInput[\"Seed\"])\n",
    "\n",
    "### Load Data ###\n",
    "df = LoadData(SimulationConfigInput[\"DataFileInput\"])\n",
    "\n",
    "### Train Test Candidate Split ###\n",
    "from utils.Main import TrainTestCandidateSplit                           ### NOTE: Why is this not imported from utils.Main import *\n",
    "df_Train, df_Test, df_Candidate = TrainTestCandidateSplit(df, SimulationConfigInput[\"TestProportion\"], SimulationConfigInput[\"CandidateProportion\"])\n",
    "\n",
    "### Add Batch Active Learning Metrics ###\n",
    "df_Candidate = DiversityMetricsFunction(df_Candidate, df_Train, k=10)\n",
    "SimulationConfigInput['auxiliary_data_cols'] = ['DiversityScores', 'DensityScores']\n",
    "\n",
    "### Update SimulationConfig Arguments ###\n",
    "SimulationConfigInput['df_Train'] = df_Train\n",
    "SimulationConfigInput[\"df_Test\"] = df_Test\n",
    "SimulationConfigInput[\"df_Candidate\"] = df_Candidate"
   ]
  },
  {
   "cell_type": "code",
   "execution_count": 6,
   "metadata": {},
   "outputs": [
    {
     "data": {
      "text/plain": [
       "dict_keys(['DataFileInput', 'Seed', 'TestProportion', 'CandidateProportion', 'SelectorType', 'ModelType', 'UniqueErrorsInput', 'n_estimators', 'regularization', 'RashomonThresholdType', 'RashomonThreshold', 'Type', 'DiversityWeight', 'DensityWeight', 'BatchSize', 'auxiliary_data_cols', 'df_Train', 'df_Test', 'df_Candidate', 'Model'])"
      ]
     },
     "execution_count": 6,
     "metadata": {},
     "output_type": "execute_result"
    }
   ],
   "source": [
    "SimulationConfigInput.keys()"
   ]
  },
  {
   "cell_type": "markdown",
   "metadata": {},
   "source": [
    "# Learning Procedure"
   ]
  },
  {
   "cell_type": "code",
   "execution_count": 6,
   "metadata": {},
   "outputs": [],
   "source": [
    "### Input ###\n",
    "SimulationConfigInputUpdated = SimulationConfigInput"
   ]
  },
  {
   "cell_type": "code",
   "execution_count": 7,
   "metadata": {},
   "outputs": [],
   "source": [
    "### Set Up ###\n",
    "ErrorVec = []\n",
    "SelectedObservationHistory = []\n",
    "TreeCount = {\"AllTreeCount\": [], \"UniqueTreeCount\": []}"
   ]
  },
  {
   "cell_type": "code",
   "execution_count": 8,
   "metadata": {},
   "outputs": [],
   "source": [
    "### Set Up ###\n",
    "i=0\n"
   ]
  },
  {
   "cell_type": "markdown",
   "metadata": {},
   "source": [
    "## Initialize model"
   ]
  },
  {
   "cell_type": "code",
   "execution_count": null,
   "metadata": {},
   "outputs": [],
   "source": [
    "# Initialize the model instance *once* before the loop\n",
    "ModelClass = globals().get(SimulationConfigInputUpdated[\"ModelType\"], None)\n",
    "\n",
    "# Extract only relevant args for the ModelClass __init__\n",
    "model_init_args = {k: v for k, v in SimulationConfigInputUpdated.items() \n",
    "                    if k in inspect.signature(ModelClass.__init__).parameters}\n",
    "\n",
    "# Create the model instance\n",
    "predictor_model = ModelClass(**model_init_args) \n",
    "\n",
    "# We will pass this instance around instead of the class itself\n",
    "SimulationConfigInputUpdated['Model'] = predictor_model \n"
   ]
  },
  {
   "cell_type": "markdown",
   "metadata": {},
   "source": [
    "## Train and test model"
   ]
  },
  {
   "cell_type": "code",
   "execution_count": 11,
   "metadata": {},
   "outputs": [
    {
     "name": "stdout",
     "output_type": "stream",
     "text": [
      "Iteration: 0\n"
     ]
    }
   ],
   "source": [
    "print(\"Iteration: \" + str(i))\n",
    "\n",
    "# Get features and target for the current training set\n",
    "X_train_df, y_train_series = get_features_and_target(\n",
    "    df=SimulationConfigInputUpdated[\"df_Train\"],\n",
    "    target_column_name=\"Y\",\n",
    "    auxiliary_columns=SimulationConfigInputUpdated.get('auxiliary_data_cols', [])\n",
    ")\n",
    "\n",
    "# Train Prediction Model: \n",
    "predictor_model.fit(X_train_df=X_train_df, y_train_series=y_train_series)\n",
    "\n",
    "### Test Error ###\n",
    "TestErrorOutput = TestErrorFunction(InputModel=predictor_model, # Pass the instance\n",
    "                                    df_Test=SimulationConfigInputUpdated[\"df_Test\"],\n",
    "                                    Type=SimulationConfigInputUpdated[\"Type\"],\n",
    "                                    auxiliary_columns=SimulationConfigInputUpdated.get('auxiliary_data_cols', []))\n",
    "CurrentError = TestErrorOutput[\"ErrorVal\"]\n",
    "ErrorVec.append(CurrentError)"
   ]
  },
  {
   "cell_type": "markdown",
   "metadata": {},
   "source": [
    "## Sampling procedure"
   ]
  },
  {
   "cell_type": "code",
   "execution_count": 12,
   "metadata": {},
   "outputs": [],
   "source": [
    "### Sampling Procedure ###\n",
    "SelectorType = globals().get(SimulationConfigInputUpdated[\"SelectorType\"], None)\n",
    "SelectorArgsFiltered = FilterArguments(SelectorType, SimulationConfigInputUpdated) \n",
    "SelectorArgsFiltered['auxiliary_columns'] = SimulationConfigInputUpdated.get('auxiliary_data_cols', [])\n",
    "SelectorFuncOutput = SelectorType(**SelectorArgsFiltered)\n",
    "QueryObservationIndex = SelectorFuncOutput[\"IndexRecommendation\"]\n",
    "QueryObservation = SimulationConfigInputUpdated[\"df_Candidate\"].loc[QueryObservationIndex]\n",
    "SelectedObservationHistory.append(QueryObservationIndex)"
   ]
  },
  {
   "cell_type": "markdown",
   "metadata": {},
   "source": [
    "## Update and store"
   ]
  },
  {
   "cell_type": "code",
   "execution_count": 13,
   "metadata": {},
   "outputs": [],
   "source": [
    "\n",
    "### Update Train and Candidate Sets ###\n",
    "SimulationConfigInputUpdated[\"df_Train\"] = pd.concat([SimulationConfigInputUpdated[\"df_Train\"], QueryObservation]).drop(columns=['DiversityScores', 'DensityScores'])\n",
    "SimulationConfigInputUpdated[\"df_Candidate\"] = SimulationConfigInputUpdated[\"df_Candidate\"].drop(QueryObservationIndex)\n",
    "\n",
    "### Store Number of (Unique) Trees ###\n",
    "if hasattr(predictor_model, 'get_tree_count'): \n",
    "        TreeCount[\"AllTreeCount\"].append(TestErrorOutput.get(\"AllTreeCount\", 0)) \n",
    "        TreeCount[\"UniqueTreeCount\"].append(TestErrorOutput.get(\"UniqueTreeCount\", 0))\n",
    "\n",
    "# Increase iteration #\n",
    "i+=1 "
   ]
  },
  {
   "cell_type": "markdown",
   "metadata": {},
   "source": [
    "# Save"
   ]
  },
  {
   "cell_type": "code",
   "execution_count": 14,
   "metadata": {},
   "outputs": [],
   "source": [
    "# ### Return Simulation Parameters ###\n",
    "# SimulationParameters = {\"DataFileInput\" : str(SimulationConfigInput[\"DataFileInput\"]),\n",
    "#                             \"Seed\" : str(SimulationConfigInput[\"Seed\"]),\n",
    "#                             \"TestProportion\" : str(SimulationConfigInput[\"TestProportion\"]),\n",
    "#                             \"CandidateProportion\" : str(SimulationConfigInput[\"CandidateProportion\"]),\n",
    "#                             \"SelectorType\" :  str(SimulationConfigInput[\"SelectorType\"]),\n",
    "#                             \"ModelType\" :  str(SimulationConfigInput[\"ModelType\"]),\n",
    "#                             'UniqueErrorsInput': str(SimulationConfigInput[\"UniqueErrorsInput\"]),\n",
    "#                             'n_estimators': str(SimulationConfigInput[\"n_estimators\"]),\n",
    "#                             'regularization': str(SimulationConfigInput[\"regularization\"]),\n",
    "#                             'RashomonThreshold': str(SimulationConfigInput[\"RashomonThreshold\"]),\n",
    "#                             'Type': 'Classification',\n",
    "#                             }"
   ]
  },
  {
   "cell_type": "code",
   "execution_count": 15,
   "metadata": {},
   "outputs": [],
   "source": [
    "# ### Return Time ###\n",
    "# ElapsedTime = time.time() - StartTime\n",
    "\n",
    "# ### Return Dictionary ###\n",
    "# SimulationResults = {\"ErrorVec\" : pd.DataFrame(ErrorVec, columns =[\"Error\"]),\n",
    "#                             \"SelectionHistory\" : pd.DataFrame(SelectedObservationHistory, columns = [\"ObservationID\"]),\n",
    "#                             \"SimulationParameters\" : SimulationParameters,\n",
    "#                             \"ElapsedTime\" : ElapsedTime}"
   ]
  }
 ],
 "metadata": {
  "kernelspec": {
   "display_name": "rashomon-3.9",
   "language": "python",
   "name": "python3"
  },
  "language_info": {
   "codemirror_mode": {
    "name": "ipython",
    "version": 3
   },
   "file_extension": ".py",
   "mimetype": "text/x-python",
   "name": "python",
   "nbconvert_exporter": "python",
   "pygments_lexer": "ipython3",
   "version": "3.9.20"
  }
 },
 "nbformat": 4,
 "nbformat_minor": 4
}

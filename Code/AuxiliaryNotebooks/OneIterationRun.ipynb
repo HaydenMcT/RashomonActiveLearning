{
 "cells": [
  {
   "cell_type": "code",
   "execution_count": 1,
   "metadata": {},
   "outputs": [],
   "source": [
    "### Import packages ###\n",
    "import time\n",
    "import numpy as np\n",
    "import math as math\n",
    "import pandas as pd\n",
    "import random as random\n",
    "\n",
    "### Append Path ###\n",
    "import sys\n",
    "sys.path.append('..')\n",
    "\n",
    "### Import functions ###\n",
    "from utils.Main import *\n",
    "from utils.Selector import *\n",
    "from utils.Auxiliary import *\n",
    "from utils.Prediction import *\n"
   ]
  },
  {
   "cell_type": "markdown",
   "metadata": {},
   "source": [
    "# Inputs"
   ]
  },
  {
   "cell_type": "code",
   "execution_count": 2,
   "metadata": {},
   "outputs": [],
   "source": [
    "### Get Directory ###\n",
    "cwd = os.getcwd()\n",
    "ParentDirectory = os.path.abspath(os.path.join(cwd, \"..\",\"..\"))\n",
    "\n",
    "### DataType ###\n",
    "DataFileInput = \"BankNote\"  # BankNote  Bar7  BreastCancer  CarEvaluation  COMPAS  FICO  Haberman  Iris  MONK1  MONK3"
   ]
  },
  {
   "cell_type": "code",
   "execution_count": null,
   "metadata": {},
   "outputs": [],
   "source": [
    "SimulationConfigInput = {'DataFileInput': DataFileInput,\n",
    "    'Seed': 1,\n",
    "    'TestProportion': 0.2,\n",
    "    'CandidateProportion': 0.8,\n",
    "    'SelectorType': 'BaldSelectorFunction', # BatchQBCDiversityFunction, PassiveLearning, BaldSelectorFunction\n",
    "    'ModelType': 'BayesianNeuralNetworkFunction', # RandomForestClassificationFunction, TreeFarmsFunction, BayesianNeuralNetworkFunction\n",
    "    'UniqueErrorsInput': 0,\n",
    "    'n_estimators': 100,\n",
    "    'regularization': 0.01,\n",
    "    'RashomonThresholdType': \"Adder\",\n",
    "    'RashomonThreshold': 0.015,\n",
    "    'Type': 'Classification',\n",
    "    \"DiversityWeight\" : 0.33,\n",
    "    \"DensityWeight\" : 0.33,\n",
    "    \"BatchSize\" : 10}\n",
    "# OneIterationFunction(SimulationConfigInput)\n"
   ]
  },
  {
   "cell_type": "code",
   "execution_count": 4,
   "metadata": {},
   "outputs": [],
   "source": [
    "### Set Up ###\n",
    "StartTime = time.time()\n",
    "random.seed(SimulationConfigInput[\"Seed\"])\n",
    "np.random.seed(SimulationConfigInput[\"Seed\"])\n",
    "\n",
    "### Load Data ###\n",
    "df = LoadData(SimulationConfigInput[\"DataFileInput\"])\n",
    "\n",
    "### Train Test Candidate Split ###\n",
    "from utils.Main import TrainTestCandidateSplit                           ### NOTE: Why is this not imported from utils.Main import *\n",
    "df_Train, df_Test, df_Candidate = TrainTestCandidateSplit(df, SimulationConfigInput[\"TestProportion\"], SimulationConfigInput[\"CandidateProportion\"])\n",
    "\n",
    "### Add Batch Active Learning Metrics ###\n",
    "df_Candidate = DiversityMetricsFunction(df_Candidate, df_Train, k=10)\n",
    "SimulationConfigInput['auxiliary_data_cols'] = ['DiversityScores', 'DensityScores']\n",
    "\n",
    "### Update SimulationConfig Arguments ###\n",
    "SimulationConfigInput['df_Train'] = df_Train\n",
    "SimulationConfigInput[\"df_Test\"] = df_Test\n",
    "SimulationConfigInput[\"df_Candidate\"] = df_Candidate"
   ]
  },
  {
   "cell_type": "markdown",
   "metadata": {},
   "source": [
    "# Learning Procedure"
   ]
  },
  {
   "cell_type": "code",
   "execution_count": 5,
   "metadata": {},
   "outputs": [],
   "source": [
    "### Input ###\n",
    "SimulationConfigInputUpdated = SimulationConfigInput"
   ]
  },
  {
   "cell_type": "code",
   "execution_count": 6,
   "metadata": {},
   "outputs": [],
   "source": [
    "### Set Up ###\n",
    "ErrorVec = []\n",
    "SelectedObservationHistory = []\n",
    "TreeCount = {\"AllTreeCount\": [], \"UniqueTreeCount\": []}"
   ]
  },
  {
   "cell_type": "code",
   "execution_count": 7,
   "metadata": {},
   "outputs": [],
   "source": [
    "### Set Up ###\n",
    "i=0\n"
   ]
  },
  {
   "cell_type": "code",
   "execution_count": 8,
   "metadata": {},
   "outputs": [
    {
     "name": "stdout",
     "output_type": "stream",
     "text": [
      "Iteration: 0\n"
     ]
    }
   ],
   "source": [
    "### Set Up Prediction Model ###\n",
    "print(\"Iteration: \" + str(i))\n",
    "ModelType = globals().get(SimulationConfigInputUpdated[\"ModelType\"], None)\n",
    "ModelArgsFiltered = FilterArguments(ModelType, SimulationConfigInputUpdated)\n",
    "\n",
    "X_train_df, y_train_series = get_features_and_target(\n",
    "    df=SimulationConfigInputUpdated[\"df_Train\"],\n",
    "    target_column_name=\"Y\",\n",
    "    auxiliary_columns=SimulationConfigInputUpdated.get('auxiliary_data_cols', [])\n",
    ")"
   ]
  },
  {
   "cell_type": "code",
   "execution_count": 9,
   "metadata": {},
   "outputs": [],
   "source": [
    "### Train Prediction Model ###\n",
    "if 'Seed' in ModelArgsFiltered:\n",
    "    del ModelArgsFiltered['Seed']\n",
    "Model = ModelType(X_train_df = X_train_df, \n",
    "                    y_train_series = y_train_series,\n",
    "                    Seed=SimulationConfigInputUpdated[\"Seed\"], \n",
    "                    **ModelArgsFiltered)\n",
    "SimulationConfigInputUpdated['Model'] = Model"
   ]
  },
  {
   "cell_type": "code",
   "execution_count": 10,
   "metadata": {},
   "outputs": [],
   "source": [
    "### Test Error ###\n",
    "TestErrorOutput = TestErrorFunction(InputModel=Model,\n",
    "                                    df_Test=SimulationConfigInputUpdated[\"df_Test\"],\n",
    "                                    Type=SimulationConfigInputUpdated[\"Type\"],\n",
    "                                    auxiliary_columns=SimulationConfigInputUpdated.get('auxiliary_data_cols', [])) # Pass aux cols\n",
    "if('TREEFARMS' in str(type(Model))):                                                       # If Rashomon\n",
    "    CurrentError = TestErrorOutput[\"Error_Duplicate\"]\n",
    "else: \n",
    "    CurrentError = TestErrorOutput[\"ErrorVal\"]                                               # One output for non-Rashomon\n",
    "ErrorVec.append(CurrentError)"
   ]
  },
  {
   "cell_type": "code",
   "execution_count": 11,
   "metadata": {},
   "outputs": [],
   "source": [
    "### Sampling Procedure ###\n",
    "SelectorType = globals().get(SimulationConfigInputUpdated[\"SelectorType\"], None)\n",
    "SelectorArgsFiltered = FilterArguments(SelectorType, SimulationConfigInputUpdated)\n",
    "SelectorArgsFiltered['auxiliary_columns'] = SimulationConfigInputUpdated.get('auxiliary_data_cols', [])\n",
    "SelectorFuncOutput = SelectorType(**SelectorArgsFiltered)\n",
    "QueryObservationIndex = SelectorFuncOutput[\"IndexRecommendation\"]\n",
    "QueryObservation = SimulationConfigInputUpdated[\"df_Candidate\"].loc[QueryObservationIndex]\n",
    "SelectedObservationHistory.append(QueryObservationIndex)"
   ]
  },
  {
   "cell_type": "code",
   "execution_count": 12,
   "metadata": {},
   "outputs": [
    {
     "data": {
      "text/plain": [
       "[[1253, 1225, 86, 1038, 1002, 1330, 781, 980, 1129, 1164]]"
      ]
     },
     "execution_count": 12,
     "metadata": {},
     "output_type": "execute_result"
    }
   ],
   "source": [
    "SelectedObservationHistory"
   ]
  },
  {
   "cell_type": "code",
   "execution_count": 13,
   "metadata": {},
   "outputs": [],
   "source": [
    "### Update Train and Candidate Sets ###\n",
    "SimulationConfigInputUpdated[\"df_Train\"] = pd.concat([SimulationConfigInputUpdated[\"df_Train\"], QueryObservation]).drop(columns=['DiversityScores', 'DensityScores'])\n",
    "SimulationConfigInputUpdated[\"df_Candidate\"] = SimulationConfigInputUpdated[\"df_Candidate\"].drop(QueryObservationIndex) "
   ]
  },
  {
   "cell_type": "code",
   "execution_count": 14,
   "metadata": {},
   "outputs": [],
   "source": [
    "### Store Number of (Unique) Trees ###\n",
    "if('TREEFARMS' in str(type(Model))):\n",
    "    TreeCount[\"AllTreeCount\"].append(SelectorFuncOutput[\"AllTreeCount\"])          # Store number of trees\n",
    "    TreeCount[\"UniqueTreeCount\"].append(SelectorFuncOutput[\"UniqueTreeCount\"])    # Store number of unique/duplicate trees\n"
   ]
  },
  {
   "cell_type": "markdown",
   "metadata": {},
   "source": [
    "# Save"
   ]
  },
  {
   "cell_type": "code",
   "execution_count": 14,
   "metadata": {},
   "outputs": [],
   "source": [
    "# ### Return Simulation Parameters ###\n",
    "# SimulationParameters = {\"DataFileInput\" : str(SimulationConfigInput[\"DataFileInput\"]),\n",
    "#                             \"Seed\" : str(SimulationConfigInput[\"Seed\"]),\n",
    "#                             \"TestProportion\" : str(SimulationConfigInput[\"TestProportion\"]),\n",
    "#                             \"CandidateProportion\" : str(SimulationConfigInput[\"CandidateProportion\"]),\n",
    "#                             \"SelectorType\" :  str(SimulationConfigInput[\"SelectorType\"]),\n",
    "#                             \"ModelType\" :  str(SimulationConfigInput[\"ModelType\"]),\n",
    "#                             'UniqueErrorsInput': str(SimulationConfigInput[\"UniqueErrorsInput\"]),\n",
    "#                             'n_estimators': str(SimulationConfigInput[\"n_estimators\"]),\n",
    "#                             'regularization': str(SimulationConfigInput[\"regularization\"]),\n",
    "#                             'RashomonThreshold': str(SimulationConfigInput[\"RashomonThreshold\"]),\n",
    "#                             'Type': 'Classification',\n",
    "#                             }"
   ]
  },
  {
   "cell_type": "code",
   "execution_count": 15,
   "metadata": {},
   "outputs": [],
   "source": [
    "# ### Return Time ###\n",
    "# ElapsedTime = time.time() - StartTime\n",
    "\n",
    "# ### Return Dictionary ###\n",
    "# SimulationResults = {\"ErrorVec\" : pd.DataFrame(ErrorVec, columns =[\"Error\"]),\n",
    "#                             \"SelectionHistory\" : pd.DataFrame(SelectedObservationHistory, columns = [\"ObservationID\"]),\n",
    "#                             \"SimulationParameters\" : SimulationParameters,\n",
    "#                             \"ElapsedTime\" : ElapsedTime}"
   ]
  }
 ],
 "metadata": {
  "kernelspec": {
   "display_name": "rashomon-3.9",
   "language": "python",
   "name": "python3"
  },
  "language_info": {
   "codemirror_mode": {
    "name": "ipython",
    "version": 3
   },
   "file_extension": ".py",
   "mimetype": "text/x-python",
   "name": "python",
   "nbconvert_exporter": "python",
   "pygments_lexer": "ipython3",
   "version": "3.9.20"
  }
 },
 "nbformat": 4,
 "nbformat_minor": 4
}
